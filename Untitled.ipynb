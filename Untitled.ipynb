{
 "cells": [
  {
   "cell_type": "markdown",
   "id": "166d14a1",
   "metadata": {},
   "source": [
    "# Hypothesis Test\n",
    "\n",
    "### Hypothesis Testing for Categorical Variables\n",
    "1.  Is there a significant association between the vendorProject and the likelihood of a vulnerability being associated with a ransomware campaign?\n",
    "2. Does the specific vulnerability type significantly influence the classification of a vulnerability as associated with a known ransomware campaign?\n",
    "3.Question: Does the dateAdded (or the age of the vulnerability) significantly affect the likelihood of being associated with a ransomware campaign?\n",
    "4. Are certain products more likely to be associated with vulnerabilities targeted by ransomware campaigns?\n",
    "5. Is there a significant difference in the likelihood of ransomware association among different types of vulnerabilities?\n"
   ]
  },
  {
   "cell_type": "code",
   "execution_count": null,
   "id": "44a85217",
   "metadata": {},
   "outputs": [],
   "source": []
  }
 ],
 "metadata": {
  "kernelspec": {
   "display_name": "Python 3 (ipykernel)",
   "language": "python",
   "name": "python3"
  },
  "language_info": {
   "codemirror_mode": {
    "name": "ipython",
    "version": 3
   },
   "file_extension": ".py",
   "mimetype": "text/x-python",
   "name": "python",
   "nbconvert_exporter": "python",
   "pygments_lexer": "ipython3",
   "version": "3.11.7"
  }
 },
 "nbformat": 4,
 "nbformat_minor": 5
}
