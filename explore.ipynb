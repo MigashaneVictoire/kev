{
 "cells": [
  {
   "cell_type": "markdown",
   "id": "dc4d44ad",
   "metadata": {},
   "source": [
    "# Exploratory Data Analysis (EDA)\n",
    "\n",
    "Here I will explore relationships between the different features in my data."
   ]
  },
  {
   "cell_type": "code",
   "execution_count": 30,
   "id": "80322ac4",
   "metadata": {},
   "outputs": [],
   "source": [
    "# imports\n",
    "import pandas as pd"
   ]
  },
  {
   "cell_type": "code",
   "execution_count": 32,
   "id": "29e72ed8",
   "metadata": {},
   "outputs": [
    {
     "data": {
      "text/html": [
       "<div>\n",
       "<style scoped>\n",
       "    .dataframe tbody tr th:only-of-type {\n",
       "        vertical-align: middle;\n",
       "    }\n",
       "\n",
       "    .dataframe tbody tr th {\n",
       "        vertical-align: top;\n",
       "    }\n",
       "\n",
       "    .dataframe thead th {\n",
       "        text-align: right;\n",
       "    }\n",
       "</style>\n",
       "<table border=\"1\" class=\"dataframe\">\n",
       "  <thead>\n",
       "    <tr style=\"text-align: right;\">\n",
       "      <th></th>\n",
       "      <th>vendor_project</th>\n",
       "      <th>product</th>\n",
       "      <th>vulnerability_name</th>\n",
       "      <th>short_description</th>\n",
       "      <th>required_action</th>\n",
       "      <th>due_date</th>\n",
       "      <th>known_ransomware_campaign_use</th>\n",
       "      <th>notes</th>\n",
       "    </tr>\n",
       "  </thead>\n",
       "  <tbody>\n",
       "    <tr>\n",
       "      <th>837</th>\n",
       "      <td>Zimbra</td>\n",
       "      <td>Collaboration (ZCS)</td>\n",
       "      <td>Zimbra Collaboration (ZCS) Arbitrary File Uplo...</td>\n",
       "      <td>Zimbra Collaboration (ZCS) allows an attacker ...</td>\n",
       "      <td>Apply updates per vendor instructions.</td>\n",
       "      <td>2022-11-10</td>\n",
       "      <td>Unknown</td>\n",
       "      <td>https://wiki.zimbra.com/wiki/Security_Center</td>\n",
       "    </tr>\n",
       "    <tr>\n",
       "      <th>746</th>\n",
       "      <td>Google</td>\n",
       "      <td>Chromium V8</td>\n",
       "      <td>Google Chromium V8 Out-of-Bounds Write Vulnera...</td>\n",
       "      <td>Google Chromium V8 Engine contains out-of-boun...</td>\n",
       "      <td>Apply updates per vendor instructions.</td>\n",
       "      <td>2022-06-22</td>\n",
       "      <td>Unknown</td>\n",
       "      <td>NaN</td>\n",
       "    </tr>\n",
       "    <tr>\n",
       "      <th>1132</th>\n",
       "      <td>SolarWinds</td>\n",
       "      <td>Serv-U</td>\n",
       "      <td>SolarWinds Serv-U Path Traversal Vulnerability</td>\n",
       "      <td>SolarWinds Serv-U contains a path traversal vu...</td>\n",
       "      <td>Apply mitigations per vendor instructions or d...</td>\n",
       "      <td>2024-08-07</td>\n",
       "      <td>Unknown</td>\n",
       "      <td>https://www.solarwinds.com/trust-center/securi...</td>\n",
       "    </tr>\n",
       "    <tr>\n",
       "      <th>202</th>\n",
       "      <td>Mozilla</td>\n",
       "      <td>Firefox and Thunderbird</td>\n",
       "      <td>Mozilla Firefox And Thunderbird Use-After-Free...</td>\n",
       "      <td>Mozilla Firefox and Thunderbird contain a race...</td>\n",
       "      <td>Apply updates per vendor instructions.</td>\n",
       "      <td>2022-05-03</td>\n",
       "      <td>Unknown</td>\n",
       "      <td>NaN</td>\n",
       "    </tr>\n",
       "    <tr>\n",
       "      <th>547</th>\n",
       "      <td>Rails</td>\n",
       "      <td>Ruby on Rails</td>\n",
       "      <td>Ruby on Rails Directory Traversal Vulnerability</td>\n",
       "      <td>Directory traversal vulnerability in Action Vi...</td>\n",
       "      <td>Apply updates per vendor instructions.</td>\n",
       "      <td>2022-04-15</td>\n",
       "      <td>Unknown</td>\n",
       "      <td>NaN</td>\n",
       "    </tr>\n",
       "  </tbody>\n",
       "</table>\n",
       "</div>"
      ],
      "text/plain": [
       "     vendor_project                  product  \\\n",
       "837          Zimbra      Collaboration (ZCS)   \n",
       "746          Google              Chromium V8   \n",
       "1132     SolarWinds                   Serv-U   \n",
       "202         Mozilla  Firefox and Thunderbird   \n",
       "547           Rails            Ruby on Rails   \n",
       "\n",
       "                                     vulnerability_name  \\\n",
       "837   Zimbra Collaboration (ZCS) Arbitrary File Uplo...   \n",
       "746   Google Chromium V8 Out-of-Bounds Write Vulnera...   \n",
       "1132    SolarWinds Serv-U Path Traversal Vulnerability    \n",
       "202   Mozilla Firefox And Thunderbird Use-After-Free...   \n",
       "547     Ruby on Rails Directory Traversal Vulnerability   \n",
       "\n",
       "                                      short_description  \\\n",
       "837   Zimbra Collaboration (ZCS) allows an attacker ...   \n",
       "746   Google Chromium V8 Engine contains out-of-boun...   \n",
       "1132  SolarWinds Serv-U contains a path traversal vu...   \n",
       "202   Mozilla Firefox and Thunderbird contain a race...   \n",
       "547   Directory traversal vulnerability in Action Vi...   \n",
       "\n",
       "                                        required_action    due_date  \\\n",
       "837              Apply updates per vendor instructions.  2022-11-10   \n",
       "746              Apply updates per vendor instructions.  2022-06-22   \n",
       "1132  Apply mitigations per vendor instructions or d...  2024-08-07   \n",
       "202              Apply updates per vendor instructions.  2022-05-03   \n",
       "547              Apply updates per vendor instructions.  2022-04-15   \n",
       "\n",
       "     known_ransomware_campaign_use  \\\n",
       "837                        Unknown   \n",
       "746                        Unknown   \n",
       "1132                       Unknown   \n",
       "202                        Unknown   \n",
       "547                        Unknown   \n",
       "\n",
       "                                                  notes  \n",
       "837        https://wiki.zimbra.com/wiki/Security_Center  \n",
       "746                                                 NaN  \n",
       "1132  https://www.solarwinds.com/trust-center/securi...  \n",
       "202                                                 NaN  \n",
       "547                                                 NaN  "
      ]
     },
     "execution_count": 32,
     "metadata": {},
     "output_type": "execute_result"
    }
   ],
   "source": [
    "train = pd.read_csv(\"./data/00_temp_train_data_to_be_removed.csv\", index_col=0)\n",
    "train.head()"
   ]
  },
  {
   "cell_type": "markdown",
   "id": "14718981",
   "metadata": {},
   "source": [
    "### Using Train data to find more ways to tidy data\n",
    "\n",
    "\n",
    "#### Start by looking into vulnerability names"
   ]
  },
  {
   "cell_type": "code",
   "execution_count": 33,
   "id": "d6231b7f",
   "metadata": {},
   "outputs": [
    {
     "data": {
      "text/plain": [
       "vulnerability_name\n",
       "Microsoft Win32k Privilege Escalation Vulnerability                         11\n",
       "Google Chromium V8 Type Confusion Vulnerability                              7\n",
       "Microsoft Windows Kernel Privilege Escalation Vulnerability                  7\n",
       "Adobe Flash Player Use-After-Free Vulnerability                              7\n",
       "Apple Multiple Products Memory Corruption Vulnerability                      6\n",
       "                                                                            ..\n",
       "QNAP NAS File Station Cross-Site Scripting Vulnerability                     1\n",
       "D-Link and TRENDnet Multiple Devices Remote Code Execution Vulnerability     1\n",
       "Apple Multiple Products Integer Overflow Vulnerability                       1\n",
       "SonicWall Email Security Unrestricted Upload of File Vulnerability           1\n",
       "Google Chromium V8 Heap Buffer Overflow Vulnerability                        1\n",
       "Name: count, Length: 552, dtype: int64"
      ]
     },
     "execution_count": 33,
     "metadata": {},
     "output_type": "execute_result"
    }
   ],
   "source": [
    "# vulnerability_name value count\n",
    "train[\"vulnerability_name\"].value_counts()"
   ]
  },
  {
   "cell_type": "markdown",
   "id": "4c73e1f7",
   "metadata": {},
   "source": [
    "* I see the vulnerability with the most occurances to be the `Microsoft Win32k Privilege Escalation Vulnerability with count 11`. Let see if we can find more related to this one. "
   ]
  },
  {
   "cell_type": "code",
   "execution_count": 34,
   "id": "145d292b",
   "metadata": {},
   "outputs": [
    {
     "data": {
      "text/plain": [
       "vulnerability_name\n",
       "Microsoft Win32k Privilege Escalation Vulnerability    11\n",
       "Microsoft Win32k Memory Corruption Vulnerability        1\n",
       "Name: count, dtype: int64"
      ]
     },
     "execution_count": 34,
     "metadata": {},
     "output_type": "execute_result"
    }
   ],
   "source": [
    "# vulnerability_name with `Microsoft Win32k` in the name\n",
    "train.vulnerability_name[train.vulnerability_name.str.contains(\"Microsoft Win32k\")].value_counts()"
   ]
  },
  {
   "cell_type": "markdown",
   "id": "6dfbdcd2",
   "metadata": {},
   "source": [
    "* I see two names with `Microsoft Win32k` in them but one is a `memory curruption vulnerability`. So, let see what that's about"
   ]
  },
  {
   "cell_type": "code",
   "execution_count": 35,
   "id": "cde044bd",
   "metadata": {},
   "outputs": [
    {
     "data": {
      "text/plain": [
       "vulnerability_name\n",
       "Apple Multiple Products Memory Corruption Vulnerability                         6\n",
       "Microsoft Internet Explorer Scripting Engine Memory Corruption Vulnerability    4\n",
       "Microsoft Office Memory Corruption Vulnerability                                3\n",
       "Apple Multiple Products WebKit Memory Corruption Vulnerability                  3\n",
       "Microsoft Internet Explorer Memory Corruption Vulnerability                     3\n",
       "Adobe Flash Player Memory Corruption Vulnerability                              2\n",
       "Apple iOS Memory Corruption Vulnerability                                       2\n",
       "Apple Memory Corruption Vulnerability                                           1\n",
       "Apple iOS, iPadOS, and watchOS Memory Corruption Vulnerability                  1\n",
       "Google Chromium V8 Memory Corruption Vulnerability                              1\n",
       "Apple iOS WebKit Memory Corruption Vulnerability                                1\n",
       "Adobe Acrobat and Reader Universal 3D Memory Corruption Vulnerability           1\n",
       "Microsoft Edge Memory Corruption Vulnerability                                  1\n",
       "Adobe Reader and Acrobat Memory Corruption Vulnerability                        1\n",
       "Microsoft Scripting Engine Memory Corruption Vulnerability                      1\n",
       "Microsoft Excel Featheader Record Memory Corruption Vulnerability               1\n",
       "Apple iOS Webkit Memory Corruption Vulnerability                                1\n",
       "Microsoft Graphics Component Memory Corruption Vulnerability                    1\n",
       "Microsoft Win32k Memory Corruption Vulnerability                                1\n",
       "Microsoft Edge and Internet Explorer Memory Corruption Vulnerability            1\n",
       "Name: count, dtype: int64"
      ]
     },
     "execution_count": 35,
     "metadata": {},
     "output_type": "execute_result"
    }
   ],
   "source": [
    "# Hese are apearances of memory curruption in the data\n",
    "train.vulnerability_name[train.vulnerability_name.str.contains(\"Memory Corruption\")].value_counts()"
   ]
  },
  {
   "cell_type": "code",
   "execution_count": 36,
   "id": "8348898f",
   "metadata": {},
   "outputs": [
    {
     "data": {
      "text/plain": [
       "product\n",
       "Multiple Products                     9\n",
       "Internet Explorer                     7\n",
       "iOS                                   4\n",
       "Office                                3\n",
       "Flash Player                          2\n",
       "iOS and macOS                         1\n",
       "Win32k                                1\n",
       "Graphics Component                    1\n",
       "Excel                                 1\n",
       "Reader and Acrobat                    1\n",
       "Internet Explorer Scripting Engine    1\n",
       "iOS, iPadOS, and watchOS              1\n",
       "Edge                                  1\n",
       "Acrobat and Reader                    1\n",
       "Chromium V8                           1\n",
       "Edge and Internet Explorer            1\n",
       "Name: count, dtype: int64"
      ]
     },
     "execution_count": 36,
     "metadata": {},
     "output_type": "execute_result"
    }
   ],
   "source": [
    "# Find vetor projects that are responsible for all the memory corruption\n",
    "train[\"product\"][train.vulnerability_name.str.contains(\"Memory Corruption\")].value_counts()"
   ]
  },
  {
   "cell_type": "code",
   "execution_count": 37,
   "id": "78cc7d85",
   "metadata": {},
   "outputs": [
    {
     "data": {
      "text/plain": [
       "vendor_project\n",
       "Microsoft    16\n",
       "Apple        15\n",
       "Adobe         4\n",
       "Google        1\n",
       "Name: count, dtype: int64"
      ]
     },
     "execution_count": 37,
     "metadata": {},
     "output_type": "execute_result"
    }
   ],
   "source": [
    "# Find vetor projects that are responsible for all the memory corruption\n",
    "train.vendor_project[train.vulnerability_name.str.contains(\"Memory Corruption\")].value_counts()"
   ]
  },
  {
   "cell_type": "markdown",
   "id": "c82022dd",
   "metadata": {},
   "source": [
    "* The source of memory corruption is from 4 vendors, but it looks like it's happening on different products of these vendors, so I will go back inthe wrangle file and separate the product from the volunerability and create a additional column for specific vulnerabilities groupd by wording.\n",
    "\n",
    "**I will do this for all the vulnarabilities I can find. because I suspect there is things that can be grouped together.**"
   ]
  },
  {
   "cell_type": "code",
   "execution_count": 38,
   "id": "709b163c",
   "metadata": {},
   "outputs": [],
   "source": [
    "df = pd.read_csv(\"./data/01_original_clean_no_dummies_train.csv\")"
   ]
  },
  {
   "cell_type": "code",
   "execution_count": 39,
   "id": "a5bc297f",
   "metadata": {},
   "outputs": [
    {
     "data": {
      "text/html": [
       "<div>\n",
       "<style scoped>\n",
       "    .dataframe tbody tr th:only-of-type {\n",
       "        vertical-align: middle;\n",
       "    }\n",
       "\n",
       "    .dataframe tbody tr th {\n",
       "        vertical-align: top;\n",
       "    }\n",
       "\n",
       "    .dataframe thead th {\n",
       "        text-align: right;\n",
       "    }\n",
       "</style>\n",
       "<table border=\"1\" class=\"dataframe\">\n",
       "  <thead>\n",
       "    <tr style=\"text-align: right;\">\n",
       "      <th></th>\n",
       "      <th>Unnamed: 0</th>\n",
       "      <th>vendor_project</th>\n",
       "      <th>product</th>\n",
       "      <th>known_ransomware_campaign_use</th>\n",
       "      <th>vulnerability_type</th>\n",
       "      <th>required_action_new</th>\n",
       "    </tr>\n",
       "  </thead>\n",
       "  <tbody>\n",
       "    <tr>\n",
       "      <th>0</th>\n",
       "      <td>837</td>\n",
       "      <td>Zimbra</td>\n",
       "      <td>Collaboration (ZCS)</td>\n",
       "      <td>Unknown</td>\n",
       "      <td>File Upload Vulnerability</td>\n",
       "      <td>Apply Updates</td>\n",
       "    </tr>\n",
       "    <tr>\n",
       "      <th>1</th>\n",
       "      <td>746</td>\n",
       "      <td>Google</td>\n",
       "      <td>Chromium V8</td>\n",
       "      <td>Unknown</td>\n",
       "      <td>Out-of-Bounds Write Vulnerability</td>\n",
       "      <td>Apply Updates</td>\n",
       "    </tr>\n",
       "    <tr>\n",
       "      <th>2</th>\n",
       "      <td>1132</td>\n",
       "      <td>SolarWinds</td>\n",
       "      <td>Serv-U</td>\n",
       "      <td>Unknown</td>\n",
       "      <td>Path Traversal Vulnerability</td>\n",
       "      <td>Apply Mitigations or Discontinue</td>\n",
       "    </tr>\n",
       "    <tr>\n",
       "      <th>3</th>\n",
       "      <td>202</td>\n",
       "      <td>Mozilla</td>\n",
       "      <td>Firefox and Thunderbird</td>\n",
       "      <td>Unknown</td>\n",
       "      <td>Use-After-Free Vulnerability</td>\n",
       "      <td>Apply Updates</td>\n",
       "    </tr>\n",
       "    <tr>\n",
       "      <th>4</th>\n",
       "      <td>547</td>\n",
       "      <td>Rails</td>\n",
       "      <td>Ruby on Rails</td>\n",
       "      <td>Unknown</td>\n",
       "      <td>Path Traversal Vulnerability</td>\n",
       "      <td>Apply Updates</td>\n",
       "    </tr>\n",
       "    <tr>\n",
       "      <th>...</th>\n",
       "      <td>...</td>\n",
       "      <td>...</td>\n",
       "      <td>...</td>\n",
       "      <td>...</td>\n",
       "      <td>...</td>\n",
       "      <td>...</td>\n",
       "    </tr>\n",
       "    <tr>\n",
       "      <th>654</th>\n",
       "      <td>460</td>\n",
       "      <td>Adobe</td>\n",
       "      <td>ColdFusion</td>\n",
       "      <td>Unknown</td>\n",
       "      <td>Sandbox Bypass Vulnerability</td>\n",
       "      <td>Apply Updates</td>\n",
       "    </tr>\n",
       "    <tr>\n",
       "      <th>655</th>\n",
       "      <td>312</td>\n",
       "      <td>Hikvision</td>\n",
       "      <td>Security cameras web server</td>\n",
       "      <td>Unknown</td>\n",
       "      <td>Improper Access Control Vulnerability</td>\n",
       "      <td>Apply Updates</td>\n",
       "    </tr>\n",
       "    <tr>\n",
       "      <th>656</th>\n",
       "      <td>180</td>\n",
       "      <td>Microsoft</td>\n",
       "      <td>Internet Explorer</td>\n",
       "      <td>Unknown</td>\n",
       "      <td>Memory Corruption Vulnerability</td>\n",
       "      <td>Apply Updates</td>\n",
       "    </tr>\n",
       "    <tr>\n",
       "      <th>657</th>\n",
       "      <td>404</td>\n",
       "      <td>Cisco</td>\n",
       "      <td>IOS Software and Cisco IOS XE Software</td>\n",
       "      <td>Unknown</td>\n",
       "      <td>Denial of Service Vulnerability</td>\n",
       "      <td>Apply Updates</td>\n",
       "    </tr>\n",
       "    <tr>\n",
       "      <th>658</th>\n",
       "      <td>98</td>\n",
       "      <td>Google</td>\n",
       "      <td>Chromium V8</td>\n",
       "      <td>Unknown</td>\n",
       "      <td>Buffer Overflow Vulnerability</td>\n",
       "      <td>Apply Updates</td>\n",
       "    </tr>\n",
       "  </tbody>\n",
       "</table>\n",
       "<p>659 rows × 6 columns</p>\n",
       "</div>"
      ],
      "text/plain": [
       "     Unnamed: 0 vendor_project                                 product  \\\n",
       "0           837         Zimbra                     Collaboration (ZCS)   \n",
       "1           746         Google                             Chromium V8   \n",
       "2          1132     SolarWinds                                  Serv-U   \n",
       "3           202        Mozilla                 Firefox and Thunderbird   \n",
       "4           547          Rails                           Ruby on Rails   \n",
       "..          ...            ...                                     ...   \n",
       "654         460          Adobe                              ColdFusion   \n",
       "655         312      Hikvision             Security cameras web server   \n",
       "656         180      Microsoft                       Internet Explorer   \n",
       "657         404          Cisco  IOS Software and Cisco IOS XE Software   \n",
       "658          98         Google                             Chromium V8   \n",
       "\n",
       "    known_ransomware_campaign_use                     vulnerability_type  \\\n",
       "0                         Unknown              File Upload Vulnerability   \n",
       "1                         Unknown      Out-of-Bounds Write Vulnerability   \n",
       "2                         Unknown           Path Traversal Vulnerability   \n",
       "3                         Unknown           Use-After-Free Vulnerability   \n",
       "4                         Unknown           Path Traversal Vulnerability   \n",
       "..                            ...                                    ...   \n",
       "654                       Unknown           Sandbox Bypass Vulnerability   \n",
       "655                       Unknown  Improper Access Control Vulnerability   \n",
       "656                       Unknown        Memory Corruption Vulnerability   \n",
       "657                       Unknown        Denial of Service Vulnerability   \n",
       "658                       Unknown          Buffer Overflow Vulnerability   \n",
       "\n",
       "                  required_action_new  \n",
       "0                       Apply Updates  \n",
       "1                       Apply Updates  \n",
       "2    Apply Mitigations or Discontinue  \n",
       "3                       Apply Updates  \n",
       "4                       Apply Updates  \n",
       "..                                ...  \n",
       "654                     Apply Updates  \n",
       "655                     Apply Updates  \n",
       "656                     Apply Updates  \n",
       "657                     Apply Updates  \n",
       "658                     Apply Updates  \n",
       "\n",
       "[659 rows x 6 columns]"
      ]
     },
     "execution_count": 39,
     "metadata": {},
     "output_type": "execute_result"
    }
   ],
   "source": [
    "df"
   ]
  },
  {
   "cell_type": "code",
   "execution_count": null,
   "id": "3ca28dae",
   "metadata": {},
   "outputs": [],
   "source": []
  },
  {
   "cell_type": "code",
   "execution_count": null,
   "id": "51ce8b49",
   "metadata": {},
   "outputs": [],
   "source": []
  },
  {
   "cell_type": "code",
   "execution_count": null,
   "id": "4a217bae",
   "metadata": {},
   "outputs": [],
   "source": []
  }
 ],
 "metadata": {
  "kernelspec": {
   "display_name": "Python 3 (ipykernel)",
   "language": "python",
   "name": "python3"
  },
  "language_info": {
   "codemirror_mode": {
    "name": "ipython",
    "version": 3
   },
   "file_extension": ".py",
   "mimetype": "text/x-python",
   "name": "python",
   "nbconvert_exporter": "python",
   "pygments_lexer": "ipython3",
   "version": "3.11.7"
  }
 },
 "nbformat": 4,
 "nbformat_minor": 5
}
