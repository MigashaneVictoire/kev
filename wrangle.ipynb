{
 "cells": [
  {
   "cell_type": "markdown",
   "id": "055d9e78-e86e-4672-9813-55c696e49d2b",
   "metadata": {},
   "source": [
    "# Wrangle"
   ]
  },
  {
   "cell_type": "code",
   "execution_count": 89,
   "id": "2446ebdc-7371-4db7-9458-5dbf72136d55",
   "metadata": {},
   "outputs": [],
   "source": [
    "#imports\n",
    "import pandas as pd\n",
    "import numpy as np\n",
    "\n",
    "# system\n",
    "import sys\n",
    "# sys.path.append(\"../data\")\n",
    "sys.path.append(\"util_\")\n",
    "import wrangle_"
   ]
  },
  {
   "cell_type": "code",
   "execution_count": 90,
   "id": "be229388-5ca1-4123-ad6f-a64c59325f50",
   "metadata": {},
   "outputs": [
    {
     "data": {
      "text/html": [
       "<div>\n",
       "<style scoped>\n",
       "    .dataframe tbody tr th:only-of-type {\n",
       "        vertical-align: middle;\n",
       "    }\n",
       "\n",
       "    .dataframe tbody tr th {\n",
       "        vertical-align: top;\n",
       "    }\n",
       "\n",
       "    .dataframe thead th {\n",
       "        text-align: right;\n",
       "    }\n",
       "</style>\n",
       "<table border=\"1\" class=\"dataframe\">\n",
       "  <thead>\n",
       "    <tr style=\"text-align: right;\">\n",
       "      <th></th>\n",
       "      <th>cveID</th>\n",
       "      <th>vendorProject</th>\n",
       "      <th>product</th>\n",
       "      <th>vulnerabilityName</th>\n",
       "      <th>dateAdded</th>\n",
       "      <th>shortDescription</th>\n",
       "      <th>requiredAction</th>\n",
       "      <th>dueDate</th>\n",
       "      <th>knownRansomwareCampaignUse</th>\n",
       "      <th>notes</th>\n",
       "      <th>cwes</th>\n",
       "    </tr>\n",
       "  </thead>\n",
       "  <tbody>\n",
       "    <tr>\n",
       "      <th>0</th>\n",
       "      <td>CVE-2021-27104</td>\n",
       "      <td>Accellion</td>\n",
       "      <td>FTA</td>\n",
       "      <td>Accellion FTA OS Command Injection Vulnerability</td>\n",
       "      <td>2021-11-03</td>\n",
       "      <td>Accellion FTA contains an OS command injection...</td>\n",
       "      <td>Apply updates per vendor instructions.</td>\n",
       "      <td>2021-11-17</td>\n",
       "      <td>Known</td>\n",
       "      <td>NaN</td>\n",
       "      <td>NaN</td>\n",
       "    </tr>\n",
       "    <tr>\n",
       "      <th>1</th>\n",
       "      <td>CVE-2021-27102</td>\n",
       "      <td>Accellion</td>\n",
       "      <td>FTA</td>\n",
       "      <td>Accellion FTA OS Command Injection Vulnerability</td>\n",
       "      <td>2021-11-03</td>\n",
       "      <td>Accellion FTA contains an OS command injection...</td>\n",
       "      <td>Apply updates per vendor instructions.</td>\n",
       "      <td>2021-11-17</td>\n",
       "      <td>Known</td>\n",
       "      <td>NaN</td>\n",
       "      <td>NaN</td>\n",
       "    </tr>\n",
       "    <tr>\n",
       "      <th>2</th>\n",
       "      <td>CVE-2021-27101</td>\n",
       "      <td>Accellion</td>\n",
       "      <td>FTA</td>\n",
       "      <td>Accellion FTA SQL Injection Vulnerability</td>\n",
       "      <td>2021-11-03</td>\n",
       "      <td>Accellion FTA contains a SQL injection vulnera...</td>\n",
       "      <td>Apply updates per vendor instructions.</td>\n",
       "      <td>2021-11-17</td>\n",
       "      <td>Known</td>\n",
       "      <td>NaN</td>\n",
       "      <td>NaN</td>\n",
       "    </tr>\n",
       "    <tr>\n",
       "      <th>3</th>\n",
       "      <td>CVE-2021-27103</td>\n",
       "      <td>Accellion</td>\n",
       "      <td>FTA</td>\n",
       "      <td>Accellion FTA Server-Side Request Forgery (SSR...</td>\n",
       "      <td>2021-11-03</td>\n",
       "      <td>Accellion FTA contains a server-side request f...</td>\n",
       "      <td>Apply updates per vendor instructions.</td>\n",
       "      <td>2021-11-17</td>\n",
       "      <td>Known</td>\n",
       "      <td>NaN</td>\n",
       "      <td>NaN</td>\n",
       "    </tr>\n",
       "    <tr>\n",
       "      <th>4</th>\n",
       "      <td>CVE-2021-21017</td>\n",
       "      <td>Adobe</td>\n",
       "      <td>Acrobat and Reader</td>\n",
       "      <td>Adobe Acrobat and Reader Heap-based Buffer Ove...</td>\n",
       "      <td>2021-11-03</td>\n",
       "      <td>Acrobat Acrobat and Reader contain a heap-base...</td>\n",
       "      <td>Apply updates per vendor instructions.</td>\n",
       "      <td>2021-11-17</td>\n",
       "      <td>Unknown</td>\n",
       "      <td>NaN</td>\n",
       "      <td>NaN</td>\n",
       "    </tr>\n",
       "  </tbody>\n",
       "</table>\n",
       "</div>"
      ],
      "text/plain": [
       "            cveID vendorProject             product  \\\n",
       "0  CVE-2021-27104     Accellion                 FTA   \n",
       "1  CVE-2021-27102     Accellion                 FTA   \n",
       "2  CVE-2021-27101     Accellion                 FTA   \n",
       "3  CVE-2021-27103     Accellion                 FTA   \n",
       "4  CVE-2021-21017         Adobe  Acrobat and Reader   \n",
       "\n",
       "                                   vulnerabilityName   dateAdded  \\\n",
       "0   Accellion FTA OS Command Injection Vulnerability  2021-11-03   \n",
       "1   Accellion FTA OS Command Injection Vulnerability  2021-11-03   \n",
       "2          Accellion FTA SQL Injection Vulnerability  2021-11-03   \n",
       "3  Accellion FTA Server-Side Request Forgery (SSR...  2021-11-03   \n",
       "4  Adobe Acrobat and Reader Heap-based Buffer Ove...  2021-11-03   \n",
       "\n",
       "                                    shortDescription  \\\n",
       "0  Accellion FTA contains an OS command injection...   \n",
       "1  Accellion FTA contains an OS command injection...   \n",
       "2  Accellion FTA contains a SQL injection vulnera...   \n",
       "3  Accellion FTA contains a server-side request f...   \n",
       "4  Acrobat Acrobat and Reader contain a heap-base...   \n",
       "\n",
       "                           requiredAction     dueDate  \\\n",
       "0  Apply updates per vendor instructions.  2021-11-17   \n",
       "1  Apply updates per vendor instructions.  2021-11-17   \n",
       "2  Apply updates per vendor instructions.  2021-11-17   \n",
       "3  Apply updates per vendor instructions.  2021-11-17   \n",
       "4  Apply updates per vendor instructions.  2021-11-17   \n",
       "\n",
       "  knownRansomwareCampaignUse notes  cwes  \n",
       "0                      Known   NaN   NaN  \n",
       "1                      Known   NaN   NaN  \n",
       "2                      Known   NaN   NaN  \n",
       "3                      Known   NaN   NaN  \n",
       "4                    Unknown   NaN   NaN  "
      ]
     },
     "execution_count": 90,
     "metadata": {},
     "output_type": "execute_result"
    }
   ],
   "source": [
    "# lacd data\n",
    "df = pd.read_csv(\"data/known_exploited_vulnerabilities.csv\")\n",
    "df.head()"
   ]
  },
  {
   "cell_type": "code",
   "execution_count": 3,
   "id": "e69a06f5-5470-4fc9-b97f-5e4241d7b708",
   "metadata": {
    "tags": []
   },
   "outputs": [
    {
     "data": {
      "text/plain": [
       "(1140, 11)"
      ]
     },
     "execution_count": 3,
     "metadata": {},
     "output_type": "execute_result"
    }
   ],
   "source": [
    "# look at the shape\n",
    "df.shape"
   ]
  },
  {
   "cell_type": "code",
   "execution_count": 4,
   "id": "d065afa3-5606-4315-939d-3db1eaab597f",
   "metadata": {
    "tags": []
   },
   "outputs": [
    {
     "data": {
      "text/plain": [
       "Index(['cveID', 'vendorProject', 'product', 'vulnerabilityName', 'dateAdded',\n",
       "       'shortDescription', 'requiredAction', 'dueDate',\n",
       "       'knownRansomwareCampaignUse', 'notes', 'cwes'],\n",
       "      dtype='object')"
      ]
     },
     "execution_count": 4,
     "metadata": {},
     "output_type": "execute_result"
    }
   ],
   "source": [
    "#look at the columns\n",
    "df.columns"
   ]
  },
  {
   "cell_type": "code",
   "execution_count": 5,
   "id": "c031c950-2a5b-4866-a844-6f15bc195a63",
   "metadata": {
    "tags": []
   },
   "outputs": [
    {
     "name": "stdout",
     "output_type": "stream",
     "text": [
      "<class 'pandas.core.frame.DataFrame'>\n",
      "RangeIndex: 1140 entries, 0 to 1139\n",
      "Data columns (total 11 columns):\n",
      " #   Column                      Non-Null Count  Dtype  \n",
      "---  ------                      --------------  -----  \n",
      " 0   cveID                       1140 non-null   object \n",
      " 1   vendorProject               1140 non-null   object \n",
      " 2   product                     1140 non-null   object \n",
      " 3   vulnerabilityName           1140 non-null   object \n",
      " 4   dateAdded                   1140 non-null   object \n",
      " 5   shortDescription            1140 non-null   object \n",
      " 6   requiredAction              1140 non-null   object \n",
      " 7   dueDate                     1140 non-null   object \n",
      " 8   knownRansomwareCampaignUse  1140 non-null   object \n",
      " 9   notes                       373 non-null    object \n",
      " 10  cwes                        0 non-null      float64\n",
      "dtypes: float64(1), object(10)\n",
      "memory usage: 98.1+ KB\n"
     ]
    }
   ],
   "source": [
    "# check the full info\n",
    "df.info()"
   ]
  },
  {
   "cell_type": "code",
   "execution_count": 6,
   "id": "f53703c5-091d-45bd-ba56-5391c450e0c6",
   "metadata": {
    "tags": []
   },
   "outputs": [
    {
     "data": {
      "text/plain": [
       "1"
      ]
     },
     "execution_count": 6,
     "metadata": {},
     "output_type": "execute_result"
    }
   ],
   "source": [
    "# select numeric\n",
    "len(df.select_dtypes(\"number\").columns) # count of numeric columns"
   ]
  },
  {
   "cell_type": "code",
   "execution_count": 7,
   "id": "3b3081a6-ea1b-490d-b0b7-9d7ba2bbdd0a",
   "metadata": {
    "tags": []
   },
   "outputs": [
    {
     "data": {
      "text/plain": [
       "10"
      ]
     },
     "execution_count": 7,
     "metadata": {},
     "output_type": "execute_result"
    }
   ],
   "source": [
    "#select object columns\n",
    "len(df.select_dtypes(\"object\").columns) #count of object columns"
   ]
  },
  {
   "cell_type": "code",
   "execution_count": 8,
   "id": "227b2e54-296a-48aa-b327-fb818cb275f8",
   "metadata": {
    "tags": []
   },
   "outputs": [
    {
     "data": {
      "text/html": [
       "<div>\n",
       "<style scoped>\n",
       "    .dataframe tbody tr th:only-of-type {\n",
       "        vertical-align: middle;\n",
       "    }\n",
       "\n",
       "    .dataframe tbody tr th {\n",
       "        vertical-align: top;\n",
       "    }\n",
       "\n",
       "    .dataframe thead th {\n",
       "        text-align: right;\n",
       "    }\n",
       "</style>\n",
       "<table border=\"1\" class=\"dataframe\">\n",
       "  <thead>\n",
       "    <tr style=\"text-align: right;\">\n",
       "      <th></th>\n",
       "      <th>cwes</th>\n",
       "    </tr>\n",
       "  </thead>\n",
       "  <tbody>\n",
       "    <tr>\n",
       "      <th>count</th>\n",
       "      <td>0.0</td>\n",
       "    </tr>\n",
       "    <tr>\n",
       "      <th>mean</th>\n",
       "      <td>NaN</td>\n",
       "    </tr>\n",
       "    <tr>\n",
       "      <th>std</th>\n",
       "      <td>NaN</td>\n",
       "    </tr>\n",
       "    <tr>\n",
       "      <th>min</th>\n",
       "      <td>NaN</td>\n",
       "    </tr>\n",
       "    <tr>\n",
       "      <th>25%</th>\n",
       "      <td>NaN</td>\n",
       "    </tr>\n",
       "    <tr>\n",
       "      <th>50%</th>\n",
       "      <td>NaN</td>\n",
       "    </tr>\n",
       "    <tr>\n",
       "      <th>75%</th>\n",
       "      <td>NaN</td>\n",
       "    </tr>\n",
       "    <tr>\n",
       "      <th>max</th>\n",
       "      <td>NaN</td>\n",
       "    </tr>\n",
       "  </tbody>\n",
       "</table>\n",
       "</div>"
      ],
      "text/plain": [
       "       cwes\n",
       "count   0.0\n",
       "mean    NaN\n",
       "std     NaN\n",
       "min     NaN\n",
       "25%     NaN\n",
       "50%     NaN\n",
       "75%     NaN\n",
       "max     NaN"
      ]
     },
     "execution_count": 8,
     "metadata": {},
     "output_type": "execute_result"
    }
   ],
   "source": [
    "df.describe()"
   ]
  },
  {
   "cell_type": "markdown",
   "id": "0b308bbe-b406-4162-832f-426b3f9b2580",
   "metadata": {},
   "source": [
    "**What I see:**\n",
    "\n",
    "\n",
    "- I have 1140 rows and 11columns\n",
    "- 1 of the 11 columns are numric while 10 of them are string object colums\n",
    "- the numeric column `cwes` is null\n",
    "- the `notes` column has 373 non null rows\n",
    "- descriptive statistics says nothing on the `cwes` empty column"
   ]
  },
  {
   "cell_type": "code",
   "execution_count": 10,
   "id": "a31c5664",
   "metadata": {},
   "outputs": [
    {
     "data": {
      "text/plain": [
       "Index(['vendorProject', 'product', 'vulnerabilityName', 'shortDescription',\n",
       "       'requiredAction', 'dueDate', 'knownRansomwareCampaignUse', 'notes'],\n",
       "      dtype='object')"
      ]
     },
     "execution_count": 10,
     "metadata": {},
     "output_type": "execute_result"
    }
   ],
   "source": [
    "# remove the non useul unique id and the emplt column\n",
    "df = df.drop(columns=[\"cveID\", \"dateAdded\",\"cwes\"])\n",
    "df.columns"
   ]
  },
  {
   "cell_type": "code",
   "execution_count": 11,
   "id": "85d38c32",
   "metadata": {},
   "outputs": [
    {
     "data": {
      "text/plain": [
       "['vendor Project',\n",
       " 'product',\n",
       " 'vulnerability Name',\n",
       " 'short Description',\n",
       " 'required Action',\n",
       " 'due Date',\n",
       " 'known Ransomware Campaign Use',\n",
       " 'notes']"
      ]
     },
     "execution_count": 11,
     "metadata": {},
     "output_type": "execute_result"
    }
   ],
   "source": [
    "# nanipulate the column names to a clear name\n",
    "spaced_cols = []\n",
    "col_renamed = \"\"\n",
    "for name in df.columns:\n",
    "    for ele in name:\n",
    "        if ele == ele.upper():\n",
    "            col_renamed += \" \" + ele\n",
    "        else:\n",
    "            col_renamed += ele\n",
    "    spaced_cols.append(col_renamed)\n",
    "    col_renamed = \"\"\n",
    "\n",
    "df.columns = spaced_cols\n",
    "spaced_cols"
   ]
  },
  {
   "cell_type": "code",
   "execution_count": 12,
   "id": "5dd99db1-142c-4f1b-94e8-35326f5ee63a",
   "metadata": {
    "scrolled": true
   },
   "outputs": [
    {
     "data": {
      "text/plain": [
       "Index(['vendor_project', 'product', 'vulnerability_name', 'short_description',\n",
       "       'required_action', 'due_date', 'known_ransomware_campaign_use',\n",
       "       'notes'],\n",
       "      dtype='object')"
      ]
     },
     "execution_count": 12,
     "metadata": {},
     "output_type": "execute_result"
    }
   ],
   "source": [
    "# remove spaces from the ends\n",
    "# replace \" \" with _\n",
    "# convert from lower case\n",
    "new_cols = df.columns.str.strip().str.replace(\" \", \"_\").str.lower()\n",
    "df.columns = new_cols #replace the original columns with the new columns\n",
    "df.columns"
   ]
  },
  {
   "cell_type": "code",
   "execution_count": 13,
   "id": "bcc50d5f",
   "metadata": {},
   "outputs": [
    {
     "name": "stdout",
     "output_type": "stream",
     "text": [
      "original data size:  (1140, 8)\n",
      "new data size:  (1099, 8)\n"
     ]
    }
   ],
   "source": [
    "# remove duplicated rows\n",
    "print(\"original data size: \", df.shape)\n",
    "df = df.drop_duplicates(keep=\"first\")\n",
    "print(\"new data size: \", df.shape)"
   ]
  },
  {
   "cell_type": "code",
   "execution_count": 16,
   "id": "e7c172b9",
   "metadata": {},
   "outputs": [
    {
     "data": {
      "text/plain": [
       "((659, 8), (220, 8), (220, 8))"
      ]
     },
     "execution_count": 16,
     "metadata": {},
     "output_type": "execute_result"
    }
   ],
   "source": [
    "# Split the data into 3 sets\n",
    "train, validate, test = wrangle_.split_data_(df=df, \n",
    "                     test_size=0.2, \n",
    "                     validate_size= 0.2, \n",
    "                     stratify_col=\"known_ransomware_campaign_use\", \n",
    "                     random_state=10)\n",
    "train.shape, validate.shape, test.shape"
   ]
  },
  {
   "cell_type": "code",
   "execution_count": 17,
   "id": "f1563a57",
   "metadata": {},
   "outputs": [],
   "source": [
    "# reset index\n",
    "train = train.reset_index(drop=True)"
   ]
  },
  {
   "cell_type": "code",
   "execution_count": 18,
   "id": "539fcff4",
   "metadata": {
    "scrolled": false
   },
   "outputs": [
    {
     "name": "stdout",
     "output_type": "stream",
     "text": [
      "<bound method IndexOpsMixin.value_counts of 0          Zimbra\n",
      "1          Google\n",
      "2      SolarWinds\n",
      "3         Mozilla\n",
      "4           Rails\n",
      "          ...    \n",
      "654         Adobe\n",
      "655     Hikvision\n",
      "656     Microsoft\n",
      "657         Cisco\n",
      "658        Google\n",
      "Name: vendor_project, Length: 659, dtype: object>\n",
      "unique value count size: (121,)\n",
      "\n",
      "\n",
      "\n",
      "<bound method IndexOpsMixin.value_counts of 0                         Collaboration (ZCS)\n",
      "1                                 Chromium V8\n",
      "2                                      Serv-U\n",
      "3                     Firefox and Thunderbird\n",
      "4                               Ruby on Rails\n",
      "                        ...                  \n",
      "654                                ColdFusion\n",
      "655               Security cameras web server\n",
      "656                         Internet Explorer\n",
      "657    IOS Software and Cisco IOS XE Software\n",
      "658                               Chromium V8\n",
      "Name: product, Length: 659, dtype: object>\n",
      "unique value count size: (308,)\n",
      "\n",
      "\n",
      "\n",
      "<bound method IndexOpsMixin.value_counts of 0      Zimbra Collaboration (ZCS) Arbitrary File Uplo...\n",
      "1      Google Chromium V8 Out-of-Bounds Write Vulnera...\n",
      "2        SolarWinds Serv-U Path Traversal Vulnerability \n",
      "3      Mozilla Firefox And Thunderbird Use-After-Free...\n",
      "4        Ruby on Rails Directory Traversal Vulnerability\n",
      "                             ...                        \n",
      "654    Adobe ColdFusion Authentication Bypass Vulnera...\n",
      "655                  Hikvision Improper Input Validation\n",
      "656    Microsoft Internet Explorer Scripting Engine M...\n",
      "657    Cisco IOS and XE Software Internet Key Exchang...\n",
      "658    Google Chromium V8 Heap Buffer Overflow Vulner...\n",
      "Name: vulnerability_name, Length: 659, dtype: object>\n",
      "unique value count size: (552,)\n",
      "\n",
      "\n",
      "\n",
      "<bound method IndexOpsMixin.value_counts of 0      Zimbra Collaboration (ZCS) allows an attacker ...\n",
      "1      Google Chromium V8 Engine contains out-of-boun...\n",
      "2      SolarWinds Serv-U contains a path traversal vu...\n",
      "3      Mozilla Firefox and Thunderbird contain a race...\n",
      "4      Directory traversal vulnerability in Action Vi...\n",
      "                             ...                        \n",
      "654    An authentication bypass vulnerability exists ...\n",
      "655    A command injection vulnerability in the web s...\n",
      "656    Microsoft Internet Explorer contains a memory ...\n",
      "657    A vulnerability in the implementation of Inter...\n",
      "658    Google Chromium V8 Engine contains a heap buff...\n",
      "Name: short_description, Length: 659, dtype: object>\n",
      "unique value count size: (645,)\n",
      "\n",
      "\n",
      "\n",
      "<bound method IndexOpsMixin.value_counts of 0                 Apply updates per vendor instructions.\n",
      "1                 Apply updates per vendor instructions.\n",
      "2      Apply mitigations per vendor instructions or d...\n",
      "3                 Apply updates per vendor instructions.\n",
      "4                 Apply updates per vendor instructions.\n",
      "                             ...                        \n",
      "654               Apply updates per vendor instructions.\n",
      "655               Apply updates per vendor instructions.\n",
      "656               Apply updates per vendor instructions.\n",
      "657               Apply updates per vendor instructions.\n",
      "658               Apply updates per vendor instructions.\n",
      "Name: required_action, Length: 659, dtype: object>\n",
      "unique value count size: (15,)\n",
      "\n",
      "\n",
      "\n",
      "<bound method IndexOpsMixin.value_counts of 0      2022-11-10\n",
      "1      2022-06-22\n",
      "2      2024-08-07\n",
      "3      2022-05-03\n",
      "4      2022-04-15\n",
      "          ...    \n",
      "654    2022-03-24\n",
      "655    2022-01-24\n",
      "656    2022-05-03\n",
      "657    2022-03-17\n",
      "658    2021-11-17\n",
      "Name: due_date, Length: 659, dtype: object>\n",
      "unique value count size: (167,)\n",
      "\n",
      "\n",
      "\n",
      "<bound method IndexOpsMixin.value_counts of 0      Unknown\n",
      "1      Unknown\n",
      "2      Unknown\n",
      "3      Unknown\n",
      "4      Unknown\n",
      "        ...   \n",
      "654    Unknown\n",
      "655    Unknown\n",
      "656    Unknown\n",
      "657    Unknown\n",
      "658    Unknown\n",
      "Name: known_ransomware_campaign_use, Length: 659, dtype: object>\n",
      "unique value count size: (2,)\n",
      "\n",
      "\n",
      "\n",
      "<bound method IndexOpsMixin.value_counts of 0           https://wiki.zimbra.com/wiki/Security_Center\n",
      "1                                                    NaN\n",
      "2      https://www.solarwinds.com/trust-center/securi...\n",
      "3                                                    NaN\n",
      "4                                                    NaN\n",
      "                             ...                        \n",
      "654                                                  NaN\n",
      "655                                                  NaN\n",
      "656                                                  NaN\n",
      "657                                                  NaN\n",
      "658                                                  NaN\n",
      "Name: notes, Length: 659, dtype: object>\n",
      "unique value count size: (199,)\n",
      "\n",
      "\n",
      "\n"
     ]
    }
   ],
   "source": [
    "# count values for each feature\n",
    "for col in train.columns:\n",
    "    print(train[col].value_counts)\n",
    "    print(\"unique value count size:\",train[col].value_counts().shape)\n",
    "    print(\"\\n\\n\")"
   ]
  },
  {
   "cell_type": "markdown",
   "id": "b0715eb2",
   "metadata": {},
   "source": [
    "# Tasks from EDA\n",
    "\n",
    "* The source of memory corruption is from 4 vendors, but it looks like it's happening on different products of these vendors, so I will go back inthe wrangle file and separate the product from the volunerability and create a additional column for specific vulnerabilities groupd by wording. (cell 7 - cell 15)"
   ]
  },
  {
   "cell_type": "code",
   "execution_count": 37,
   "id": "ab80bd5c",
   "metadata": {},
   "outputs": [],
   "source": [
    "train = pd.read_csv(\"./data/00_temp_train_data.csv\", index_col=0)\n",
    "# create a copy of the training data\n",
    "temp_train = train.copy()"
   ]
  },
  {
   "cell_type": "code",
   "execution_count": 57,
   "id": "82381fea",
   "metadata": {},
   "outputs": [],
   "source": [
    "# Engineer a new feature `vulnerability types` that is the grouping of all alike valnerability names into single names. \n",
    "vulnerability_types = {\n",
    "    'Arbitrary File Upload Vulnerability': [\n",
    "        'Zimbra Collaboration (ZCS) Arbitrary File Upload Vulnerability',\n",
    "        'SonicWall Email Security Unrestricted Upload of File Vulnerability',\n",
    "        'Adobe ColdFusion Unrestricted File Upload Vulnerability',\n",
    "    ],\n",
    "    'Out-of-Bounds Write Vulnerability': [\n",
    "        'Google Chromium V8 Out-of-Bounds Write Vulnerability',\n",
    "        'Apple iOS and macOS Out-of-Bounds Write Vulnerability',\n",
    "        'VMware vCenter Server Out-of-Bounds Write Vulnerability',\n",
    "        'Adobe Acrobat and Reader Out-of-Bounds Write Vulnerability',\n",
    "        'Exim Out-of-bounds Write Vulnerability',\n",
    "        'SAP NetWeaver Out-of-Bounds Write Vulnerability'\n",
    "        'Microsoft Windows VBScript Engine Out-of-Bounds Write Vulnerability',\n",
    "        'Apple iOS, iPadOS, and watchOS Out-of-Bounds Write Vulnerability',\n",
    "        'Android Kernel Out-of-Bounds Write Vulnerability',\n",
    "        'Fortinet FortiOS Out-of-Bound Write Vulnerability'\n",
    "    ],\n",
    "    'Path Traversal Vulnerability': [\n",
    "        'SolarWinds Serv-U Path Traversal Vulnerability',\n",
    "        'IBM Data Risk Manager Directory Traversal Vulnerability',\n",
    "        'SAP Customer Relationship Management (CRM) Path Traversal Vulnerability',\n",
    "        'Citrix NetScaler ADC and NetScaler Gateway Path Traversal Vulnerability',\n",
    "        'TVT NVMS-1000 Directory Traversal Vulnerability',\n",
    "        'QNAP Photo Station Path Traversal Vulnerability',\n",
    "        'Juniper Junos OS Path Traversal Vulnerability',\n",
    "        'Cisco IOS Software Integrated Services Module for VPN Path Traversal Vulnerability',\n",
    "        'Apache HTTP Server Path Traversal Vulnerability'\n",
    "        'SolarWinds Serv-U Path Traversal Vulnerability',\n",
    "        'Ruby on Rails Directory Traversal Vulnerability',\n",
    "        'Cisco ASA and FTD Read-Only Path Traversal Vulnerability',\n",
    "        'Cisco Prime Data Center Network Manager (DCNM) Directory Traversal Vulnerability',\n",
    "        'Adobe ColdFusion Directory Traversal Vulnerability',\n",
    "        'SaltStack Salt Path Traversal Vulnerability',\n",
    "        'Microsoft Windows TS WebProxy Directory Traversal Vulnerability'\n",
    "    ],\n",
    "    'Use-After-Free Vulnerability': [\n",
    "        'Mozilla Firefox and Thunderbird Use-After-Free Vulnerability',\n",
    "        'Google Chromium WebGL Use-After-Free Vulnerability',\n",
    "        'Adobe Flash Player Use-After-Free Vulnerability',\n",
    "        'Google Chromium V8 Use-After-Free Vulnerability',\n",
    "        'Apple iOS, iPadOS, and watchOS WebKit Use-After-Free Vulnerability',\n",
    "        'Google Chrome WebAudio Use-After-Free Vulnerability',\n",
    "        'Microsoft Internet Explorer Use-After-Free Vulnerability',\n",
    "        'Apple Multiple Products Use-After-Free Vulnerability'\n",
    "    ],\n",
    "    'Remote Code Execution Vulnerability': [\n",
    "        'VMware vCenter Server Remote Code Execution Vulnerability',\n",
    "        'Microsoft Word Remote Code Execution Vulnerability',\n",
    "        'Microsoft MSHTML Remote Code Execution Vulnerability',\n",
    "        'Oracle WebLogic Server Remote Code Execution Vulnerability',\n",
    "        'Zoho ManageEngine ServiceDesk Plus Remote Code Execution Vulnerability',\n",
    "        'SAP NetWeaver Remote Code Execution Vulnerability',\n",
    "        'Apache Tomcat Remote Code Execution Vulnerability',\n",
    "        'Unraid Remote Code Execution Vulnerability',\n",
    "        'Microsoft Exchange Server Remote Code Execution Vulnerability',\n",
    "        'Microsoft Office Remote Code Execution Vulnerability',\n",
    "        'Google Chromium Network Service Use-After-Free Vulnerability',\n",
    "        'Microsoft Remote Desktop Services Remote Code Execution Vulnerability',\n",
    "        'Sitecore XP Remote Command Execution Vulnerability',\n",
    "        'Veritas Backup Exec Agent Command Execution Vulnerability',\n",
    "        'Fortra GoAnywhere MFT Remote Code Execution Vulnerability',\n",
    "        'XStream Remote Code Execution Vulnerability',\n",
    "        'Adobe Flash Player Remote Code Execution Vulnerability',\n",
    "        'Microsoft Office Remote Code Execution Vulnerability'\n",
    "    ],\n",
    "    'Improper Access Control Vulnerability': [\n",
    "        'Citrix Content Collaboration ShareFile Improper Access Control Vulnerability',\n",
    "        'Fortinet FortiOS and FortiADC Improper Access Control Vulnerability',\n",
    "        'QNAP Helpdesk Improper Access Control Vulnerability',\n",
    "        'Trend Micro Multiple Products Improper Access Control Vulnerability',\n",
    "        'PaperCut MF/NG Improper Access Control Vulnerability',\n",
    "        'Citrix ShareFile Improper Access Control Vulnerability',\n",
    "        'MiCollab, MiVoice Business Express Access Control Vulnerability',\n",
    "        'Samsung Mobile Devices Improper Access Control Vulnerability',\n",
    "        'SonicWall Email Security Improper Privilege Management Vulnerability',\n",
    "        'Microsoft Windows Mark of the Web (MOTW) Security Feature Bypass Vulnerability',\n",
    "        'VMware vCenter Server and Cloud Foundation Server Side Request Forgery (SSRF) Vulnerability',\n",
    "        'Trend Micro Multiple Products Improper Input Validation Vulnerability',\n",
    "        'Telerik UI for ASP.NET AJAX Insecure Direct Object Reference Vulnerability',\n",
    "        'Microsoft Malware Protection Engine Improper Restriction of Operations Vulnerability',\n",
    "        'GitLab Community and Enterprise Editions Improper Access Control Vulnerability',\n",
    "        'Adobe ColdFusion Improper Access Control Vulnerability'\n",
    "    ],\n",
    "    'Privilege Escalation Vulnerability': [\n",
    "        'Microsoft Windows Kernel Privilege Escalation Vulnerability',\n",
    "        'Microsoft Windows Privilege Escalation Vulnerability',\n",
    "        'Microsoft Windows CSRSS Security Feature Bypass Vulnerability',\n",
    "        'Microsoft Win32k Privilege Escalation Vulnerability',\n",
    "        'Microsoft Windows Hyper-V Privilege Escalation Vulnerability',\n",
    "        'Microsoft Windows Advanced Local Procedure Call (ALPC) Privilege Escalation Vulnerability',\n",
    "        'Microsoft Windows AppX Deployment Extensions Privilege Escalation Vulnerability',\n",
    "        'GIGABYTE Multiple Products Privilege Escalation Vulnerability',\n",
    "        'Apple iOS, iPadOS, and macOS Kernel Privilege Escalation Vulnerability',\n",
    "        'Microsoft Windows Common Log File System (CLFS) Driver Privilege Escalation Vulnerability',\n",
    "        'Microsoft Windows Installer Privilege Escalation Vulnerability',\n",
    "        'Microsoft Windows Print Spooler Privilege Escalation Vulnerability',\n",
    "        'Microsoft Windows AppX Deployment Server Privilege Escalation Vulnerability',\n",
    "        'Microsoft Windows Enhanced Cryptographic Provider Privilege Escalation Vulnerability',\n",
    "        'Microsoft Windows User Profile Service Privilege Escalation Vulnerability',\n",
    "        'Microsoft Windows MSHTML Platform Privilege Escalation Vulnerability',\n",
    "        'Microsoft Windows Common Log File System (CLFS) Driver Privilege Escalation Vulnerability',\n",
    "        'Microsoft Windows Task Scheduler Privilege Escalation Vulnerability',\n",
    "        'Microsoft Exchange Server Privilege Escalation Vulnerability',\n",
    "        'Microsoft Skype for Business Privilege Escalation Vulnerability',\n",
    "        'Microsoft Windows Cloud Files Mini Filter Driver Privilege Escalation Vulnerability',\n",
    "        'Microsoft .NET Framework Privilege Escalation Vulnerability',\n",
    "        'Microsoft Windows AppX Deployment Extensions Privilege Escalation Vulnerability',\n",
    "        'SolarWinds Virtualization Manager Privilege Escalation Vulnerability',\n",
    "        'Microsoft Windows Secondary Logon Service Privilege Escalation Vulnerability',\n",
    "        'Microsoft Windows Privilege Common Log File System (CLFS) Escalation Vulnerability',\n",
    "        'Microsoft Windows Group Policy Preferences Password Privilege Escalation Vulnerability',\n",
    "        'Microsoft Windows Mount Manager Privilege Escalation Vulnerability',\n",
    "        'Microsoft Streaming Service Proxy Privilege Escalation Vulnerability',\n",
    "        'Microsoft Win32k Privilege Escalation Vulnerability'\n",
    "    ],\n",
    "    'Buffer Overflow Vulnerability': [\n",
    "        'Microsoft PowerPoint Buffer Overflow Vulnerability',\n",
    "        'Adobe Acrobat and Reader Stack-Based Buffer Overflow Vulnerability',\n",
    "        'Adobe Reader Buffer Overflow Vulnerability',\n",
    "        'Adobe Acrobat and Reader Buffer Overflow Vulnerability',\n",
    "        'PHP FastCGI Process Manager (FPM) Buffer Overflow Vulnerability',\n",
    "        'Cisco Adaptive Security Appliance (ASA) SNMP Buffer Overflow Vulnerability',\n",
    "        'D-Link DIR-825 R1 Devices Buffer Overflow Vulnerability',\n",
    "        'Cisco Small Business RV Series Routers Stack-based Buffer Overflow Vulnerability',\n",
    "        'F5 BIG-IP Traffic Management Microkernel Buffer Overflow',\n",
    "        'Adobe Flash Player Stack-based Buffer Overflow Vulnerability',\n",
    "        'MikroTik RouterOS Stack-Based Buffer Overflow Vulnerability',\n",
    "        'NETGEAR Multiple Devices Buffer Overflow Vulnerability'\n",
    "    ],\n",
    "    'SQL Injection Vulnerability': [\n",
    "        'Sophos SFOS SQL Injection Vulnerability',\n",
    "        'Citrix NetScaler ADC and NetScaler Gateway SQL Injection Vulnerability',\n",
    "        'SAP NetWeaver SQL Injection Vulnerability',\n",
    "        'QNAP VioStor NVR OS Command Injection Vulnerability',\n",
    "        'Primetek Primefaces Remote Code Execution Vulnerability',\n",
    "        'SonicWall SSLVPN SMA100 SQL Injection Vulnerability',\n",
    "        'Grandstream Networks UCM6200 Series SQL Injection Vulnerability',\n",
    "        'Citrix SD-WAN and NetScaler SQL Injection Vulnerability',\n",
    "        'F5 BIG-IP Configuration Utility SQL Injection Vulnerability'\n",
    "    ],\n",
    "    'Command Injection Vulnerability': [\n",
    "        'Webmin Command Injection Vulnerability',\n",
    "        'Apache Kylin OS Command Injection Vulnerability',\n",
    "        'Cisco IOS and IOS XE Software Command Injection Vulnerability',\n",
    "        'SolarView Compact Command Injection Vulnerability',\n",
    "        'NETGEAR Multiple WAP Devices Command Injection Vulnerability',\n",
    "        'D-Link DIR-859 Router Command Execution Vulnerability',\n",
    "        'TP-Link Multiple Archer Devices Directory Traversal Vulnerability',\n",
    "        'Zyxel EMG2926 Routers Command Injection Vulnerability',\n",
    "        'Cisco NX-OS Command Injection Vulnerability',\n",
    "        'Ivanti Pulse Connect Secure and Policy Secure Command Injection Vulnerability',\n",
    "        'Crestron Multiple Products Command Injection Vulnerability',\n",
    "        'Vmware Aria Operations for Networks Command Injection Vulnerability',\n",
    "        'Zyxel Multiple NAS Devices Command Injection Vulnerability',\n",
    "        'D-Link DSL-2750B Devices Command Injection Vulnerability',\n",
    "        'Apache RocketMQ Command Execution Vulnerability',\n",
    "        'rConfig OS Command Injection Vulnerability',\n",
    "        'SaltStack Salt Shell Injection Vulnerability'\n",
    "    ],\n",
    "    'Denial of Service Vulnerability': [\n",
    "        'Cisco IOS Software Network Address Translation Denial-of-Service Vulnerability',\n",
    "        'Cisco ASA and FTD Denial of Service Vulnerability',\n",
    "        'Apache Struts 1 ActionForm Denial-of-Service Vulnerability',\n",
    "        'Cisco IOS XR Software DVMRP Memory Exhaustion Vulnerability',\n",
    "        'Cisco IOS and IOS XE Software DHCP Remote Code Execution Vulnerability',\n",
    "        'Intel Ethernet Diagnostics Driver for Windows Denial-of-Service Vulnerability',\n",
    "        'Google Chromium Intents Improper Input Validation Vulnerability',\n",
    "        'Cisco IOS and IOS XE Software Internet Key Exchange Denial-of-Service Vulnerability',\n",
    "        'Service Location Protocol (SLP) Denial-of-Service Vulnerability',\n",
    "        'Cisco IOS Software Integrated Services Module for VPN Denial-of-Service Vulnerability',\n",
    "        'Cisco IOS Software and Cisco IOS XE Software UDP Packet Processing Denial-of-Service Vulnerability'\n",
    "    ],\n",
    "    'Information Disclosure Vulnerability': [\n",
    "        'Mozilla Firefox Information Disclosure Vulnerability',\n",
    "        'Microsoft Internet Explorer Information Disclosure Vulnerability',\n",
    "        'Oracle WebLogic Server Information Disclosure Vulnerability',\n",
    "        'SAP NetWeaver Information Disclosure Vulnerability',\n",
    "        'Microsoft Windows Graphics Device Interface (GDI) Information Disclosure Vulnerability',\n",
    "        'Cisco IOS, IOS XR, and IOS XE IKEv1 Information Disclosure Vulnerability',\n",
    "        'Red Hat JBoss Information Disclosure Vulnerability',\n",
    "        'Cisco Small Business RV320 and RV325 Routers Information Disclosure Vulnerability',\n",
    "        'Google Chromium Information Disclosure Vulnerability',\n",
    "        'Microsoft Exchange Server Information Disclosure',\n",
    "        'Cisco ASA and FTD Information Disclosure Vulnerability'\n",
    "    ],\n",
    "    'Deserialization of Untrusted Data Vulnerability': [\n",
    "        'Apache Solr VelocityResponseWriter Plug-In Remote Code Execution Vulnerability',\n",
    "        'Apache Log4j2 Deserialization of Untrusted Data Vulnerability',\n",
    "        'Jenkins Stapler Web Framework Deserialization of Untrusted Data Vulnerability',\n",
    "        'NextGen Healthcare Mirth Connect Deserialization of Untrusted Data Vulnerability',\n",
    "        'Apache Struts Deserialization of Untrusted Data Vulnerability',\n",
    "        'Adobe ColdFusion Deserialization of Untrusted Data Vulnerability',\n",
    "        'Progress WS_FTP Server Deserialization of Untrusted Data Vulnerability',\n",
    "        'Progress Telerik UI for ASP.NET AJAX Deserialization of Untrusted Data Vulnerability',\n",
    "        'Cisco RV Series Routers Deserialization of Untrusted Data Vulnerability',\n",
    "        'Apache ActiveMQ Deserialization of Untrusted Data Vulnerability',\n",
    "        'Kentico Xperience Deserialization of Untrusted Data Vulnerability',\n",
    "    ],\n",
    "    'Sandbox Bypass Vulnerability': [\n",
    "        'Jenkins Script Security Plugin Sandbox Bypass Vulnerability',\n",
    "        'Adobe Acrobat and Reader Sandbox Bypass Vulnerability',\n",
    "        'Adobe Flash Player Sandbox Bypass Vulnerability',\n",
    "        'Oracle Java SE Sandbox Bypass Vulnerability',\n",
    "        'Oracle JRE Sandbox Bypass Vulnerability',\n",
    "        'Debian-specific Redis Server Lua Sandbox Escape Vulnerability'\n",
    "    ],\n",
    "    'Arbitrary Code Execution Vulnerability': [\n",
    "        'Adobe Flash Player Arbitrary Code Execution Vulnerability',\n",
    "        'Adobe ColdFusion Arbitrary Code Execution Vulnerability',\n",
    "        'Microsoft Office Arbitrary Code Execution Vulnerability',\n",
    "        'Oracle Java SE Runtime Environment (JRE) Arbitrary Code Execution Vulnerability',\n",
    "        'Cisco IOS and IOS XE Software SNMP Remote Code Execution Vulnerability',\n",
    "        'Microsoft Hyper-V RemoteFX vGPU Remote Code Execution Vulnerability',\n",
    "        'Microsoft Windows Remote Code Execution Vulnerability',\n",
    "        'Microsoft .NET Framework Remote Code Execution Vulnerability',\n",
    "        'Palo Alto Networks PAN-OS Remote Code Execution Vulnerability',\n",
    "        'Microsoft Internet Explorer Remote Code Execution Vulnerability',\n",
    "        'Jenkins Matrix Project Plugin Remote Code Execution Vulnerability',\n",
    "        'GitLab Community and Enterprise Editions Remote Code Execution Vulnerability',\n",
    "        'Fortra Cobalt Strike User Interface Remote Code Execution Vulnerability',\n",
    "        'Sonatype Nexus Repository Remote Code Execution Vulnerability',\n",
    "        'Kaseya VSA Remote Code Execution Vulnerability',\n",
    "        'VMware Workspace ONE Access and Identity Manager Server-Side Template Injection Vulnerability',\n",
    "        'Rejetto HTTP File Server (HFS) Remote Code Execution Vulnerability',\n",
    "        'D-Link DNS-320 Remote Code Execution Vulnerability',\n",
    "        'Apple Multiple Products Code Execution Vulnerability',\n",
    "        'ThinkPHP \"noneCms\" Remote Code Execution Vulnerability'\n",
    "    ],\n",
    "    'Code Injection Vulnerability': [\n",
    "        'Apache Solr DataImportHandler Code Injection Vulnerability',\n",
    "        'Citrix NetScaler ADC and NetScaler Gateway Code Injection Vulnerability',\n",
    "        'VMware Spring Cloud Gateway Code Injection Vulnerability',\n",
    "        'Mitel MiVoice Connect Code Injection Vulnerability',\n",
    "        'Crestron Multiple Products Command Injection Vulnerability',\n",
    "        'PHPUnit Command Injection Vulnerability',\n",
    "        'Vmware Aria Operations for Networks Command Injection Vulnerability',\n",
    "        'Apple iOS Wallet Code Execution Vulnerability'\n",
    "    ],\n",
    "    'Type Confusion Vulnerability': [\n",
    "        'Google Chromium V8 Type Confusion Vulnerability',\n",
    "        'Google Chrome FreeType',\n",
    "        'Type Confusion Vulnerability',\n",
    "        'Apple Multiple Products Type Confusion Vulnerability',\n",
    "        'Adobe Flash Player Type Confusion Vulnerability',\n",
    "        'Microsoft Internet Explorer Type Confusion Vulnerability',\n",
    "        'Apple iOS Type Confusion Vulnerability',\n",
    "        'Google Chromium V8 Incorrect Implementation Vulnerability',\n",
    "    ],\n",
    "    'Memory Corruption Vulnerability': [\n",
    "        'Apple iOS, iPadOS, and macOS Memory Corruption Vulnerability',\n",
    "        'Microsoft Edge and Internet Explorer Memory Corruption Vulnerability',\n",
    "        'Google Chromium V8 Memory Corruption Vulnerability',\n",
    "        'Adobe Flash Player Memory Corruption Vulnerability',\n",
    "        'Mozilla Firefox Memory Corruption Vulnerability',\n",
    "        'Microsoft Windows Memory Corruption Vulnerability',\n",
    "        'Apple Memory Corruption Vulnerability',\n",
    "        'Microsoft Internet Explorer Memory Corruption Vulnerability',\n",
    "        'Microsoft Office Memory Corruption Vulnerability',\n",
    "        'Apple Multiple Products Memory Corruption Vulnerability',\n",
    "        'Microsoft Win32k Memory Corruption Vulnerability',\n",
    "        'Adobe Reader and Acrobat Memory Corruption Vulnerability',\n",
    "        'Microsoft Graphics Component Memory Corruption Vulnerability',\n",
    "        'Apple iOS Webkit Memory Corruption Vulnerability'\n",
    "    ],\n",
    "    'Heap Buffer Overflow Vulnerability': [\n",
    "        'Google Chromium V8 Heap Buffer Overflow Vulnerability',\n",
    "        'Microsoft Windows Kernel Heap Buffer Overflow Vulnerability',\n",
    "        'Apple iOS and macOS Heap Buffer Overflow Vulnerability',\n",
    "        'Adobe Flash Player Heap Buffer Overflow Vulnerability',\n",
    "        'WebRTC Heap Buffer Overflow Vulnerability'\n",
    "    ],\n",
    "    'Arbitrary File Download Vulnerability': [\n",
    "        'Apple iOS, iPadOS, and macOS Arbitrary File Download Vulnerability'\n",
    "    ],\n",
    "    'Stack-Based Buffer Overflow Vulnerability': [\n",
    "        'Cisco IOS and IOS XE Software Stack-Based Buffer Overflow Vulnerability',\n",
    "        'D-Link DIR-825 R1 Devices Stack-Based Buffer Overflow Vulnerability',\n",
    "        'Mitel MiVoice Connect Stack-Based Buffer Overflow Vulnerability'\n",
    "    ],\n",
    "    'Improper Restriction of Operations Vulnerability': [\n",
    "        'SAP NetWeaver Improper Restriction of Operations Vulnerability',\n",
    "        'Apple iOS and iPadOS Improper Restriction of Operations Vulnerability',\n",
    "        'Microsoft Malware Protection Engine Improper Restriction of Operations Vulnerability'\n",
    "    ],\n",
    "    'Insecure Default Initialization of Resource Vulnerability': [\n",
    "        'IBM QRadar SIEM Insecure Default Initialization of Resource Vulnerability'\n",
    "    ],\n",
    "    'Unspecified Vulnerability': [\n",
    "        'Oracle WebLogic Server Unspecified Vulnerability',\n",
    "        'Adobe Flash Player Unspecified Vulnerability',\n",
    "        'Apple Multiple Products Kernel Unspecified Vulnerability',\n",
    "        'Samsung Mobile Devices Unspecified Vulnerability',\n",
    "        'Apple iOS, iPadOS, and watchOS Unspecified Vulnerability'\n",
    "    ]\n",
    "}"
   ]
  },
  {
   "cell_type": "code",
   "execution_count": 58,
   "id": "3ea45c35",
   "metadata": {},
   "outputs": [],
   "source": [
    "# Replacing values in the \"vulnerability names\" column based on the specific vulnerabilties\n",
    "def replace_vulnerability_name(name):\n",
    "    for key, value in vulnerability_types.items():\n",
    "        if name in value:\n",
    "            return key\n",
    "    return 'Other'\n",
    "\n",
    "# apply the created function to the data\n",
    "temp_train[\"vulnerability_type\"] = temp_train[\"vulnerability_name\"].apply(replace_vulnerability_name)"
   ]
  },
  {
   "cell_type": "code",
   "execution_count": 59,
   "id": "595e9e7d",
   "metadata": {},
   "outputs": [
    {
     "data": {
      "text/plain": [
       "vulnerability_type\n",
       "Other                                              376\n",
       "Privilege Escalation Vulnerability                  52\n",
       "Arbitrary Code Execution Vulnerability              27\n",
       "Memory Corruption Vulnerability                     21\n",
       "Remote Code Execution Vulnerability                 21\n",
       "Improper Access Control Vulnerability               20\n",
       "Command Injection Vulnerability                     16\n",
       "Use-After-Free Vulnerability                        15\n",
       "Deserialization of Untrusted Data Vulnerability     13\n",
       "Type Confusion Vulnerability                        12\n",
       "Path Traversal Vulnerability                        12\n",
       "Buffer Overflow Vulnerability                       12\n",
       "Denial of Service Vulnerability                     11\n",
       "Information Disclosure Vulnerability                11\n",
       "Out-of-Bounds Write Vulnerability                    9\n",
       "SQL Injection Vulnerability                          8\n",
       "Code Injection Vulnerability                         6\n",
       "Unspecified Vulnerability                            6\n",
       "Sandbox Bypass Vulnerability                         5\n",
       "Arbitrary File Upload Vulnerability                  4\n",
       "Heap Buffer Overflow Vulnerability                   2\n",
       "Name: count, dtype: int64"
      ]
     },
     "execution_count": 59,
     "metadata": {},
     "output_type": "execute_result"
    }
   ],
   "source": [
    "temp_train.vulnerability_type.value_counts()"
   ]
  },
  {
   "cell_type": "code",
   "execution_count": 142,
   "id": "e4e1bbe3",
   "metadata": {},
   "outputs": [],
   "source": [
    "# # Privilege Escalation Vulnerability  \n",
    "# search_terms = [\"Privilege\", \"Escalation\"]\n",
    "# pattern = '|'.join(search_terms)\n",
    "\n",
    "# len(train.vulnerability_name[train['vulnerability_name'].str.contains(pattern, case=False, na=False)])"
   ]
  },
  {
   "cell_type": "code",
   "execution_count": 143,
   "id": "21ec3cbc",
   "metadata": {},
   "outputs": [],
   "source": [
    "# # Memory Corruption Vulnerability\n",
    "# search_terms = [\"Memory\", \"Corruption\"]\n",
    "# pattern = '|'.join(search_terms)\n",
    "\n",
    "# len(train.vulnerability_name[train['vulnerability_name'].str.contains(pattern, case=False, na=False)])"
   ]
  },
  {
   "cell_type": "code",
   "execution_count": null,
   "id": "7cc6646a",
   "metadata": {},
   "outputs": [],
   "source": [
    "# # Arbitrary File Upload Vulnerability\n",
    "# search_terms = [\"File\", \"Upload\"]\n",
    "# pattern = '|'.join(search_terms)\n",
    "\n",
    "# len(train.vulnerability_name[train['vulnerability_name'].str.contains(pattern, case=False, na=False)])"
   ]
  },
  {
   "cell_type": "code",
   "execution_count": 144,
   "id": "27743374",
   "metadata": {},
   "outputs": [],
   "source": [
    "# # Remote/Arbitrary Code Execution Vulnerability \n",
    "# search_terms = [\"Execution\", \"Remote\", \"Arbitrary\"]\n",
    "# pattern = '|'.join(search_terms)\n",
    "\n",
    "# len(train.vulnerability_name[train['vulnerability_name'].str.contains(pattern, case=False, na=False)])"
   ]
  },
  {
   "cell_type": "code",
   "execution_count": 145,
   "id": "a349b82f",
   "metadata": {},
   "outputs": [],
   "source": [
    "# # Improper Access Control Vulnerability\n",
    "# search_terms = [\"Access\", \"Improper\", \"Control\"]\n",
    "# pattern = '|'.join(search_terms)\n",
    "\n",
    "# len(train.vulnerability_name[train['vulnerability_name'].str.contains(pattern, case=False, na=False)])"
   ]
  },
  {
   "cell_type": "code",
   "execution_count": 146,
   "id": "60a6d14a",
   "metadata": {},
   "outputs": [],
   "source": [
    "# # Command Injection Vulnerability\n",
    "# search_terms = [\"Injection\", \"Command\", \"SQL\"]\n",
    "# pattern = '|'.join(search_terms)\n",
    "\n",
    "# len(train.vulnerability_name[train['vulnerability_name'].str.contains(pattern, case=False, na=False)])"
   ]
  },
  {
   "cell_type": "code",
   "execution_count": 147,
   "id": "a0823634",
   "metadata": {},
   "outputs": [],
   "source": [
    "# # Use-After-Free Vulnerability \n",
    "# search_terms = [\"Use-After\", \"Use-After-Free\"]\n",
    "# pattern = '|'.join(search_terms)\n",
    "\n",
    "# len(train.vulnerability_name[train['vulnerability_name'].str.contains(pattern, case=False, na=False)])"
   ]
  },
  {
   "cell_type": "code",
   "execution_count": 148,
   "id": "eea5e1df",
   "metadata": {},
   "outputs": [],
   "source": [
    "# # Deserialization of Untrusted Data Vulnerability\n",
    "# search_terms = [\"Deserialization\", \"Untrusted\"]\n",
    "# pattern = '|'.join(search_terms)\n",
    "\n",
    "# len(train.vulnerability_name[train['vulnerability_name'].str.contains(pattern, case=False, na=False)])"
   ]
  },
  {
   "cell_type": "code",
   "execution_count": 149,
   "id": "f4e138e0",
   "metadata": {},
   "outputs": [],
   "source": [
    "# # Type Confusion Vulnerability  \n",
    "# search_terms = [\"Type Confusion\"]\n",
    "# pattern = '|'.join(search_terms)\n",
    "\n",
    "# len(train.vulnerability_name[train['vulnerability_name'].str.contains(pattern, case=False, na=False)])"
   ]
  },
  {
   "cell_type": "code",
   "execution_count": 150,
   "id": "db5b69fd",
   "metadata": {},
   "outputs": [],
   "source": [
    "# # Path Traversal Vulnerability\n",
    "# search_terms = [\"Traversal\", \"path\"]\n",
    "# pattern = '|'.join(search_terms)\n",
    "\n",
    "# len(train.vulnerability_name[train['vulnerability_name'].str.contains(pattern, case=False, na=False)])"
   ]
  },
  {
   "cell_type": "code",
   "execution_count": 151,
   "id": "5ca94142",
   "metadata": {},
   "outputs": [],
   "source": [
    "# # Buffer Overflow Vulnerability\n",
    "# search_terms = [\"Buffer\", \"Overflow\", \"Heap\"]\n",
    "# pattern = '|'.join(search_terms)\n",
    "\n",
    "# len(train.vulnerability_name[train['vulnerability_name'].str.contains(pattern, case=False, na=False)])"
   ]
  },
  {
   "cell_type": "code",
   "execution_count": 153,
   "id": "33d2e967",
   "metadata": {},
   "outputs": [],
   "source": [
    "# # Denial of Service Vulnerability \n",
    "# search_terms = [\"Denial\", \"Service\"]\n",
    "# pattern = '|'.join(search_terms)\n",
    "\n",
    "# len(train.vulnerability_name[train['vulnerability_name'].str.contains(pattern, case=False, na=False)])"
   ]
  },
  {
   "cell_type": "code",
   "execution_count": 156,
   "id": "908d9fc3",
   "metadata": {},
   "outputs": [],
   "source": [
    "# # Information Disclosure Vulnerability\n",
    "# search_terms = [\"Information\", \"Disclosure\"]\n",
    "# pattern = '|'.join(search_terms)\n",
    "\n",
    "# len(train.vulnerability_name[train['vulnerability_name'].str.contains(pattern, case=False, na=False)])"
   ]
  },
  {
   "cell_type": "code",
   "execution_count": 158,
   "id": "293d39fd",
   "metadata": {},
   "outputs": [],
   "source": [
    "# # Out-of-Bounds Write Vulnerability\n",
    "# search_terms = [\"Out-of-Bounds\", \"Write\", \"Bounds\"]\n",
    "# pattern = '|'.join(search_terms)\n",
    "\n",
    "# len(train.vulnerability_name[train['vulnerability_name'].str.contains(pattern, case=False, na=False)])"
   ]
  },
  {
   "cell_type": "code",
   "execution_count": 162,
   "id": "7fd88afa",
   "metadata": {},
   "outputs": [],
   "source": [
    "# # Sandbox Bypass Vulnerability \n",
    "# search_terms = [\"Sandbox\", \"Bypass\"]\n",
    "# pattern = '|'.join(search_terms)\n",
    "\n",
    "# len(train.vulnerability_name[train['vulnerability_name'].str.contains(pattern, case=False, na=False)])"
   ]
  },
  {
   "cell_type": "code",
   "execution_count": 165,
   "id": "7f2599ce",
   "metadata": {},
   "outputs": [
    {
     "data": {
      "text/plain": [
       "77      Samsung Mobile Devices Unspecified Vulnerability\n",
       "360                Apple macOS Unspecified Vulnerability\n",
       "431     Oracle WebLogic Server Unspecified Vulnerability\n",
       "456                Apple macOS Unspecified Vulnerability\n",
       "485             Oracle Java SE Unspecified Vulnerability\n",
       "494    Adobe Acrobat and Reader Unspecified Vulnerabi...\n",
       "518    Oracle Fusion Middleware Unspecified Vulnerabi...\n",
       "534         Adobe Flash Player Unspecified Vulnerability\n",
       "566    Apple Multiple Products Kernel Unspecified Vul...\n",
       "570     Oracle WebLogic Server Unspecified Vulnerability\n",
       "603    Oracle Fusion Middleware Unspecified Vulnerabi...\n",
       "639     Oracle WebLogic Server Unspecified Vulnerability\n",
       "Name: vulnerability_name, dtype: object"
      ]
     },
     "execution_count": 165,
     "metadata": {},
     "output_type": "execute_result"
    }
   ],
   "source": [
    "# Arbitrary File Upload Vulnerability\n",
    "search_terms = [\"Unspecified\"]\n",
    "pattern = '|'.join(search_terms)\n",
    "\n",
    "train.vulnerability_name[train['vulnerability_name'].str.contains(pattern, case=False, na=False)]"
   ]
  },
  {
   "cell_type": "code",
   "execution_count": null,
   "id": "3f7c3a21",
   "metadata": {},
   "outputs": [],
   "source": []
  }
 ],
 "metadata": {
  "kernelspec": {
   "display_name": "Python 3 (ipykernel)",
   "language": "python",
   "name": "python3"
  },
  "language_info": {
   "codemirror_mode": {
    "name": "ipython",
    "version": 3
   },
   "file_extension": ".py",
   "mimetype": "text/x-python",
   "name": "python",
   "nbconvert_exporter": "python",
   "pygments_lexer": "ipython3",
   "version": "3.11.7"
  }
 },
 "nbformat": 4,
 "nbformat_minor": 5
}
