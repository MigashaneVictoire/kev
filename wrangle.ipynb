{
 "cells": [
  {
   "cell_type": "markdown",
   "id": "055d9e78-e86e-4672-9813-55c696e49d2b",
   "metadata": {},
   "source": [
    "# Wrangle"
   ]
  },
  {
   "cell_type": "code",
   "execution_count": 1,
   "id": "2446ebdc-7371-4db7-9458-5dbf72136d55",
   "metadata": {},
   "outputs": [],
   "source": [
    "#imports\n",
    "import pandas as pd\n",
    "import numpy as np\n",
    "\n",
    "# system\n",
    "import sys\n",
    "# sys.path.append(\"../data\")\n",
    "sys.path.append(\"util_\")\n",
    "import _utility"
   ]
  },
  {
   "cell_type": "code",
   "execution_count": 2,
   "id": "be229388-5ca1-4123-ad6f-a64c59325f50",
   "metadata": {},
   "outputs": [
    {
     "data": {
      "text/html": [
       "<div>\n",
       "<style scoped>\n",
       "    .dataframe tbody tr th:only-of-type {\n",
       "        vertical-align: middle;\n",
       "    }\n",
       "\n",
       "    .dataframe tbody tr th {\n",
       "        vertical-align: top;\n",
       "    }\n",
       "\n",
       "    .dataframe thead th {\n",
       "        text-align: right;\n",
       "    }\n",
       "</style>\n",
       "<table border=\"1\" class=\"dataframe\">\n",
       "  <thead>\n",
       "    <tr style=\"text-align: right;\">\n",
       "      <th></th>\n",
       "      <th>cveID</th>\n",
       "      <th>vendorProject</th>\n",
       "      <th>product</th>\n",
       "      <th>vulnerabilityName</th>\n",
       "      <th>dateAdded</th>\n",
       "      <th>shortDescription</th>\n",
       "      <th>requiredAction</th>\n",
       "      <th>dueDate</th>\n",
       "      <th>knownRansomwareCampaignUse</th>\n",
       "      <th>notes</th>\n",
       "      <th>cwes</th>\n",
       "    </tr>\n",
       "  </thead>\n",
       "  <tbody>\n",
       "    <tr>\n",
       "      <th>0</th>\n",
       "      <td>CVE-2021-27104</td>\n",
       "      <td>Accellion</td>\n",
       "      <td>FTA</td>\n",
       "      <td>Accellion FTA OS Command Injection Vulnerability</td>\n",
       "      <td>2021-11-03</td>\n",
       "      <td>Accellion FTA contains an OS command injection...</td>\n",
       "      <td>Apply updates per vendor instructions.</td>\n",
       "      <td>2021-11-17</td>\n",
       "      <td>Known</td>\n",
       "      <td>NaN</td>\n",
       "      <td>NaN</td>\n",
       "    </tr>\n",
       "    <tr>\n",
       "      <th>1</th>\n",
       "      <td>CVE-2021-27102</td>\n",
       "      <td>Accellion</td>\n",
       "      <td>FTA</td>\n",
       "      <td>Accellion FTA OS Command Injection Vulnerability</td>\n",
       "      <td>2021-11-03</td>\n",
       "      <td>Accellion FTA contains an OS command injection...</td>\n",
       "      <td>Apply updates per vendor instructions.</td>\n",
       "      <td>2021-11-17</td>\n",
       "      <td>Known</td>\n",
       "      <td>NaN</td>\n",
       "      <td>NaN</td>\n",
       "    </tr>\n",
       "    <tr>\n",
       "      <th>2</th>\n",
       "      <td>CVE-2021-27101</td>\n",
       "      <td>Accellion</td>\n",
       "      <td>FTA</td>\n",
       "      <td>Accellion FTA SQL Injection Vulnerability</td>\n",
       "      <td>2021-11-03</td>\n",
       "      <td>Accellion FTA contains a SQL injection vulnera...</td>\n",
       "      <td>Apply updates per vendor instructions.</td>\n",
       "      <td>2021-11-17</td>\n",
       "      <td>Known</td>\n",
       "      <td>NaN</td>\n",
       "      <td>NaN</td>\n",
       "    </tr>\n",
       "    <tr>\n",
       "      <th>3</th>\n",
       "      <td>CVE-2021-27103</td>\n",
       "      <td>Accellion</td>\n",
       "      <td>FTA</td>\n",
       "      <td>Accellion FTA Server-Side Request Forgery (SSR...</td>\n",
       "      <td>2021-11-03</td>\n",
       "      <td>Accellion FTA contains a server-side request f...</td>\n",
       "      <td>Apply updates per vendor instructions.</td>\n",
       "      <td>2021-11-17</td>\n",
       "      <td>Known</td>\n",
       "      <td>NaN</td>\n",
       "      <td>NaN</td>\n",
       "    </tr>\n",
       "    <tr>\n",
       "      <th>4</th>\n",
       "      <td>CVE-2021-21017</td>\n",
       "      <td>Adobe</td>\n",
       "      <td>Acrobat and Reader</td>\n",
       "      <td>Adobe Acrobat and Reader Heap-based Buffer Ove...</td>\n",
       "      <td>2021-11-03</td>\n",
       "      <td>Acrobat Acrobat and Reader contain a heap-base...</td>\n",
       "      <td>Apply updates per vendor instructions.</td>\n",
       "      <td>2021-11-17</td>\n",
       "      <td>Unknown</td>\n",
       "      <td>NaN</td>\n",
       "      <td>NaN</td>\n",
       "    </tr>\n",
       "  </tbody>\n",
       "</table>\n",
       "</div>"
      ],
      "text/plain": [
       "            cveID vendorProject             product  \\\n",
       "0  CVE-2021-27104     Accellion                 FTA   \n",
       "1  CVE-2021-27102     Accellion                 FTA   \n",
       "2  CVE-2021-27101     Accellion                 FTA   \n",
       "3  CVE-2021-27103     Accellion                 FTA   \n",
       "4  CVE-2021-21017         Adobe  Acrobat and Reader   \n",
       "\n",
       "                                   vulnerabilityName   dateAdded  \\\n",
       "0   Accellion FTA OS Command Injection Vulnerability  2021-11-03   \n",
       "1   Accellion FTA OS Command Injection Vulnerability  2021-11-03   \n",
       "2          Accellion FTA SQL Injection Vulnerability  2021-11-03   \n",
       "3  Accellion FTA Server-Side Request Forgery (SSR...  2021-11-03   \n",
       "4  Adobe Acrobat and Reader Heap-based Buffer Ove...  2021-11-03   \n",
       "\n",
       "                                    shortDescription  \\\n",
       "0  Accellion FTA contains an OS command injection...   \n",
       "1  Accellion FTA contains an OS command injection...   \n",
       "2  Accellion FTA contains a SQL injection vulnera...   \n",
       "3  Accellion FTA contains a server-side request f...   \n",
       "4  Acrobat Acrobat and Reader contain a heap-base...   \n",
       "\n",
       "                           requiredAction     dueDate  \\\n",
       "0  Apply updates per vendor instructions.  2021-11-17   \n",
       "1  Apply updates per vendor instructions.  2021-11-17   \n",
       "2  Apply updates per vendor instructions.  2021-11-17   \n",
       "3  Apply updates per vendor instructions.  2021-11-17   \n",
       "4  Apply updates per vendor instructions.  2021-11-17   \n",
       "\n",
       "  knownRansomwareCampaignUse notes  cwes  \n",
       "0                      Known   NaN   NaN  \n",
       "1                      Known   NaN   NaN  \n",
       "2                      Known   NaN   NaN  \n",
       "3                      Known   NaN   NaN  \n",
       "4                    Unknown   NaN   NaN  "
      ]
     },
     "execution_count": 2,
     "metadata": {},
     "output_type": "execute_result"
    }
   ],
   "source": [
    "# lacd data\n",
    "df = pd.read_csv(\"data/known_exploited_vulnerabilities.csv\")\n",
    "df.head()"
   ]
  },
  {
   "cell_type": "code",
   "execution_count": 3,
   "id": "e69a06f5-5470-4fc9-b97f-5e4241d7b708",
   "metadata": {
    "tags": []
   },
   "outputs": [
    {
     "data": {
      "text/plain": [
       "(1140, 11)"
      ]
     },
     "execution_count": 3,
     "metadata": {},
     "output_type": "execute_result"
    }
   ],
   "source": [
    "# look at the shape\n",
    "df.shape"
   ]
  },
  {
   "cell_type": "code",
   "execution_count": 4,
   "id": "d065afa3-5606-4315-939d-3db1eaab597f",
   "metadata": {
    "tags": []
   },
   "outputs": [
    {
     "data": {
      "text/plain": [
       "Index(['cveID', 'vendorProject', 'product', 'vulnerabilityName', 'dateAdded',\n",
       "       'shortDescription', 'requiredAction', 'dueDate',\n",
       "       'knownRansomwareCampaignUse', 'notes', 'cwes'],\n",
       "      dtype='object')"
      ]
     },
     "execution_count": 4,
     "metadata": {},
     "output_type": "execute_result"
    }
   ],
   "source": [
    "#look at the columns\n",
    "df.columns"
   ]
  },
  {
   "cell_type": "code",
   "execution_count": 5,
   "id": "c031c950-2a5b-4866-a844-6f15bc195a63",
   "metadata": {
    "tags": []
   },
   "outputs": [
    {
     "name": "stdout",
     "output_type": "stream",
     "text": [
      "<class 'pandas.core.frame.DataFrame'>\n",
      "RangeIndex: 1140 entries, 0 to 1139\n",
      "Data columns (total 11 columns):\n",
      " #   Column                      Non-Null Count  Dtype  \n",
      "---  ------                      --------------  -----  \n",
      " 0   cveID                       1140 non-null   object \n",
      " 1   vendorProject               1140 non-null   object \n",
      " 2   product                     1140 non-null   object \n",
      " 3   vulnerabilityName           1140 non-null   object \n",
      " 4   dateAdded                   1140 non-null   object \n",
      " 5   shortDescription            1140 non-null   object \n",
      " 6   requiredAction              1140 non-null   object \n",
      " 7   dueDate                     1140 non-null   object \n",
      " 8   knownRansomwareCampaignUse  1140 non-null   object \n",
      " 9   notes                       373 non-null    object \n",
      " 10  cwes                        0 non-null      float64\n",
      "dtypes: float64(1), object(10)\n",
      "memory usage: 98.1+ KB\n"
     ]
    }
   ],
   "source": [
    "# check the full info\n",
    "df.info()"
   ]
  },
  {
   "cell_type": "code",
   "execution_count": 6,
   "id": "f53703c5-091d-45bd-ba56-5391c450e0c6",
   "metadata": {
    "tags": []
   },
   "outputs": [
    {
     "data": {
      "text/plain": [
       "1"
      ]
     },
     "execution_count": 6,
     "metadata": {},
     "output_type": "execute_result"
    }
   ],
   "source": [
    "# select numeric\n",
    "len(df.select_dtypes(\"number\").columns) # count of numeric columns"
   ]
  },
  {
   "cell_type": "code",
   "execution_count": 7,
   "id": "3b3081a6-ea1b-490d-b0b7-9d7ba2bbdd0a",
   "metadata": {
    "tags": []
   },
   "outputs": [
    {
     "data": {
      "text/plain": [
       "10"
      ]
     },
     "execution_count": 7,
     "metadata": {},
     "output_type": "execute_result"
    }
   ],
   "source": [
    "#select object columns\n",
    "len(df.select_dtypes(\"object\").columns) #count of object columns"
   ]
  },
  {
   "cell_type": "code",
   "execution_count": 8,
   "id": "227b2e54-296a-48aa-b327-fb818cb275f8",
   "metadata": {
    "tags": []
   },
   "outputs": [
    {
     "data": {
      "text/html": [
       "<div>\n",
       "<style scoped>\n",
       "    .dataframe tbody tr th:only-of-type {\n",
       "        vertical-align: middle;\n",
       "    }\n",
       "\n",
       "    .dataframe tbody tr th {\n",
       "        vertical-align: top;\n",
       "    }\n",
       "\n",
       "    .dataframe thead th {\n",
       "        text-align: right;\n",
       "    }\n",
       "</style>\n",
       "<table border=\"1\" class=\"dataframe\">\n",
       "  <thead>\n",
       "    <tr style=\"text-align: right;\">\n",
       "      <th></th>\n",
       "      <th>cwes</th>\n",
       "    </tr>\n",
       "  </thead>\n",
       "  <tbody>\n",
       "    <tr>\n",
       "      <th>count</th>\n",
       "      <td>0.0</td>\n",
       "    </tr>\n",
       "    <tr>\n",
       "      <th>mean</th>\n",
       "      <td>NaN</td>\n",
       "    </tr>\n",
       "    <tr>\n",
       "      <th>std</th>\n",
       "      <td>NaN</td>\n",
       "    </tr>\n",
       "    <tr>\n",
       "      <th>min</th>\n",
       "      <td>NaN</td>\n",
       "    </tr>\n",
       "    <tr>\n",
       "      <th>25%</th>\n",
       "      <td>NaN</td>\n",
       "    </tr>\n",
       "    <tr>\n",
       "      <th>50%</th>\n",
       "      <td>NaN</td>\n",
       "    </tr>\n",
       "    <tr>\n",
       "      <th>75%</th>\n",
       "      <td>NaN</td>\n",
       "    </tr>\n",
       "    <tr>\n",
       "      <th>max</th>\n",
       "      <td>NaN</td>\n",
       "    </tr>\n",
       "  </tbody>\n",
       "</table>\n",
       "</div>"
      ],
      "text/plain": [
       "       cwes\n",
       "count   0.0\n",
       "mean    NaN\n",
       "std     NaN\n",
       "min     NaN\n",
       "25%     NaN\n",
       "50%     NaN\n",
       "75%     NaN\n",
       "max     NaN"
      ]
     },
     "execution_count": 8,
     "metadata": {},
     "output_type": "execute_result"
    }
   ],
   "source": [
    "df.describe()"
   ]
  },
  {
   "cell_type": "markdown",
   "id": "0b308bbe-b406-4162-832f-426b3f9b2580",
   "metadata": {},
   "source": [
    "**What I see:**\n",
    "\n",
    "- I have 1140 rows and 11columns\n",
    "- 1 of the 11 columns are numric while 10 of them are string object colums\n",
    "- the numeric column `cwes` is null\n",
    "- the `notes` column has 373 non null rows\n",
    "- descriptive statistics says nothing on the `cwes` empty column"
   ]
  },
  {
   "cell_type": "code",
   "execution_count": 9,
   "id": "a31c5664",
   "metadata": {},
   "outputs": [
    {
     "data": {
      "text/plain": [
       "Index(['vendorProject', 'product', 'vulnerabilityName', 'dateAdded',\n",
       "       'shortDescription', 'requiredAction', 'dueDate',\n",
       "       'knownRansomwareCampaignUse', 'notes'],\n",
       "      dtype='object')"
      ]
     },
     "execution_count": 9,
     "metadata": {},
     "output_type": "execute_result"
    }
   ],
   "source": [
    "# remove the non useul unique id and the emplt column\n",
    "df = df.drop(columns=[\"cveID\",\"cwes\"])\n",
    "df.columns"
   ]
  },
  {
   "cell_type": "code",
   "execution_count": 10,
   "id": "85d38c32",
   "metadata": {},
   "outputs": [
    {
     "data": {
      "text/plain": [
       "['vendor Project',\n",
       " 'product',\n",
       " 'vulnerability Name',\n",
       " 'date Added',\n",
       " 'short Description',\n",
       " 'required Action',\n",
       " 'due Date',\n",
       " 'known Ransomware Campaign Use',\n",
       " 'notes']"
      ]
     },
     "execution_count": 10,
     "metadata": {},
     "output_type": "execute_result"
    }
   ],
   "source": [
    "# nanipulate the column names to a clear name\n",
    "spaced_cols = []\n",
    "col_renamed = \"\"\n",
    "for name in df.columns:\n",
    "    for ele in name:\n",
    "        if ele == ele.upper():\n",
    "            col_renamed += \" \" + ele\n",
    "        else:\n",
    "            col_renamed += ele\n",
    "    spaced_cols.append(col_renamed)\n",
    "    col_renamed = \"\"\n",
    "\n",
    "df.columns = spaced_cols\n",
    "spaced_cols"
   ]
  },
  {
   "cell_type": "code",
   "execution_count": 11,
   "id": "5dd99db1-142c-4f1b-94e8-35326f5ee63a",
   "metadata": {
    "scrolled": true
   },
   "outputs": [
    {
     "data": {
      "text/plain": [
       "Index(['vendor_project', 'product', 'vulnerability_name', 'date_added',\n",
       "       'short_description', 'required_action', 'due_date',\n",
       "       'known_ransomware_campaign_use', 'notes'],\n",
       "      dtype='object')"
      ]
     },
     "execution_count": 11,
     "metadata": {},
     "output_type": "execute_result"
    }
   ],
   "source": [
    "# remove spaces from the ends\n",
    "# replace \" \" with _\n",
    "# convert from lower case\n",
    "new_cols = df.columns.str.strip().str.replace(\" \", \"_\").str.lower()\n",
    "df.columns = new_cols #replace the original columns with the new columns\n",
    "df.columns"
   ]
  },
  {
   "cell_type": "code",
   "execution_count": 12,
   "id": "bcc50d5f",
   "metadata": {},
   "outputs": [
    {
     "name": "stdout",
     "output_type": "stream",
     "text": [
      "original data size:  (1140, 9)\n",
      "new data size:  (1099, 9)\n"
     ]
    }
   ],
   "source": [
    "# remove duplicated rows\n",
    "print(\"original data size: \", df.shape)\n",
    "df = df.drop_duplicates(keep=\"first\")\n",
    "print(\"new data size: \", df.shape)"
   ]
  },
  {
   "cell_type": "code",
   "execution_count": 13,
   "id": "e7c172b9",
   "metadata": {},
   "outputs": [
    {
     "data": {
      "text/plain": [
       "((659, 9), (220, 9), (220, 9))"
      ]
     },
     "execution_count": 13,
     "metadata": {},
     "output_type": "execute_result"
    }
   ],
   "source": [
    "# Split the data into 3 sets\n",
    "train, validate, test = _utility.split_data_(df=df, \n",
    "                     test_size=0.2, \n",
    "                     validate_size= 0.2, \n",
    "                     stratify_col=\"known_ransomware_campaign_use\", \n",
    "                     random_state=10)\n",
    "train.shape, validate.shape, test.shape"
   ]
  },
  {
   "cell_type": "code",
   "execution_count": 14,
   "id": "bf2eebc6",
   "metadata": {},
   "outputs": [
    {
     "data": {
      "text/plain": [
       "'File temp_train_data_to_be_removed saved'"
      ]
     },
     "execution_count": 14,
     "metadata": {},
     "output_type": "execute_result"
    }
   ],
   "source": [
    "_utility.save_original_data(df=train, folder=\"./data\", file_name=\"temp_train_data_to_be_removed\")"
   ]
  },
  {
   "cell_type": "code",
   "execution_count": 15,
   "id": "f1563a57",
   "metadata": {},
   "outputs": [],
   "source": [
    "# reset index\n",
    "train = train.reset_index(drop=True)"
   ]
  },
  {
   "cell_type": "code",
   "execution_count": 16,
   "id": "539fcff4",
   "metadata": {
    "scrolled": false
   },
   "outputs": [
    {
     "name": "stdout",
     "output_type": "stream",
     "text": [
      "<bound method IndexOpsMixin.value_counts of 0          Zimbra\n",
      "1          Google\n",
      "2      SolarWinds\n",
      "3         Mozilla\n",
      "4           Rails\n",
      "          ...    \n",
      "654         Adobe\n",
      "655     Hikvision\n",
      "656     Microsoft\n",
      "657         Cisco\n",
      "658        Google\n",
      "Name: vendor_project, Length: 659, dtype: object>\n",
      "unique value count size: (121,)\n",
      "\n",
      "\n",
      "\n",
      "<bound method IndexOpsMixin.value_counts of 0                         Collaboration (ZCS)\n",
      "1                                 Chromium V8\n",
      "2                                      Serv-U\n",
      "3                     Firefox and Thunderbird\n",
      "4                               Ruby on Rails\n",
      "                        ...                  \n",
      "654                                ColdFusion\n",
      "655               Security cameras web server\n",
      "656                         Internet Explorer\n",
      "657    IOS Software and Cisco IOS XE Software\n",
      "658                               Chromium V8\n",
      "Name: product, Length: 659, dtype: object>\n",
      "unique value count size: (308,)\n",
      "\n",
      "\n",
      "\n",
      "<bound method IndexOpsMixin.value_counts of 0      Zimbra Collaboration (ZCS) Arbitrary File Uplo...\n",
      "1      Google Chromium V8 Out-of-Bounds Write Vulnera...\n",
      "2        SolarWinds Serv-U Path Traversal Vulnerability \n",
      "3      Mozilla Firefox And Thunderbird Use-After-Free...\n",
      "4        Ruby on Rails Directory Traversal Vulnerability\n",
      "                             ...                        \n",
      "654    Adobe ColdFusion Authentication Bypass Vulnera...\n",
      "655                  Hikvision Improper Input Validation\n",
      "656    Microsoft Internet Explorer Scripting Engine M...\n",
      "657    Cisco IOS and XE Software Internet Key Exchang...\n",
      "658    Google Chromium V8 Heap Buffer Overflow Vulner...\n",
      "Name: vulnerability_name, Length: 659, dtype: object>\n",
      "unique value count size: (552,)\n",
      "\n",
      "\n",
      "\n",
      "<bound method IndexOpsMixin.value_counts of 0      2022-10-20\n",
      "1      2022-06-08\n",
      "2      2024-07-17\n",
      "3      2021-11-03\n",
      "4      2022-03-25\n",
      "          ...    \n",
      "654    2022-03-03\n",
      "655    2022-01-10\n",
      "656    2021-11-03\n",
      "657    2022-03-03\n",
      "658    2021-11-03\n",
      "Name: date_added, Length: 659, dtype: object>\n",
      "unique value count size: (153,)\n",
      "\n",
      "\n",
      "\n",
      "<bound method IndexOpsMixin.value_counts of 0      Zimbra Collaboration (ZCS) allows an attacker ...\n",
      "1      Google Chromium V8 Engine contains out-of-boun...\n",
      "2      SolarWinds Serv-U contains a path traversal vu...\n",
      "3      Mozilla Firefox and Thunderbird contain a race...\n",
      "4      Directory traversal vulnerability in Action Vi...\n",
      "                             ...                        \n",
      "654    An authentication bypass vulnerability exists ...\n",
      "655    A command injection vulnerability in the web s...\n",
      "656    Microsoft Internet Explorer contains a memory ...\n",
      "657    A vulnerability in the implementation of Inter...\n",
      "658    Google Chromium V8 Engine contains a heap buff...\n",
      "Name: short_description, Length: 659, dtype: object>\n",
      "unique value count size: (645,)\n",
      "\n",
      "\n",
      "\n",
      "<bound method IndexOpsMixin.value_counts of 0                 Apply updates per vendor instructions.\n",
      "1                 Apply updates per vendor instructions.\n",
      "2      Apply mitigations per vendor instructions or d...\n",
      "3                 Apply updates per vendor instructions.\n",
      "4                 Apply updates per vendor instructions.\n",
      "                             ...                        \n",
      "654               Apply updates per vendor instructions.\n",
      "655               Apply updates per vendor instructions.\n",
      "656               Apply updates per vendor instructions.\n",
      "657               Apply updates per vendor instructions.\n",
      "658               Apply updates per vendor instructions.\n",
      "Name: required_action, Length: 659, dtype: object>\n",
      "unique value count size: (15,)\n",
      "\n",
      "\n",
      "\n",
      "<bound method IndexOpsMixin.value_counts of 0      2022-11-10\n",
      "1      2022-06-22\n",
      "2      2024-08-07\n",
      "3      2022-05-03\n",
      "4      2022-04-15\n",
      "          ...    \n",
      "654    2022-03-24\n",
      "655    2022-01-24\n",
      "656    2022-05-03\n",
      "657    2022-03-17\n",
      "658    2021-11-17\n",
      "Name: due_date, Length: 659, dtype: object>\n",
      "unique value count size: (167,)\n",
      "\n",
      "\n",
      "\n",
      "<bound method IndexOpsMixin.value_counts of 0      Unknown\n",
      "1      Unknown\n",
      "2      Unknown\n",
      "3      Unknown\n",
      "4      Unknown\n",
      "        ...   \n",
      "654    Unknown\n",
      "655    Unknown\n",
      "656    Unknown\n",
      "657    Unknown\n",
      "658    Unknown\n",
      "Name: known_ransomware_campaign_use, Length: 659, dtype: object>\n",
      "unique value count size: (2,)\n",
      "\n",
      "\n",
      "\n",
      "<bound method IndexOpsMixin.value_counts of 0           https://wiki.zimbra.com/wiki/Security_Center\n",
      "1                                                    NaN\n",
      "2      https://www.solarwinds.com/trust-center/securi...\n",
      "3                                                    NaN\n",
      "4                                                    NaN\n",
      "                             ...                        \n",
      "654                                                  NaN\n",
      "655                                                  NaN\n",
      "656                                                  NaN\n",
      "657                                                  NaN\n",
      "658                                                  NaN\n",
      "Name: notes, Length: 659, dtype: object>\n",
      "unique value count size: (199,)\n",
      "\n",
      "\n",
      "\n"
     ]
    }
   ],
   "source": [
    "# count values for each feature\n",
    "for col in train.columns:\n",
    "    print(train[col].value_counts)\n",
    "    print(\"unique value count size:\",train[col].value_counts().shape)\n",
    "    print(\"\\n\\n\")"
   ]
  },
  {
   "cell_type": "markdown",
   "id": "b0715eb2",
   "metadata": {},
   "source": [
    "# Tasks from EDA\n",
    "\n",
    "* The source of memory corruption is from 4 vendors, but it looks like it's happening on different products of these vendors, so I will go back inthe wrangle file and separate the product from the volunerability and create a additional column for specific vulnerabilities groupd by wording. (cell 7 - cell 15)"
   ]
  },
  {
   "cell_type": "code",
   "execution_count": 17,
   "id": "28f6693c",
   "metadata": {},
   "outputs": [],
   "source": [
    "train_temp = train.copy()"
   ]
  },
  {
   "cell_type": "code",
   "execution_count": 18,
   "id": "e4e1bbe3",
   "metadata": {},
   "outputs": [],
   "source": [
    "# # Privilege Escalation Vulnerability  \n",
    "# search_terms = [\"Privilege\", \"Escalation\"]\n",
    "# pattern = '|'.join(search_terms)\n",
    "\n",
    "# len(train.vulnerability_name[train['vulnerability_name'].str.contains(pattern, case=False, na=False)])"
   ]
  },
  {
   "cell_type": "code",
   "execution_count": 19,
   "id": "21ec3cbc",
   "metadata": {},
   "outputs": [],
   "source": [
    "# # Memory Corruption Vulnerability\n",
    "# search_terms = [\"Memory\", \"Corruption\"]\n",
    "# pattern = '|'.join(search_terms)\n",
    "\n",
    "# len(train.vulnerability_name[train['vulnerability_name'].str.contains(pattern, case=False, na=False)])"
   ]
  },
  {
   "cell_type": "code",
   "execution_count": 20,
   "id": "7626250e",
   "metadata": {},
   "outputs": [],
   "source": [
    "# # Arbitrary File Upload Vulnerability\n",
    "# search_terms = [\"File\", \"Upload\"]\n",
    "# pattern = '|'.join(search_terms)\n",
    "\n",
    "# len(train.vulnerability_name[train['vulnerability_name'].str.contains(pattern, case=False, na=False)])"
   ]
  },
  {
   "cell_type": "code",
   "execution_count": 21,
   "id": "27743374",
   "metadata": {},
   "outputs": [],
   "source": [
    "# # Remote/Arbitrary Code Execution Vulnerability \n",
    "# search_terms = [\"Execution\", \"Remote\", \"Arbitrary\"]\n",
    "# pattern = '|'.join(search_terms)\n",
    "\n",
    "# len(train.vulnerability_name[train['vulnerability_name'].str.contains(pattern, case=False, na=False)])"
   ]
  },
  {
   "cell_type": "code",
   "execution_count": 22,
   "id": "a349b82f",
   "metadata": {},
   "outputs": [],
   "source": [
    "# # Improper Access Control Vulnerability\n",
    "# search_terms = [\"Access\", \"Improper\", \"Control\"]\n",
    "# pattern = '|'.join(search_terms)\n",
    "\n",
    "# len(train.vulnerability_name[train['vulnerability_name'].str.contains(pattern, case=False, na=False)])"
   ]
  },
  {
   "cell_type": "code",
   "execution_count": 23,
   "id": "60a6d14a",
   "metadata": {},
   "outputs": [],
   "source": [
    "# # Command Injection Vulnerability\n",
    "# search_terms = [\"Injection\", \"Command\", \"SQL\"]\n",
    "# pattern = '|'.join(search_terms)\n",
    "\n",
    "# len(train.vulnerability_name[train['vulnerability_name'].str.contains(pattern, case=False, na=False)])"
   ]
  },
  {
   "cell_type": "code",
   "execution_count": 24,
   "id": "a0823634",
   "metadata": {},
   "outputs": [],
   "source": [
    "# # Use-After-Free Vulnerability \n",
    "# search_terms = [\"Use-After\", \"Use-After-Free\"]\n",
    "# pattern = '|'.join(search_terms)\n",
    "\n",
    "# len(train.vulnerability_name[train['vulnerability_name'].str.contains(pattern, case=False, na=False)])"
   ]
  },
  {
   "cell_type": "code",
   "execution_count": 25,
   "id": "2983eacb",
   "metadata": {},
   "outputs": [],
   "source": [
    "# # Deserialization of Untrusted Data Vulnerability\n",
    "# search_terms = [\"Deserialization\", \"Untrusted\"]\n",
    "# pattern = '|'.join(search_terms)\n",
    "\n",
    "# len(train.vulnerability_name[train['vulnerability_name'].str.contains(pattern, case=False, na=False)])"
   ]
  },
  {
   "cell_type": "code",
   "execution_count": 26,
   "id": "10da434b",
   "metadata": {},
   "outputs": [],
   "source": [
    "# # Type Confusion Vulnerability  \n",
    "# search_terms = [\"Type Confusion\"]\n",
    "# pattern = '|'.join(search_terms)\n",
    "\n",
    "# len(train.vulnerability_name[train['vulnerability_name'].str.contains(pattern, case=False, na=False)])"
   ]
  },
  {
   "cell_type": "code",
   "execution_count": 27,
   "id": "0a99438d",
   "metadata": {},
   "outputs": [],
   "source": [
    "# # Path Traversal Vulnerability\n",
    "# search_terms = [\"Traversal\", \"path\"]\n",
    "# pattern = '|'.join(search_terms)\n",
    "\n",
    "# len(train.vulnerability_name[train['vulnerability_name'].str.contains(pattern, case=False, na=False)])"
   ]
  },
  {
   "cell_type": "code",
   "execution_count": 28,
   "id": "4101468f",
   "metadata": {},
   "outputs": [],
   "source": [
    "# # Buffer Overflow Vulnerability\n",
    "# search_terms = [\"Buffer\", \"Overflow\", \"Heap\"]\n",
    "# pattern = '|'.join(search_terms)\n",
    "\n",
    "# len(train.vulnerability_name[train['vulnerability_name'].str.contains(pattern, case=False, na=False)])"
   ]
  },
  {
   "cell_type": "code",
   "execution_count": 29,
   "id": "3b0f4191",
   "metadata": {},
   "outputs": [],
   "source": [
    "# # Denial of Service Vulnerability \n",
    "# search_terms = [\"Denial\", \"Service\"]\n",
    "# pattern = '|'.join(search_terms)\n",
    "\n",
    "# len(train.vulnerability_name[train['vulnerability_name'].str.contains(pattern, case=False, na=False)])"
   ]
  },
  {
   "cell_type": "code",
   "execution_count": 30,
   "id": "d5128e5a",
   "metadata": {},
   "outputs": [],
   "source": [
    "# # Information Disclosure Vulnerability\n",
    "# search_terms = [\"Information\", \"Disclosure\"]\n",
    "# pattern = '|'.join(search_terms)\n",
    "\n",
    "# len(train.vulnerability_name[train['vulnerability_name'].str.contains(pattern, case=False, na=False)])"
   ]
  },
  {
   "cell_type": "code",
   "execution_count": 31,
   "id": "14de5790",
   "metadata": {},
   "outputs": [],
   "source": [
    "# # Out-of-Bounds Write Vulnerability\n",
    "# search_terms = [\"Out-of-Bounds\", \"Write\", \"Bounds\"]\n",
    "# pattern = '|'.join(search_terms)\n",
    "\n",
    "# len(train.vulnerability_name[train['vulnerability_name'].str.contains(pattern, case=False, na=False)])"
   ]
  },
  {
   "cell_type": "code",
   "execution_count": 32,
   "id": "4dfca321",
   "metadata": {},
   "outputs": [],
   "source": [
    "# # Sandbox Bypass Vulnerability \n",
    "# search_terms = [\"Sandbox\", \"Bypass\"]\n",
    "# pattern = '|'.join(search_terms)\n",
    "\n",
    "# len(train.vulnerability_name[train['vulnerability_name'].str.contains(pattern, case=False, na=False)])"
   ]
  },
  {
   "cell_type": "code",
   "execution_count": 33,
   "id": "393df88d",
   "metadata": {},
   "outputs": [],
   "source": [
    "# # Arbitrary File Upload Vulnerability\n",
    "# search_terms = [\"Unspecified\"]\n",
    "# pattern = '|'.join(search_terms)\n",
    "\n",
    "# train.vulnerability_name[train['vulnerability_name'].str.contains(pattern, case=False, na=False)]"
   ]
  },
  {
   "cell_type": "markdown",
   "id": "1674740e",
   "metadata": {},
   "source": [
    "#### I cam combine all of the obove conditions into one as I engineer a new feature for vulnerabilities"
   ]
  },
  {
   "cell_type": "code",
   "execution_count": 34,
   "id": "89a73a40",
   "metadata": {},
   "outputs": [],
   "source": [
    "# Create a function that handles feature engineering for vulnerability names\n",
    "def feature_eng_vul_names(data_frame):\n",
    "    # Define the conditions\n",
    "    conditions = [\n",
    "        data_frame['vulnerability_name'].str.contains(r'Privilege|Escalation', case=False, na=False),\n",
    "        data_frame['vulnerability_name'].str.contains(r'Memory|Corruption', case=False, na=False),\n",
    "        data_frame['vulnerability_name'].str.contains(r'File|Upload', case=False, na=False),\n",
    "        data_frame['vulnerability_name'].str.contains(r'Remote Code', case=False, na=False),\n",
    "        data_frame['vulnerability_name'].str.contains(r'Access|Improper|Control', case=False, na=False),\n",
    "        data_frame['vulnerability_name'].str.contains(r'Injection|Command|SQL', case=False, na=False),\n",
    "        data_frame['vulnerability_name'].str.contains(r'Use-After|Use-After-Free', case=False, na=False),\n",
    "        data_frame['vulnerability_name'].str.contains(r'Deserialization|Untrusted', case=False, na=False),\n",
    "        data_frame['vulnerability_name'].str.contains(r'Type Confusion', case=False, na=False),\n",
    "        data_frame['vulnerability_name'].str.contains(r'Traversal|path', case=False, na=False),\n",
    "        data_frame['vulnerability_name'].str.contains(r'Buffer|Overflow|Heap', case=False, na=False),\n",
    "        data_frame['vulnerability_name'].str.contains(r'Denial|Service', case=False, na=False),\n",
    "        data_frame['vulnerability_name'].str.contains(r'Information|Disclosure', case=False, na=False),\n",
    "        data_frame['vulnerability_name'].str.contains(r'Out-of-Bounds|Write|Bounds', case=False, na=False),\n",
    "        data_frame['vulnerability_name'].str.contains(r'Sandbox|Bypass', case=False, na=False),\n",
    "        data_frame['vulnerability_name'].str.contains(r'Unspecified', case=False, na=False),\n",
    "        data_frame['vulnerability_name'].str.contains(r'Spoofing', case=False, na=False),\n",
    "        data_frame['vulnerability_name'].str.contains(r'Input|Validation', case=False, na=False),\n",
    "        data_frame['vulnerability_name'].str.contains(r'Hard-Coded|Credentials', case=False, na=False),\n",
    "        data_frame['vulnerability_name'].str.contains(r'Forgery|SSRF|Request|Server', case=False, na=False),\n",
    "        data_frame['vulnerability_name'].str.contains(r'Scripting|XSS|Cross|Site', case=False, na=False),\n",
    "        data_frame['vulnerability_name'].str.contains(r'Arbitrary Code', case=False, na=False)\n",
    "    ]\n",
    "\n",
    "    # Define the corresponding values for the new feature\n",
    "    choices = [\n",
    "        \"Privilege Escalation Vulnerability\",\n",
    "        \"Memory Corruption Vulnerability\",\n",
    "        \"File Upload Vulnerability\",\n",
    "        \"Remote Code Execution Vulnerability\",\n",
    "        \"Improper Access Control Vulnerability\",\n",
    "        \"Command Injection Vulnerability\",\n",
    "        \"Use-After-Free Vulnerability\",\n",
    "        \"Deserialization of Untrusted Data Vulnerability\",\n",
    "        \"Type Confusion Vulnerability\",\n",
    "        \"Path Traversal Vulnerability\",\n",
    "        \"Buffer Overflow Vulnerability\",\n",
    "        \"Denial of Service Vulnerability\",\n",
    "        \"Information Disclosure Vulnerability\",\n",
    "        \"Out-of-Bounds Write Vulnerability\",\n",
    "        \"Sandbox Bypass Vulnerability\",\n",
    "        \"Arbitrary File Upload Vulnerability\",\n",
    "        \"Spoofing Vulnerabilities\",\n",
    "        \"Input Validation Vulnerabilities\",\n",
    "        \"Use of Hard-Coded Credentials Vulnerabilities\",\n",
    "        \"Server-Side Request Forgery (SSRF) Vulnerabilities\",\n",
    "        \"Cross-Site Scripting (XSS) Vulnerabilities\",\n",
    "        \"Arbitrary Code Execution Vulnerability\",\n",
    "    ]\n",
    "\n",
    "    # Use np.select to create the new feature\n",
    "    data_frame['vulnerability_type'] = np.select(conditions, choices, default=\"Other Vulnerability\")\n",
    "    return data_frame\n"
   ]
  },
  {
   "cell_type": "markdown",
   "id": "1b1034c4",
   "metadata": {},
   "source": [
    "#### The newly engineered feature values"
   ]
  },
  {
   "cell_type": "code",
   "execution_count": 35,
   "id": "e66fff41",
   "metadata": {},
   "outputs": [
    {
     "data": {
      "text/plain": [
       "vulnerability_type\n",
       "Privilege Escalation Vulnerability                    93\n",
       "Remote Code Execution Vulnerability                   90\n",
       "Command Injection Vulnerability                       59\n",
       "Improper Access Control Vulnerability                 46\n",
       "Sandbox Bypass Vulnerability                          43\n",
       "Memory Corruption Vulnerability                       39\n",
       "Buffer Overflow Vulnerability                         39\n",
       "Use-After-Free Vulnerability                          35\n",
       "Other Vulnerability                                   34\n",
       "Path Traversal Vulnerability                          24\n",
       "Information Disclosure Vulnerability                  23\n",
       "File Upload Vulnerability                             20\n",
       "Out-of-Bounds Write Vulnerability                     18\n",
       "Denial of Service Vulnerability                       18\n",
       "Deserialization of Untrusted Data Vulnerability       16\n",
       "Type Confusion Vulnerability                          15\n",
       "Arbitrary File Upload Vulnerability                   12\n",
       "Cross-Site Scripting (XSS) Vulnerabilities             8\n",
       "Server-Side Request Forgery (SSRF) Vulnerabilities     7\n",
       "Input Validation Vulnerabilities                       7\n",
       "Arbitrary Code Execution Vulnerability                 7\n",
       "Use of Hard-Coded Credentials Vulnerabilities          3\n",
       "Spoofing Vulnerabilities                               3\n",
       "Name: count, dtype: int64"
      ]
     },
     "execution_count": 35,
     "metadata": {},
     "output_type": "execute_result"
    }
   ],
   "source": [
    "feature_eng_vul_names(train).vulnerability_type.value_counts()"
   ]
  },
  {
   "cell_type": "markdown",
   "id": "fafc01f5",
   "metadata": {},
   "source": [
    "**Let know look how we can engineer the `required_action` column**"
   ]
  },
  {
   "cell_type": "code",
   "execution_count": 36,
   "id": "5834dee3",
   "metadata": {},
   "outputs": [
    {
     "data": {
      "text/plain": [
       "required_action\n",
       "Apply updates per vendor instructions.                                                                                                                                                                                                                                                                                                                                               505\n",
       "Apply mitigations per vendor instructions or discontinue use of the product if mitigations are unavailable.                                                                                                                                                                                                                                                                           93\n",
       "The impacted product is end-of-life and should be disconnected if still in use.                                                                                                                                                                                                                                                                                                       31\n",
       "Apply updates per vendor instructions or discontinue use of the product if updates are unavailable.                                                                                                                                                                                                                                                                                    8\n",
       "Apply remediations or mitigations per vendor instructions or discontinue use of the product if remediation or mitigations are unavailable.                                                                                                                                                                                                                                             6\n",
       "Apply updates per vendor instructions or discontinue use of the product if updates are unavailable                                                                                                                                                                                                                                                                                     4\n",
       "This vulnerability affects legacy D-Link products. All associated hardware revisions have reached their end-of-life (EOL) or end-of-service (EOS) life cycle and should be retired and replaced per vendor instructions.                                                                                                                                                               3\n",
       "Verify that instances of Cisco IOS XE Web UI are in compliance with BOD 23-02 and apply mitigations per vendor instructions. For affected products (Cisco IOS XE Web UI exposed to the internet or to untrusted networks), follow vendor instructions to determine if a system may have been compromised and immediately report positive findings to CISA.                             2\n",
       "Apply mitigations per vendor instructions for group-lock and vpn-simultaneous-logins or discontinue use of the product for unsupported devices.                                                                                                                                                                                                                                        1\n",
       "The impacted products are end-of-life and should be disconnected if still in use.                                                                                                                                                                                                                                                                                                      1\n",
       "Apply mitigations per vendor instructions or disable SLP service or port 427/UDP on all systems running on untrusted networks, including those directly connected to the Internet.                                                                                                                                                                                                     1\n",
       "For all affected software assets for which updates exist, the only acceptable remediation actions are: 1) Apply updates; OR 2) remove affected assets from agency networks. Temporary mitigations using one of the measures provided at https://www.cisa.gov/uscert/ed-22-02-apache-log4j-recommended-mitigation-measures are only acceptable until updates are available.             1\n",
       "Immediately block all internet traffic to and from affected products AND apply the update per vendor instructions [https://confluence.atlassian.com/doc/confluence-security-advisory-2022-06-02-1130377146.html] OR remove the affected products by the due date on the right. Note: Once the update is successfully deployed, agencies can reassess the internet blocking rules.      1\n",
       "Apply mitigations per vendor instructions as they become available. Otherwise, users with vulnerable versions of affected devices should enable Threat Prevention IDs available from the vendor. See the vendor bulletin for more details and a patch release schedule.                                                                                                                1\n",
       "The vendor D-Link published an advisory stating the fix under CVE-2018-20114 properly patches KEV entry CVE-2018-6530. If the device is still supported, apply updates per vendor instructions. If the affected device has since entered its end-of-life, it should be disconnected if still in use.                                                                                   1\n",
       "Name: count, dtype: int64"
      ]
     },
     "execution_count": 36,
     "metadata": {},
     "output_type": "execute_result"
    }
   ],
   "source": [
    "train.required_action.value_counts()"
   ]
  },
  {
   "cell_type": "markdown",
   "id": "8b32674f",
   "metadata": {},
   "source": [
    "I see that there is only 15 options that represent the entire training dataset, howerver they are too wordy and I don;t like that, so I will engineer a new column withshort and specific identifiers for each required action ."
   ]
  },
  {
   "cell_type": "code",
   "execution_count": 37,
   "id": "a02dfab8",
   "metadata": {},
   "outputs": [],
   "source": [
    "# Create a function that handles feature engineering for vulnerability names\n",
    "def feature_eng_req_actions(data_frame):\n",
    "#     Create an array to contain the required actions\n",
    "    actions = np.array(data_frame.required_action.value_counts().keys())\n",
    "    # Define the conditions\n",
    "    conditions = [\n",
    "        data_frame['required_action'] == actions[0],\n",
    "        data_frame['required_action'] == actions[1],\n",
    "        data_frame['required_action'] == actions[2],\n",
    "        data_frame['required_action'] == actions[3],\n",
    "        data_frame['required_action'] == actions[4],\n",
    "        data_frame['required_action'] == actions[5],\n",
    "        data_frame['required_action'] == actions[6],\n",
    "        data_frame['required_action'] == actions[7],\n",
    "        data_frame['required_action'] == actions[8],\n",
    "        data_frame['required_action'] == actions[9],\n",
    "        data_frame['required_action'] == actions[10],\n",
    "        data_frame['required_action'] == actions[11],\n",
    "        data_frame['required_action'] == actions[12],\n",
    "        data_frame['required_action'] == actions[13],\n",
    "        data_frame['required_action'] == actions[14]\n",
    "    ]\n",
    "\n",
    "    # Define the corresponding values for the new feature\n",
    "    choices = [\n",
    "        \"Apply Updates\", \n",
    "        \"Apply Mitigations or Discontinue\", \n",
    "        \"End of Life Disconnect\",  \n",
    "        \"Apply Updates or Discontinue\",  \n",
    "        \"Apply Remediations or Discontinue\",  \n",
    "        \"Apply Updates or Discontinue\",  \n",
    "        \"Legacy Disconnect\",  \n",
    "        \"Verify Cisco Compliance\",  \n",
    "        \"Mitigate GroupLock or Discontinue\",  \n",
    "        \"End of Life Disconnect\",  \n",
    "        \"Mitigate or Disable SLP\",  \n",
    "        \"Log4j Remediation\",  \n",
    "        \"Internet Block and Update\",  \n",
    "        \"Enable Threat Prevention\",  \n",
    "        \"DLink Update or Disconnect\",\n",
    "    ]\n",
    "\n",
    "    # Use np.select to create the new feature\n",
    "    data_frame['required_action_new'] = np.select(conditions, choices)\n",
    "    return data_frame\n"
   ]
  },
  {
   "cell_type": "code",
   "execution_count": 38,
   "id": "c9815365",
   "metadata": {},
   "outputs": [
    {
     "data": {
      "text/plain": [
       "required_action_new\n",
       "Apply Updates                        505\n",
       "Apply Mitigations or Discontinue      93\n",
       "End of Life Disconnect                32\n",
       "Apply Updates or Discontinue          12\n",
       "Apply Remediations or Discontinue      6\n",
       "Legacy Disconnect                      3\n",
       "Verify Cisco Compliance                2\n",
       "Mitigate GroupLock or Discontinue      1\n",
       "Mitigate or Disable SLP                1\n",
       "Log4j Remediation                      1\n",
       "Internet Block and Update              1\n",
       "Enable Threat Prevention               1\n",
       "DLink Update or Disconnect             1\n",
       "Name: count, dtype: int64"
      ]
     },
     "execution_count": 38,
     "metadata": {},
     "output_type": "execute_result"
    }
   ],
   "source": [
    "feature_eng_req_actions(train).required_action_new.value_counts()"
   ]
  },
  {
   "cell_type": "markdown",
   "id": "e167b5b8",
   "metadata": {},
   "source": [
    "**Now lets look into values contained in products**"
   ]
  },
  {
   "cell_type": "code",
   "execution_count": 39,
   "id": "faa37edc",
   "metadata": {},
   "outputs": [],
   "source": [
    "product_groups= {\n",
    "    \"Operating Systems\": [\n",
    "        \"XP\", \"OS X\", \"Windows\", \"Solaris\", \"IOS, IOS XR, and IOS XE\", \n",
    "        \"Android Kernel\", \"SFOS\", \"vCenter Server and Cloud Foundation\", \n",
    "        \"MacOS\", \"Linux\", \"iOS\", \"iOS, iPadOS, and watchOS\", \n",
    "        \"iOS, iPadOS, and macOS\", \"iOS and macOS\", \"iOS and iPadOS\", \n",
    "        \"RouterOS\", \"Unraid\", \"IOS Software\", \"IOS and IOS XE\",\n",
    "        'macOS', 'IOS software', 'Android OS', 'iOS, macOS, watchOS', 'Windows',\n",
    "        'Solaris and Zettabyte File System (ZFS)', 'TerraMaster OS', 'Debian-specific Redis Servers',\n",
    "        \"Windows\", \"IOS\", \"IOS XE Software\", \"IOS, XR, and XE Software\",\n",
    "        \"SonicOS\", \"Windows CNG Key Isolation Service\", \"Client-Server Run-time Subsystem (CSRSS)\"\n",
    "    ],\n",
    "    \"Microsoft Products\": [\n",
    "        \"Defender\", \".NET Core and Visual Studio\", \"DWM Core Library\", \n",
    "        \"Enhanced Cryptographic Provider\", \"Edge and Internet Explorer\", \n",
    "        \"Desktop\", \"SMBv1\", \".NET Framework, SharePoint, Visual Studio\", \n",
    "        \"Task Scheduler\", \"Windows COM+ Event System Service\", \n",
    "        \"Internet Information Services (IIS)\", \"MiCollab, MiVoice Business Express\", \n",
    "        \"WinVerifyTrust function\", \"Malware Protection Engine\", \n",
    "        \"Forefront Threat Management Gateway (TMG)\", \n",
    "        \"Ancillary Function Driver (afd.sys)\", \"PowerPoint\", \"Excel\", \n",
    "        \"SharePoint\", \"Solution Manager\", \"Remote Desktop Services\", \n",
    "        \"Internet Explorer Scripting Engine\", \n",
    "        \"Active Management Technology (AMT), Small Business Technology (SBT), and Standard Manageability\",\n",
    "        \"Office\", \"Exchange Server\", \"Win32k\", \"Word\", \"MSHTML\", \n",
    "        \"Active Directory\", \"Silverlight\", \"Graphics Device Interface (GDI)\",\n",
    "        '.NET Framework', 'SharePoint Server', 'Internet Explorer and Edge', 'OfficeScan',\n",
    "        'Exchange', 'Office and WordPad', 'MSCOMCTL.OCX', 'Outlook',\n",
    "        \"WordPad\", \"Skype for Business\", \"XML Core Services\"\n",
    "    ],\n",
    "    \"Browsers\": [\n",
    "        \"Chrome FreeType\", \"Chromium WebP\", \"Firefox, Firefox ESR, and Thunderbird\", \n",
    "        \"Chromium Intents\", \"Chromium Visuals\", \"Chromium Animation\", \n",
    "        \"Chrome WebAudio\", \"Chromium WebGL\", \"WebRTC\", \n",
    "        \"Chromium WebRTC\", \"Chromium Portals\", \"Chromium Skia\", \n",
    "        \"Chromium Mojo\", \"Internet Explorer\", \"Chromium V8\", \n",
    "        \"Firefox and Thunderbird\", \"Firefox\", \"Edge\", \n",
    "        \"Chromium\", \"Chromium Network Service\",\n",
    "        'Chrome', 'Chromium PopupBlocker', 'Chromium GPU', 'WebKitGTK', 'Chrome Blink',\n",
    "        'Chromium libvpx', 'Chromium Indexed DB API', 'Chrome Media',\n",
    "        \"Toolbox Browser\", \"Chrome for Android UI\", \"Chromium Blink\"\n",
    "    ],\n",
    "    \"Adobe Products\": [\n",
    "        \"Reader\", \"Flash Player\", \"Shockwave Player\", \"Photoshop\", \"Illustrator\", \n",
    "        \"Flash Player and AIR\", \"Adobe Reader\", \"Acrobat and Reader\", \n",
    "        \"Reader and Acrobat\", \"ColdFusion\",\n",
    "        'Acrobat and Reader, Flash Player'\n",
    "    ],\n",
    "    \"Networking\": [\n",
    "        \"DIR-600 Router\", \"Small Business RV160, RV260, RV340, and RV345 Series Routers\", \n",
    "        \"Small Business RV320 and RV325 Routers\", \"Ethernet Diagnostics Driver for Windows\", \n",
    "        \"EMG2926 Routers\", \"DWL-2600AP Access Point\", \"WNR2000v5 Router\", \n",
    "        \"DSL-2760U\", \"Wireless Access Point (WAP) Devices\", \n",
    "        \"RV Series Routers\", \"P660HN-T1A Routers\", \"DIR-859 Router\", \n",
    "        \"DIR-825 R1 Devices\", \"Multiple Archer Devices\", \"Multiple Routers\", \n",
    "        \"EyesOfNetwork\", \"Prime Data Center Network Manager (DCNM)\", \n",
    "        \"Aria Operations for Networks\", \"SD-WAN Edge\", \n",
    "        \"Service Location Protocol (SLP)\", \"Firewall\", \n",
    "        \"Secure Remote Access (SRA)\", \"Multiple Vigor Routers\", \n",
    "        \"DSL-2750B Devices\", \"Archer AX21\", \"Networking Hardware\", \n",
    "        \"Junos OS\", \"Multiple Chipsets\", \"IOS and IOS XE Software\", \n",
    "        \"IOS XR\", \"NetScaler ADC and NetScaler Gateway\", \n",
    "        \"Adaptive Security Appliance (ASA)\", \"Adaptive Security Appliance (ASA) and Firepower Threat Defense (FTD)\", \n",
    "        \"SD-WAN and NetScaler\", \"BIG-IP and BIG-IQ Centralized Management\",\n",
    "        \"ProCurve Manager (PCM), PCM+, Identity Driven Manager (IDM), and Application Lifecycle Management\",\n",
    "        \"VPN Routers\", \"Multiple NAS Devices\", \"Multiple Devices\",\n",
    "        \"BIG-IP Configuration Utility\", \"ScreenConnect\", \"Connect Secure, Policy Secure, and Neurons\",\"Secure Remote Access (SRA)\",\n",
    "        'Gigabit Passive Optical Network (GPON) Routers', 'DIR-300 Router', 'DIR-820L', 'DIR-605 Router',\n",
    "        'DIR-610 Devices', 'Small Business RV320 and RV325 Dual Gigabit WAN VPN Routers', 'WARP, IPVPN, and MPVPN software',\n",
    "        'AirOS', 'IPv6', 'Netlogon', 'DNS-320 Device', 'Cyber Infrastructure (ACI)',\n",
    "        \"Webmail\", \"Roundcube Webmail\", \"Serv-U\", \"BIG-IP\", \"Nagios XI\", \"Cacti\", \n",
    "        \"Samba\", \"HTTP File Server\", \"HTTP Protocol Stack\", \"rConfig\", \"Mail Transfer Agent (MTA)\",\n",
    "        \"OpenSMTPD\", \"Aviatrix Controller\", \"OpenView Network Node Manager\", \"DIR-645 Router\",\n",
    "        \"DGN2200 Devices\", \"WF2419 Devices\", \"Wireless Router DGN2200\", \"AC7, AC9, and AC10 Routers\",\n",
    "        \"AC1900 Router AC15 Model\", \"AC11 Router\", \"Enhanced Multimedia Router (EMR)\",\n",
    "        \"JGS516PE Devices\", \"Linear eMerge E3-Series\", \"Firebox and XTM\"\n",
    "    ],\n",
    "    \"Cisco Products\": [\n",
    "        \"IOS XE Web UI\", \"NX-OS\", \"NetScaler SD-WAN Enterprise, CloudBridge Virtual WAN, and XenMobile Server\", \n",
    "        \"Adaptive Security Appliance and Firepower Threat Defense\", \"HyperFlex HX\", \n",
    "        \"UCM6200\", \"IOS and IOS XE Software\", \"IOS Software and Cisco IOS XE Software\", \n",
    "        \"IOS XR\", \"Adaptive Security Appliance (ASA)\", \n",
    "        \"Adaptive Security Appliance (ASA) and Firepower Threat Defense (FTD)\", \n",
    "        \"AnyConnect Secure\", 'Cisco IOS XE Web UI', 'Cisco IP Phones', 'Catalyst 6800 Series Switches', \n",
    "        'Catalyst 4500 Series Switches and Cisco Catalyst 4500-X Series Switches','SMBv1 server', 'SMBv3',\n",
    "        \"IOS XE Software\", \"IOS, XR, and XE Software\"\n",
    "    ],\n",
    "    \"Security\": [\n",
    "        \"Apex One and OfficeScan\", \"Endpoint Manager Mobile (EPMM)\", \n",
    "        \"Orion\", \"Symantec Messaging Gateway\", \"SG UTM\", \n",
    "        \"Application Delivery Controller (ADC), Gateway, and SD-WAN WANOP Appliance\", \n",
    "        \"SSLVPN SMA100\", \"Multiple Firewalls\", \"SMA 100 Appliances\", \n",
    "        \"Firebox and XTM Appliances\", \"Pulse Connect Secure and Pulse Policy Secure\", \n",
    "        \"SysAid Server\", \"Operation Bridge Reporter (OBR)\", \n",
    "        \"Unified Data Protection (UDP)\", \"FortiOS and FortiADC\", \n",
    "        \"FortiOS and FortiProxy\", \"McAfee Total Protection (MTP)\", \n",
    "        \"Security cameras web server\", \"Auditor\", \"VioStor NVR\", \"Sentry\",\n",
    "        \"FortiOS\", \"Pulse Connect Secure\", \"PAN-OS\", \"Collaboration (ZCS)\",\n",
    "        \"Apex One, Apex One as a Service, and Worry-Free Business Security\",\n",
    "        \"Cobalt Strike\", \"SonicWall Email Security\", \"Crowd and Crowd Data Center\",\n",
    "        \"Endpoint Manager Mobile (EPMM) and MobileIron Core\", \"MOVEit Transfer\",\n",
    "        \"Kerberos Key Distribution Center (KDC)\", \"Backup & Replication\", \n",
    "        \"Polkit\", \"GoAnywhere MFT\",'FortiClient EMS', 'FortiOS and FortiProxy SSL-VPN', \n",
    "        'Quantum Security Gateways', 'Email Security Gateway (ESG) Appliance',\n",
    "        'SmartScreen Prompt', 'Secure Access Control System (ACS)', 'Script Security Plugin',\n",
    "        \"Open Management Infrastructure (OMI)\", \"Connect Secure and Policy Secure\",\n",
    "        \"SMA100\", \"Application Delivery Controller (ADC) and Gateway\", \"Apex One and Apex One as a Service\",\n",
    "        \"Apex One and Worry-Free Business Security\", \"Apex One, OfficeScan, and Worry-Free Business Security\",\n",
    "        \"Apex One, OfficeScan and Worry-Free Business Security Agents\", \"KACE System Management Appliance\",\n",
    "        \"Micro Focus Access Manager\", \"Authy\", \"MobileIron Multiple Products\", \"ManageEngine ServiceDesk Plus (SDP) / SupportCenter Plus\",\n",
    "        \"ManageEngine ServiceDesk Plus (SDP)\", \"Social Warfare Plugin\", \"Snap Creek Duplicator Plugin\",\n",
    "        \"Firebox and XTM\", \"Snapdragon Auto, Snapdragon Compute, Snapdragon Connectivity, Snapdragon Consumer IOT, Snapdragon Industrial IOT, Snapdragon Mobile, Snapdragon Voice & Music, Snapdragon Wearables\",\n",
    "        \"Exim Internet Mailer\", \"DirectX Graphics Kernel (DXGKRNL)\", \"Access Management (AM)\"\n",
    "    ],\n",
    "    \"Development and Frameworks\": [\n",
    "        \"October CMS\", \"Spring Cloud\", \"Spring Cloud Gateway\", \"Spring Framework\", \n",
    "        \"Sudo\", \"ImageMagick\", \"dotCMS\", \"PHPUnit\", \"GeoServer\", \"RocketMQ\", \n",
    "        \"Java Runtime Environment (JRE)\", \"Matrix Project Plugin\", \n",
    "        \"Frontend\", \"User Interface (UI) for ASP.NET AJAX\", \"Ruby on Rails\", \n",
    "        \"Telerik UI for ASP.NET AJAX\", \"Airflow\", \"Airflow's Experimental API\", \n",
    "        \"GitLab CE/EE\", \"Framework\", \"Confluence\", \"noneCms\", \n",
    "        \"PHP\", \"Java SE\", \"Struts\", \"NetWeaver\", \"Salt\", \"Log4j2\", \n",
    "        \"Jenkins Stapler Web Framework\", \"DotNetNuke (DNN)\", \"Struts 1\", \"ActiveMQ\",\n",
    "        'Jenkins User Interface (UI)', 'Java SE and JRockit', \n",
    "        'Joomla!', 'Laravel Framework', 'Spring Cloud Configuration (Config) Server',\n",
    "        'BlazeDS', 'Apache', 'Struts 2', 'ChakraCore scripting engine', 'Symfony', 'ThinkPHP', 'GoAhead',\n",
    "        \"Spring Data Commons\", \"Telerik Report Server\", \"ASP.NET AJAX and Sitefinity\", \"Ignition\",\n",
    "        \"Jungle Software Development Kit (SDK)\", \"Java SE JDK and JRE\", \"SDK\", \"JAI-EXT\", \"Shiro\",\n",
    "        \"Superset\", \"Primefaces Application\", \"mongo-express\", \"AdminLTE\", \"Fuel CMS\",\n",
    "        \"System Information Library for Node.JS\", \"AP-Router SDK\", \"BIG-IP Traffic Management Microkernel\",\n",
    "        \"BIG-IP\", \"VTScada (formerly VTS)\", \"Web Studio\", \"OmniPCX Enterprise\", \"Novi Survey\", \n",
    "        \"Checkbox Survey\", \"PlaySMS\", \"Vision PLC and HMI\", \"Tools\", \"Trusted Firmware\", \"GNU C Library\",\n",
    "        \"Web Appliance\", \"Apex Central\", \"Ignition\", \"Apex One\", \"Worry-Free Business Security\",\n",
    "        \"DBUTIL Driver\"\n",
    "    ],\n",
    "    \"Web Servers and Middleware\": [\n",
    "        \"HTTP Server\", \"Exim\", \"Openfire\", \"FastCGI Process Manager (FPM)\", \n",
    "        \"Internet Information Services (IIS)\", \"WS_FTP Server\", \n",
    "        \"Streaming Service Proxy\", \"Big-IP\", \"XStream\", \"HTTP.sys\", \n",
    "        \"Webmin\", \"Collaboration Suite (ZCS)\", \"HTTP File Server (HFS)\", \n",
    "        \"Content Collaboration\", \"WebRTC\", \"WebLogic Server\", \"Tomcat\", \n",
    "        \"Fusion Middleware\", \"WebSphere Application Server and Server Hypervisor Edition\", \n",
    "        \"Solr\", \"Bourne-Again Shell (Bash)\",\n",
    "        'JBoss', 'Confluence Data Center and Server', 'Elasticsearch', 'vBulletin', 'APISIX', 'Grafana',\n",
    "        'JasperReports', 'Control Web Panel', 'Jenkins User Interface (UI)', 'Big-IP Traffic Management Microkernel',\n",
    "        'Mirth Connect', 'Apache', 'Flink', 'Jenkins', 'JBoss Application Server', 'JBoss Seam 2',\n",
    "        'Joomla!', 'Jira Server and Data Center', 'Drupal Core', 'Liferay Portal', 'Zimbra Collaboration (ZCS)',\n",
    "        \"Confluence Server and Data Center\", \"Confluence Server/Data Center\", \"Confluence Server\",\n",
    "        \"Drupal core\", \"Ghostscript\", \"GLPI\", \"E-Business Suite\", \"Aspera Faspex\", \"StoreFront Server\",\n",
    "        \"Media Server\", \"Workspace Application and Receiver for Windows\", \"JBoss RichFaces Framework\",\n",
    "        \"BI Publisher (Formerly XML Publisher)\", \"UnRAR\", \"Archive_Tar\", \"Streaming Service\",\n",
    "        \"Planning Analytics\"\n",
    "    ],\n",
    "    \"Virtualization and Cloud\": [\n",
    "        \"ESXi\", \"MinIO\", \"Xen\", \"VirtualBox\", \"VMware\", \"KVM\", \n",
    "        \"Virtualization Manager\", \"Hyper-V RemoteFX\", \"Kylin\", \n",
    "        \"Workspace ONE Access and Identity Manager\", \n",
    "        \"vCenter Server\", \"Virtual System/Server Administrator (VSA)\", \n",
    "        \"ownCloud graphapi\", 'VMware ESXi and Horizon DaaS',\n",
    "        \"Endpoint Manager Cloud Service Appliance (EPM CSA)\", \"CrushFTP\", \"Cloud\", \"Confluence Server and Data Server\",\n",
    "        \"Cameras and Network Video Recorder (NVR)\", \"Authy\"\n",
    "    ],\n",
    "    \"Database\": [\n",
    "        \"CouchDB\", \"Cassandra\", \"Redis\", \"MySQL\", \"PostgreSQL\", \n",
    "        \"MariaDB\", \"MongoDB\", \"Oracle\", \"InfoSphere BigInsights\", \n",
    "        \"Nexus Repository Manager\", \"Nexus Repository\",\n",
    "        \"Commerce and Magento Open Source\", \"ManageEngine\", \"Data Risk Manager\",\n",
    "        'phpMyAdmin', 'Redis Servers', 'Mongo Express',\n",
    "        \"dbutil Driver\", \"Planning Analytics\", \"BI Publisher (Formerly XML Publisher)\",\n",
    "        \"Spreadsheet::ParseExcel\"\n",
    "    ],\n",
    "    \"Storage\": [\n",
    "        \"QNAP Network-Attached Storage (NAS)\", \"NVMS-1000\", \n",
    "        \"SureLine\", \"Synology NAS\", \"Seagate Drives\", \"DNS-320 Storage Device\",\n",
    "        \"MiVoice Connect\", \"Network Attached Storage (NAS)\", \n",
    "        \"Backup Exec Agent\", \"Multiple Network-Attached Storage (NAS) Devices\",\n",
    "        'N1A1 NAS', 'Buffalo Firmware', 'QTS', 'vRealize Operations Manager API',\n",
    "        \"Samba\", \"Photo Station\", \"File Manager Plugin\"\n",
    "    ],\n",
    "    \"Hardware\": [\n",
    "        \"Mali Graphics Processing Unit (GPU)\", \"Mali GPU Kernel Driver\", \"Pixel\", \"Mobile Devices\",\n",
    "        \"Cameras and Network Video Recorder (NVR)\", \"SIMATIC CP\", \"DCS-930L Devices\", \"Compact\", \n",
    "        \"ATM Font Driver\", \"AE1021, AE1021PE\", \"ACDB Audio Driver\"\n",
    "    ]\n",
    "}\n"
   ]
  },
  {
   "cell_type": "code",
   "execution_count": 40,
   "id": "627e2009",
   "metadata": {},
   "outputs": [
    {
     "data": {
      "text/plain": [
       "product_category\n",
       "Operating Systems             117\n",
       "Networking                     81\n",
       "Microsoft Products             68\n",
       "Other                          67\n",
       "Security                       63\n",
       "Development and Frameworks     58\n",
       "Browsers                       56\n",
       "Adobe Products                 43\n",
       "Web Servers and Middleware     37\n",
       "Virtualization and Cloud       17\n",
       "Hardware                       15\n",
       "Storage                        15\n",
       "Cisco Products                 12\n",
       "Database                       10\n",
       "Name: count, dtype: int64"
      ]
     },
     "execution_count": 40,
     "metadata": {},
     "output_type": "execute_result"
    }
   ],
   "source": [
    "def map_product_groups(product):\n",
    "    for key, value in product_groups.items():\n",
    "        if product in value:\n",
    "            return key\n",
    "    return \"Other\"\n",
    "train[\"product_category\"] = train[\"product\"].apply(map_product_groups)\n",
    "train.product_category.value_counts()"
   ]
  },
  {
   "cell_type": "markdown",
   "id": "4fba3743",
   "metadata": {},
   "source": [
    "**Apply new changes to the entire dataframe**"
   ]
  },
  {
   "cell_type": "code",
   "execution_count": 41,
   "id": "558cc386",
   "metadata": {},
   "outputs": [
    {
     "data": {
      "text/html": [
       "<div>\n",
       "<style scoped>\n",
       "    .dataframe tbody tr th:only-of-type {\n",
       "        vertical-align: middle;\n",
       "    }\n",
       "\n",
       "    .dataframe tbody tr th {\n",
       "        vertical-align: top;\n",
       "    }\n",
       "\n",
       "    .dataframe thead th {\n",
       "        text-align: right;\n",
       "    }\n",
       "</style>\n",
       "<table border=\"1\" class=\"dataframe\">\n",
       "  <thead>\n",
       "    <tr style=\"text-align: right;\">\n",
       "      <th></th>\n",
       "      <th>vendor_project</th>\n",
       "      <th>product</th>\n",
       "      <th>vulnerability_name</th>\n",
       "      <th>date_added</th>\n",
       "      <th>short_description</th>\n",
       "      <th>required_action</th>\n",
       "      <th>due_date</th>\n",
       "      <th>known_ransomware_campaign_use</th>\n",
       "      <th>notes</th>\n",
       "      <th>vulnerability_type</th>\n",
       "      <th>required_action_new</th>\n",
       "      <th>product_category</th>\n",
       "    </tr>\n",
       "  </thead>\n",
       "  <tbody>\n",
       "    <tr>\n",
       "      <th>0</th>\n",
       "      <td>Accellion</td>\n",
       "      <td>FTA</td>\n",
       "      <td>Accellion FTA OS Command Injection Vulnerability</td>\n",
       "      <td>2021-11-03</td>\n",
       "      <td>Accellion FTA contains an OS command injection...</td>\n",
       "      <td>Apply updates per vendor instructions.</td>\n",
       "      <td>2021-11-17</td>\n",
       "      <td>Known</td>\n",
       "      <td>NaN</td>\n",
       "      <td>Command Injection Vulnerability</td>\n",
       "      <td>Apply Updates</td>\n",
       "      <td>Other</td>\n",
       "    </tr>\n",
       "    <tr>\n",
       "      <th>1</th>\n",
       "      <td>Accellion</td>\n",
       "      <td>FTA</td>\n",
       "      <td>Accellion FTA OS Command Injection Vulnerability</td>\n",
       "      <td>2021-11-03</td>\n",
       "      <td>Accellion FTA contains an OS command injection...</td>\n",
       "      <td>Apply updates per vendor instructions.</td>\n",
       "      <td>2021-11-17</td>\n",
       "      <td>Known</td>\n",
       "      <td>NaN</td>\n",
       "      <td>Command Injection Vulnerability</td>\n",
       "      <td>Apply Updates</td>\n",
       "      <td>Other</td>\n",
       "    </tr>\n",
       "    <tr>\n",
       "      <th>2</th>\n",
       "      <td>Accellion</td>\n",
       "      <td>FTA</td>\n",
       "      <td>Accellion FTA SQL Injection Vulnerability</td>\n",
       "      <td>2021-11-03</td>\n",
       "      <td>Accellion FTA contains a SQL injection vulnera...</td>\n",
       "      <td>Apply updates per vendor instructions.</td>\n",
       "      <td>2021-11-17</td>\n",
       "      <td>Known</td>\n",
       "      <td>NaN</td>\n",
       "      <td>Command Injection Vulnerability</td>\n",
       "      <td>Apply Updates</td>\n",
       "      <td>Other</td>\n",
       "    </tr>\n",
       "    <tr>\n",
       "      <th>3</th>\n",
       "      <td>Accellion</td>\n",
       "      <td>FTA</td>\n",
       "      <td>Accellion FTA Server-Side Request Forgery (SSR...</td>\n",
       "      <td>2021-11-03</td>\n",
       "      <td>Accellion FTA contains a server-side request f...</td>\n",
       "      <td>Apply updates per vendor instructions.</td>\n",
       "      <td>2021-11-17</td>\n",
       "      <td>Known</td>\n",
       "      <td>NaN</td>\n",
       "      <td>Server-Side Request Forgery (SSRF) Vulnerabili...</td>\n",
       "      <td>Apply Updates</td>\n",
       "      <td>Other</td>\n",
       "    </tr>\n",
       "    <tr>\n",
       "      <th>4</th>\n",
       "      <td>Adobe</td>\n",
       "      <td>Acrobat and Reader</td>\n",
       "      <td>Adobe Acrobat and Reader Heap-based Buffer Ove...</td>\n",
       "      <td>2021-11-03</td>\n",
       "      <td>Acrobat Acrobat and Reader contain a heap-base...</td>\n",
       "      <td>Apply updates per vendor instructions.</td>\n",
       "      <td>2021-11-17</td>\n",
       "      <td>Unknown</td>\n",
       "      <td>NaN</td>\n",
       "      <td>Buffer Overflow Vulnerability</td>\n",
       "      <td>Apply Updates</td>\n",
       "      <td>Adobe Products</td>\n",
       "    </tr>\n",
       "  </tbody>\n",
       "</table>\n",
       "</div>"
      ],
      "text/plain": [
       "  vendor_project             product  \\\n",
       "0      Accellion                 FTA   \n",
       "1      Accellion                 FTA   \n",
       "2      Accellion                 FTA   \n",
       "3      Accellion                 FTA   \n",
       "4          Adobe  Acrobat and Reader   \n",
       "\n",
       "                                  vulnerability_name  date_added  \\\n",
       "0   Accellion FTA OS Command Injection Vulnerability  2021-11-03   \n",
       "1   Accellion FTA OS Command Injection Vulnerability  2021-11-03   \n",
       "2          Accellion FTA SQL Injection Vulnerability  2021-11-03   \n",
       "3  Accellion FTA Server-Side Request Forgery (SSR...  2021-11-03   \n",
       "4  Adobe Acrobat and Reader Heap-based Buffer Ove...  2021-11-03   \n",
       "\n",
       "                                   short_description  \\\n",
       "0  Accellion FTA contains an OS command injection...   \n",
       "1  Accellion FTA contains an OS command injection...   \n",
       "2  Accellion FTA contains a SQL injection vulnera...   \n",
       "3  Accellion FTA contains a server-side request f...   \n",
       "4  Acrobat Acrobat and Reader contain a heap-base...   \n",
       "\n",
       "                          required_action    due_date  \\\n",
       "0  Apply updates per vendor instructions.  2021-11-17   \n",
       "1  Apply updates per vendor instructions.  2021-11-17   \n",
       "2  Apply updates per vendor instructions.  2021-11-17   \n",
       "3  Apply updates per vendor instructions.  2021-11-17   \n",
       "4  Apply updates per vendor instructions.  2021-11-17   \n",
       "\n",
       "  known_ransomware_campaign_use notes  \\\n",
       "0                         Known   NaN   \n",
       "1                         Known   NaN   \n",
       "2                         Known   NaN   \n",
       "3                         Known   NaN   \n",
       "4                       Unknown   NaN   \n",
       "\n",
       "                                  vulnerability_type required_action_new  \\\n",
       "0                    Command Injection Vulnerability       Apply Updates   \n",
       "1                    Command Injection Vulnerability       Apply Updates   \n",
       "2                    Command Injection Vulnerability       Apply Updates   \n",
       "3  Server-Side Request Forgery (SSRF) Vulnerabili...       Apply Updates   \n",
       "4                      Buffer Overflow Vulnerability       Apply Updates   \n",
       "\n",
       "  product_category  \n",
       "0            Other  \n",
       "1            Other  \n",
       "2            Other  \n",
       "3            Other  \n",
       "4   Adobe Products  "
      ]
     },
     "execution_count": 41,
     "metadata": {},
     "output_type": "execute_result"
    }
   ],
   "source": [
    "df = feature_eng_vul_names(df)\n",
    "df = feature_eng_req_actions(df)\n",
    "df[\"product_category\"] = df[\"product\"].apply(map_product_groups)\n",
    "df.head()"
   ]
  },
  {
   "cell_type": "code",
   "execution_count": 42,
   "id": "4c8404e4",
   "metadata": {},
   "outputs": [],
   "source": [
    "# Create a month and uear column from the training date added\n",
    "date_added = pd.to_datetime(df.date_added)\n",
    "year = date_added.dt.year\n",
    "month = date_added.dt.month\n",
    "df[\"year_added\"] = pd.Series(year).astype(\"int\")\n",
    "df[\"monthe_added\"] = pd.Series(month).astype(\"int\")"
   ]
  },
  {
   "cell_type": "code",
   "execution_count": 43,
   "id": "99e03259",
   "metadata": {
    "scrolled": true
   },
   "outputs": [
    {
     "data": {
      "text/html": [
       "<div>\n",
       "<style scoped>\n",
       "    .dataframe tbody tr th:only-of-type {\n",
       "        vertical-align: middle;\n",
       "    }\n",
       "\n",
       "    .dataframe tbody tr th {\n",
       "        vertical-align: top;\n",
       "    }\n",
       "\n",
       "    .dataframe thead th {\n",
       "        text-align: right;\n",
       "    }\n",
       "</style>\n",
       "<table border=\"1\" class=\"dataframe\">\n",
       "  <thead>\n",
       "    <tr style=\"text-align: right;\">\n",
       "      <th></th>\n",
       "      <th>vendor_project</th>\n",
       "      <th>known_ransomware_campaign_use</th>\n",
       "      <th>vulnerability_type</th>\n",
       "      <th>required_action_new</th>\n",
       "      <th>product_category</th>\n",
       "      <th>year_added</th>\n",
       "      <th>monthe_added</th>\n",
       "    </tr>\n",
       "  </thead>\n",
       "  <tbody>\n",
       "    <tr>\n",
       "      <th>0</th>\n",
       "      <td>Accellion</td>\n",
       "      <td>Known</td>\n",
       "      <td>Command Injection Vulnerability</td>\n",
       "      <td>Apply Updates</td>\n",
       "      <td>Other</td>\n",
       "      <td>2021</td>\n",
       "      <td>11</td>\n",
       "    </tr>\n",
       "    <tr>\n",
       "      <th>1</th>\n",
       "      <td>Accellion</td>\n",
       "      <td>Known</td>\n",
       "      <td>Command Injection Vulnerability</td>\n",
       "      <td>Apply Updates</td>\n",
       "      <td>Other</td>\n",
       "      <td>2021</td>\n",
       "      <td>11</td>\n",
       "    </tr>\n",
       "    <tr>\n",
       "      <th>2</th>\n",
       "      <td>Accellion</td>\n",
       "      <td>Known</td>\n",
       "      <td>Command Injection Vulnerability</td>\n",
       "      <td>Apply Updates</td>\n",
       "      <td>Other</td>\n",
       "      <td>2021</td>\n",
       "      <td>11</td>\n",
       "    </tr>\n",
       "  </tbody>\n",
       "</table>\n",
       "</div>"
      ],
      "text/plain": [
       "  vendor_project known_ransomware_campaign_use  \\\n",
       "0      Accellion                         Known   \n",
       "1      Accellion                         Known   \n",
       "2      Accellion                         Known   \n",
       "\n",
       "                vulnerability_type required_action_new product_category  \\\n",
       "0  Command Injection Vulnerability       Apply Updates            Other   \n",
       "1  Command Injection Vulnerability       Apply Updates            Other   \n",
       "2  Command Injection Vulnerability       Apply Updates            Other   \n",
       "\n",
       "   year_added  monthe_added  \n",
       "0        2021            11  \n",
       "1        2021            11  \n",
       "2        2021            11  "
      ]
     },
     "execution_count": 43,
     "metadata": {},
     "output_type": "execute_result"
    }
   ],
   "source": [
    "# remove columns not needed\n",
    "df = df.drop(columns=[\"notes\", \"short_description\", \"vulnerability_name\",\"date_added\", \"due_date\", \"required_action\", \"product\"])\n",
    "df.head(3)"
   ]
  },
  {
   "cell_type": "markdown",
   "id": "6a38e628",
   "metadata": {},
   "source": [
    "### Dummies\n",
    "\n",
    "Create dummy variables for modeling"
   ]
  },
  {
   "cell_type": "code",
   "execution_count": 45,
   "id": "7922cc5b",
   "metadata": {},
   "outputs": [],
   "source": [
    "\n",
    "# First create a copy of the original dataframe\n",
    "df_dummy = df.copy()"
   ]
  },
  {
   "cell_type": "code",
   "execution_count": 48,
   "id": "aae94854",
   "metadata": {},
   "outputs": [
    {
     "data": {
      "text/html": [
       "<div>\n",
       "<style scoped>\n",
       "    .dataframe tbody tr th:only-of-type {\n",
       "        vertical-align: middle;\n",
       "    }\n",
       "\n",
       "    .dataframe tbody tr th {\n",
       "        vertical-align: top;\n",
       "    }\n",
       "\n",
       "    .dataframe thead th {\n",
       "        text-align: right;\n",
       "    }\n",
       "</style>\n",
       "<table border=\"1\" class=\"dataframe\">\n",
       "  <thead>\n",
       "    <tr style=\"text-align: right;\">\n",
       "      <th></th>\n",
       "      <th>vendor_project</th>\n",
       "      <th>vulnerability_type</th>\n",
       "      <th>required_action_new</th>\n",
       "      <th>product_category</th>\n",
       "      <th>year_added</th>\n",
       "      <th>monthe_added</th>\n",
       "    </tr>\n",
       "  </thead>\n",
       "  <tbody>\n",
       "    <tr>\n",
       "      <th>0</th>\n",
       "      <td>Accellion</td>\n",
       "      <td>Command Injection Vulnerability</td>\n",
       "      <td>Apply Updates</td>\n",
       "      <td>Other</td>\n",
       "      <td>2021</td>\n",
       "      <td>11</td>\n",
       "    </tr>\n",
       "    <tr>\n",
       "      <th>1</th>\n",
       "      <td>Accellion</td>\n",
       "      <td>Command Injection Vulnerability</td>\n",
       "      <td>Apply Updates</td>\n",
       "      <td>Other</td>\n",
       "      <td>2021</td>\n",
       "      <td>11</td>\n",
       "    </tr>\n",
       "    <tr>\n",
       "      <th>2</th>\n",
       "      <td>Accellion</td>\n",
       "      <td>Command Injection Vulnerability</td>\n",
       "      <td>Apply Updates</td>\n",
       "      <td>Other</td>\n",
       "      <td>2021</td>\n",
       "      <td>11</td>\n",
       "    </tr>\n",
       "  </tbody>\n",
       "</table>\n",
       "</div>"
      ],
      "text/plain": [
       "  vendor_project               vulnerability_type required_action_new  \\\n",
       "0      Accellion  Command Injection Vulnerability       Apply Updates   \n",
       "1      Accellion  Command Injection Vulnerability       Apply Updates   \n",
       "2      Accellion  Command Injection Vulnerability       Apply Updates   \n",
       "\n",
       "  product_category  year_added  monthe_added  \n",
       "0            Other        2021            11  \n",
       "1            Other        2021            11  \n",
       "2            Other        2021            11  "
      ]
     },
     "execution_count": 48,
     "metadata": {},
     "output_type": "execute_result"
    }
   ],
   "source": [
    "# get all the columns to upply dummies to\n",
    "dummy_col = df_dummy.columns[df_dummy.columns != \"known_ransomware_campaign_use\"]\n",
    "dummy_col = dummy_col[dummy_col != \"date_added\"]\n",
    "df_dummy[dummy_col].head(3)"
   ]
  },
  {
   "cell_type": "code",
   "execution_count": 49,
   "id": "b52201d8",
   "metadata": {},
   "outputs": [
    {
     "name": "stdout",
     "output_type": "stream",
     "text": [
      "<class 'pandas.core.frame.DataFrame'>\n",
      "Index: 1099 entries, 0 to 1139\n",
      "Data columns (total 7 columns):\n",
      " #   Column                         Non-Null Count  Dtype \n",
      "---  ------                         --------------  ----- \n",
      " 0   vendor_project                 1099 non-null   object\n",
      " 1   known_ransomware_campaign_use  1099 non-null   object\n",
      " 2   vulnerability_type             1099 non-null   object\n",
      " 3   required_action_new            1099 non-null   object\n",
      " 4   product_category               1099 non-null   object\n",
      " 5   year_added                     1099 non-null   int64 \n",
      " 6   monthe_added                   1099 non-null   int64 \n",
      "dtypes: int64(2), object(5)\n",
      "memory usage: 68.7+ KB\n"
     ]
    }
   ],
   "source": [
    "df_dummy.info()"
   ]
  },
  {
   "cell_type": "code",
   "execution_count": 50,
   "id": "bb0c8517",
   "metadata": {},
   "outputs": [
    {
     "data": {
      "text/html": [
       "<div>\n",
       "<style scoped>\n",
       "    .dataframe tbody tr th:only-of-type {\n",
       "        vertical-align: middle;\n",
       "    }\n",
       "\n",
       "    .dataframe tbody tr th {\n",
       "        vertical-align: top;\n",
       "    }\n",
       "\n",
       "    .dataframe thead th {\n",
       "        text-align: right;\n",
       "    }\n",
       "</style>\n",
       "<table border=\"1\" class=\"dataframe\">\n",
       "  <thead>\n",
       "    <tr style=\"text-align: right;\">\n",
       "      <th></th>\n",
       "      <th>year_added</th>\n",
       "      <th>monthe_added</th>\n",
       "      <th>vendor_project_Acronis</th>\n",
       "      <th>vendor_project_Adobe</th>\n",
       "      <th>vendor_project_Alcatel</th>\n",
       "      <th>vendor_project_Amcrest</th>\n",
       "      <th>vendor_project_Android</th>\n",
       "      <th>vendor_project_Apache</th>\n",
       "      <th>vendor_project_Apple</th>\n",
       "      <th>vendor_project_Arcadyan</th>\n",
       "      <th>...</th>\n",
       "      <th>product_category_Development and Frameworks</th>\n",
       "      <th>product_category_Hardware</th>\n",
       "      <th>product_category_Microsoft Products</th>\n",
       "      <th>product_category_Networking</th>\n",
       "      <th>product_category_Operating Systems</th>\n",
       "      <th>product_category_Other</th>\n",
       "      <th>product_category_Security</th>\n",
       "      <th>product_category_Storage</th>\n",
       "      <th>product_category_Virtualization and Cloud</th>\n",
       "      <th>product_category_Web Servers and Middleware</th>\n",
       "    </tr>\n",
       "  </thead>\n",
       "  <tbody>\n",
       "    <tr>\n",
       "      <th>0</th>\n",
       "      <td>2021</td>\n",
       "      <td>11</td>\n",
       "      <td>0</td>\n",
       "      <td>0</td>\n",
       "      <td>0</td>\n",
       "      <td>0</td>\n",
       "      <td>0</td>\n",
       "      <td>0</td>\n",
       "      <td>0</td>\n",
       "      <td>0</td>\n",
       "      <td>...</td>\n",
       "      <td>0</td>\n",
       "      <td>0</td>\n",
       "      <td>0</td>\n",
       "      <td>0</td>\n",
       "      <td>0</td>\n",
       "      <td>1</td>\n",
       "      <td>0</td>\n",
       "      <td>0</td>\n",
       "      <td>0</td>\n",
       "      <td>0</td>\n",
       "    </tr>\n",
       "    <tr>\n",
       "      <th>1</th>\n",
       "      <td>2021</td>\n",
       "      <td>11</td>\n",
       "      <td>0</td>\n",
       "      <td>0</td>\n",
       "      <td>0</td>\n",
       "      <td>0</td>\n",
       "      <td>0</td>\n",
       "      <td>0</td>\n",
       "      <td>0</td>\n",
       "      <td>0</td>\n",
       "      <td>...</td>\n",
       "      <td>0</td>\n",
       "      <td>0</td>\n",
       "      <td>0</td>\n",
       "      <td>0</td>\n",
       "      <td>0</td>\n",
       "      <td>1</td>\n",
       "      <td>0</td>\n",
       "      <td>0</td>\n",
       "      <td>0</td>\n",
       "      <td>0</td>\n",
       "    </tr>\n",
       "    <tr>\n",
       "      <th>2</th>\n",
       "      <td>2021</td>\n",
       "      <td>11</td>\n",
       "      <td>0</td>\n",
       "      <td>0</td>\n",
       "      <td>0</td>\n",
       "      <td>0</td>\n",
       "      <td>0</td>\n",
       "      <td>0</td>\n",
       "      <td>0</td>\n",
       "      <td>0</td>\n",
       "      <td>...</td>\n",
       "      <td>0</td>\n",
       "      <td>0</td>\n",
       "      <td>0</td>\n",
       "      <td>0</td>\n",
       "      <td>0</td>\n",
       "      <td>1</td>\n",
       "      <td>0</td>\n",
       "      <td>0</td>\n",
       "      <td>0</td>\n",
       "      <td>0</td>\n",
       "    </tr>\n",
       "  </tbody>\n",
       "</table>\n",
       "<p>3 rows × 231 columns</p>\n",
       "</div>"
      ],
      "text/plain": [
       "   year_added  monthe_added  vendor_project_Acronis  vendor_project_Adobe  \\\n",
       "0        2021            11                       0                     0   \n",
       "1        2021            11                       0                     0   \n",
       "2        2021            11                       0                     0   \n",
       "\n",
       "   vendor_project_Alcatel  vendor_project_Amcrest  vendor_project_Android  \\\n",
       "0                       0                       0                       0   \n",
       "1                       0                       0                       0   \n",
       "2                       0                       0                       0   \n",
       "\n",
       "   vendor_project_Apache  vendor_project_Apple  vendor_project_Arcadyan  ...  \\\n",
       "0                      0                     0                        0  ...   \n",
       "1                      0                     0                        0  ...   \n",
       "2                      0                     0                        0  ...   \n",
       "\n",
       "   product_category_Development and Frameworks  product_category_Hardware  \\\n",
       "0                                            0                          0   \n",
       "1                                            0                          0   \n",
       "2                                            0                          0   \n",
       "\n",
       "   product_category_Microsoft Products  product_category_Networking  \\\n",
       "0                                    0                            0   \n",
       "1                                    0                            0   \n",
       "2                                    0                            0   \n",
       "\n",
       "   product_category_Operating Systems  product_category_Other  \\\n",
       "0                                   0                       1   \n",
       "1                                   0                       1   \n",
       "2                                   0                       1   \n",
       "\n",
       "   product_category_Security  product_category_Storage  \\\n",
       "0                          0                         0   \n",
       "1                          0                         0   \n",
       "2                          0                         0   \n",
       "\n",
       "   product_category_Virtualization and Cloud  \\\n",
       "0                                          0   \n",
       "1                                          0   \n",
       "2                                          0   \n",
       "\n",
       "   product_category_Web Servers and Middleware  \n",
       "0                                            0  \n",
       "1                                            0  \n",
       "2                                            0  \n",
       "\n",
       "[3 rows x 231 columns]"
      ]
     },
     "execution_count": 50,
     "metadata": {},
     "output_type": "execute_result"
    }
   ],
   "source": [
    "# Generate dummy variables for modeling\n",
    "df_dummy = pd.get_dummies(df_dummy[dummy_col], drop_first=True).astype(int)\n",
    "df_dummy.head(3)"
   ]
  },
  {
   "cell_type": "markdown",
   "id": "88b0cfb4",
   "metadata": {},
   "source": [
    "I have generated 230 new features for modeling.\n",
    "\n",
    "**Make the targer binary**\n",
    "\n",
    "* All `known` ransomware are labled as `1`, and all `unknown` copains are labeled with `0`."
   ]
  },
  {
   "cell_type": "code",
   "execution_count": 48,
   "id": "e0b2fea4",
   "metadata": {},
   "outputs": [
    {
     "data": {
      "text/html": [
       "<div>\n",
       "<style scoped>\n",
       "    .dataframe tbody tr th:only-of-type {\n",
       "        vertical-align: middle;\n",
       "    }\n",
       "\n",
       "    .dataframe tbody tr th {\n",
       "        vertical-align: top;\n",
       "    }\n",
       "\n",
       "    .dataframe thead th {\n",
       "        text-align: right;\n",
       "    }\n",
       "</style>\n",
       "<table border=\"1\" class=\"dataframe\">\n",
       "  <thead>\n",
       "    <tr style=\"text-align: right;\">\n",
       "      <th></th>\n",
       "      <th>year_added</th>\n",
       "      <th>monthe_added</th>\n",
       "      <th>vendor_project_Acronis</th>\n",
       "      <th>vendor_project_Adobe</th>\n",
       "      <th>vendor_project_Alcatel</th>\n",
       "      <th>vendor_project_Amcrest</th>\n",
       "      <th>vendor_project_Android</th>\n",
       "      <th>vendor_project_Apache</th>\n",
       "      <th>vendor_project_Apple</th>\n",
       "      <th>vendor_project_Arcadyan</th>\n",
       "      <th>...</th>\n",
       "      <th>product_category_Hardware</th>\n",
       "      <th>product_category_Microsoft Products</th>\n",
       "      <th>product_category_Networking</th>\n",
       "      <th>product_category_Operating Systems</th>\n",
       "      <th>product_category_Other</th>\n",
       "      <th>product_category_Security</th>\n",
       "      <th>product_category_Storage</th>\n",
       "      <th>product_category_Virtualization and Cloud</th>\n",
       "      <th>product_category_Web Servers and Middleware</th>\n",
       "      <th>known_ransomware_campaign_use</th>\n",
       "    </tr>\n",
       "  </thead>\n",
       "  <tbody>\n",
       "    <tr>\n",
       "      <th>0</th>\n",
       "      <td>2021</td>\n",
       "      <td>11</td>\n",
       "      <td>0</td>\n",
       "      <td>0</td>\n",
       "      <td>0</td>\n",
       "      <td>0</td>\n",
       "      <td>0</td>\n",
       "      <td>0</td>\n",
       "      <td>0</td>\n",
       "      <td>0</td>\n",
       "      <td>...</td>\n",
       "      <td>0</td>\n",
       "      <td>0</td>\n",
       "      <td>0</td>\n",
       "      <td>0</td>\n",
       "      <td>1</td>\n",
       "      <td>0</td>\n",
       "      <td>0</td>\n",
       "      <td>0</td>\n",
       "      <td>0</td>\n",
       "      <td>1</td>\n",
       "    </tr>\n",
       "    <tr>\n",
       "      <th>1</th>\n",
       "      <td>2021</td>\n",
       "      <td>11</td>\n",
       "      <td>0</td>\n",
       "      <td>0</td>\n",
       "      <td>0</td>\n",
       "      <td>0</td>\n",
       "      <td>0</td>\n",
       "      <td>0</td>\n",
       "      <td>0</td>\n",
       "      <td>0</td>\n",
       "      <td>...</td>\n",
       "      <td>0</td>\n",
       "      <td>0</td>\n",
       "      <td>0</td>\n",
       "      <td>0</td>\n",
       "      <td>1</td>\n",
       "      <td>0</td>\n",
       "      <td>0</td>\n",
       "      <td>0</td>\n",
       "      <td>0</td>\n",
       "      <td>1</td>\n",
       "    </tr>\n",
       "    <tr>\n",
       "      <th>2</th>\n",
       "      <td>2021</td>\n",
       "      <td>11</td>\n",
       "      <td>0</td>\n",
       "      <td>0</td>\n",
       "      <td>0</td>\n",
       "      <td>0</td>\n",
       "      <td>0</td>\n",
       "      <td>0</td>\n",
       "      <td>0</td>\n",
       "      <td>0</td>\n",
       "      <td>...</td>\n",
       "      <td>0</td>\n",
       "      <td>0</td>\n",
       "      <td>0</td>\n",
       "      <td>0</td>\n",
       "      <td>1</td>\n",
       "      <td>0</td>\n",
       "      <td>0</td>\n",
       "      <td>0</td>\n",
       "      <td>0</td>\n",
       "      <td>1</td>\n",
       "    </tr>\n",
       "  </tbody>\n",
       "</table>\n",
       "<p>3 rows × 232 columns</p>\n",
       "</div>"
      ],
      "text/plain": [
       "   year_added  monthe_added  vendor_project_Acronis  vendor_project_Adobe  \\\n",
       "0        2021            11                       0                     0   \n",
       "1        2021            11                       0                     0   \n",
       "2        2021            11                       0                     0   \n",
       "\n",
       "   vendor_project_Alcatel  vendor_project_Amcrest  vendor_project_Android  \\\n",
       "0                       0                       0                       0   \n",
       "1                       0                       0                       0   \n",
       "2                       0                       0                       0   \n",
       "\n",
       "   vendor_project_Apache  vendor_project_Apple  vendor_project_Arcadyan  ...  \\\n",
       "0                      0                     0                        0  ...   \n",
       "1                      0                     0                        0  ...   \n",
       "2                      0                     0                        0  ...   \n",
       "\n",
       "   product_category_Hardware  product_category_Microsoft Products  \\\n",
       "0                          0                                    0   \n",
       "1                          0                                    0   \n",
       "2                          0                                    0   \n",
       "\n",
       "   product_category_Networking  product_category_Operating Systems  \\\n",
       "0                            0                                   0   \n",
       "1                            0                                   0   \n",
       "2                            0                                   0   \n",
       "\n",
       "   product_category_Other  product_category_Security  \\\n",
       "0                       1                          0   \n",
       "1                       1                          0   \n",
       "2                       1                          0   \n",
       "\n",
       "   product_category_Storage  product_category_Virtualization and Cloud  \\\n",
       "0                         0                                          0   \n",
       "1                         0                                          0   \n",
       "2                         0                                          0   \n",
       "\n",
       "   product_category_Web Servers and Middleware  known_ransomware_campaign_use  \n",
       "0                                            0                              1  \n",
       "1                                            0                              1  \n",
       "2                                            0                              1  \n",
       "\n",
       "[3 rows x 232 columns]"
      ]
     },
     "execution_count": 48,
     "metadata": {},
     "output_type": "execute_result"
    }
   ],
   "source": [
    "df_dummy[\"known_ransomware_campaign_use\"] = np.where(df.known_ransomware_campaign_use == \"Known\", 1, 0)\n",
    "df_dummy.head(3)"
   ]
  },
  {
   "cell_type": "markdown",
   "id": "69adc08c",
   "metadata": {},
   "source": [
    "## Split and Save all the data sets"
   ]
  },
  {
   "cell_type": "code",
   "execution_count": 49,
   "id": "886bbc98",
   "metadata": {},
   "outputs": [
    {
     "data": {
      "text/plain": [
       "((659, 7), (220, 7), (220, 7))"
      ]
     },
     "execution_count": 49,
     "metadata": {},
     "output_type": "execute_result"
    }
   ],
   "source": [
    "# Split the data into 3 sets\n",
    "train, validate, test = _utility.split_data_(df=df, \n",
    "                     test_size=0.2, \n",
    "                     validate_size= 0.2, \n",
    "#                      stratify_col=\"\", \n",
    "                     random_state=10)\n",
    "train.shape, validate.shape, test.shape"
   ]
  },
  {
   "cell_type": "code",
   "execution_count": 50,
   "id": "88c13acd",
   "metadata": {},
   "outputs": [
    {
     "data": {
      "text/html": [
       "<div>\n",
       "<style scoped>\n",
       "    .dataframe tbody tr th:only-of-type {\n",
       "        vertical-align: middle;\n",
       "    }\n",
       "\n",
       "    .dataframe tbody tr th {\n",
       "        vertical-align: top;\n",
       "    }\n",
       "\n",
       "    .dataframe thead th {\n",
       "        text-align: right;\n",
       "    }\n",
       "</style>\n",
       "<table border=\"1\" class=\"dataframe\">\n",
       "  <thead>\n",
       "    <tr style=\"text-align: right;\">\n",
       "      <th></th>\n",
       "      <th>vendor_project</th>\n",
       "      <th>known_ransomware_campaign_use</th>\n",
       "      <th>vulnerability_type</th>\n",
       "      <th>required_action_new</th>\n",
       "      <th>product_category</th>\n",
       "      <th>year_added</th>\n",
       "      <th>monthe_added</th>\n",
       "    </tr>\n",
       "  </thead>\n",
       "  <tbody>\n",
       "    <tr>\n",
       "      <th>0</th>\n",
       "      <td>Accellion</td>\n",
       "      <td>Known</td>\n",
       "      <td>Command Injection Vulnerability</td>\n",
       "      <td>Apply Updates</td>\n",
       "      <td>Other</td>\n",
       "      <td>2021</td>\n",
       "      <td>11</td>\n",
       "    </tr>\n",
       "    <tr>\n",
       "      <th>1</th>\n",
       "      <td>Accellion</td>\n",
       "      <td>Known</td>\n",
       "      <td>Command Injection Vulnerability</td>\n",
       "      <td>Apply Updates</td>\n",
       "      <td>Other</td>\n",
       "      <td>2021</td>\n",
       "      <td>11</td>\n",
       "    </tr>\n",
       "    <tr>\n",
       "      <th>2</th>\n",
       "      <td>Accellion</td>\n",
       "      <td>Known</td>\n",
       "      <td>Command Injection Vulnerability</td>\n",
       "      <td>Apply Updates</td>\n",
       "      <td>Other</td>\n",
       "      <td>2021</td>\n",
       "      <td>11</td>\n",
       "    </tr>\n",
       "  </tbody>\n",
       "</table>\n",
       "</div>"
      ],
      "text/plain": [
       "  vendor_project known_ransomware_campaign_use  \\\n",
       "0      Accellion                         Known   \n",
       "1      Accellion                         Known   \n",
       "2      Accellion                         Known   \n",
       "\n",
       "                vulnerability_type required_action_new product_category  \\\n",
       "0  Command Injection Vulnerability       Apply Updates            Other   \n",
       "1  Command Injection Vulnerability       Apply Updates            Other   \n",
       "2  Command Injection Vulnerability       Apply Updates            Other   \n",
       "\n",
       "   year_added  monthe_added  \n",
       "0        2021            11  \n",
       "1        2021            11  \n",
       "2        2021            11  "
      ]
     },
     "execution_count": 50,
     "metadata": {},
     "output_type": "execute_result"
    }
   ],
   "source": [
    "df.head(3)"
   ]
  },
  {
   "cell_type": "code",
   "execution_count": 51,
   "id": "d114e3cf",
   "metadata": {},
   "outputs": [
    {
     "data": {
      "text/plain": [
       "((659, 232), (220, 232), (220, 232))"
      ]
     },
     "execution_count": 51,
     "metadata": {},
     "output_type": "execute_result"
    }
   ],
   "source": [
    "# Split the data into 3 sets\n",
    "train_dummy, validate_dummy, test_dummy = _utility.split_data_(df=df_dummy, \n",
    "                     test_size=0.2, \n",
    "                     validate_size= 0.2, \n",
    "#                      stratify_col=\"\", \n",
    "                     random_state=10)\n",
    "train_dummy.shape, validate_dummy.shape, test_dummy.shape"
   ]
  },
  {
   "cell_type": "code",
   "execution_count": 52,
   "id": "a4db37df",
   "metadata": {},
   "outputs": [
    {
     "data": {
      "text/plain": [
       "'SIX data sets saved as .csv'"
      ]
     },
     "execution_count": 52,
     "metadata": {},
     "output_type": "execute_result"
    }
   ],
   "source": [
    "# Save data sets\n",
    "_utility.save_split_data_(original_df=df,\n",
    "                         encoded_scaled_df= df_dummy,\n",
    "                         train = train_dummy,\n",
    "                          validate = validate_dummy,\n",
    "                          test= test_dummy,\n",
    "                          folder_path = \"./data\",\n",
    "                          test_size= 0.2,\n",
    "#                           stratify_col = \"\",\n",
    "                          random_state= 10\n",
    "                         )"
   ]
  },
  {
   "cell_type": "markdown",
   "id": "61f8d0ff",
   "metadata": {},
   "source": [
    "### What I found and What I did\n",
    "\n",
    "**During Acquisition**\n",
    "\n",
    "- I have 1140 rows and 11 columns.\n",
    "- 1 of the 11 columns are numric, 1 is a datetime object and the other 9 of them are string object colums.\n",
    "- The numeric column is `cwes`, but it is null.\n",
    "- The `notes` column has 373 non null rows out of 1140 rows\n",
    "- Descriptive statistics says nothing on the `cwes` empty column\n",
    "\n",
    "**During preparation**\n",
    "\n",
    "The following changes where applied to the entire data set\n",
    "\n",
    "- I engineeredd thee new features `vulnerability_type`, `required_action_new`, and `product_category`. These thee features where generated by mapping features from the original data `vulnerability_name`, `required_action`, and `product`. This was done by categorizing all alike vulnerabilities, actions to take based on vulnerability, and the type of product. This helped condece the moltitude of descrate categories into digestable and visualy apealing categories.\n",
    "- I created dummy variables by encoding all my categorical variables into `0's` and `1's`. For the target feature `known_ransomware_campaign_use` I encoded the `0` to `Unkown` ransomware campains, and `1` to `Known` ransomware campains.\n",
    "- I removed all features that where null and features that added no value to the data,`notes, short_description, vulnerability_name, due_date, required_action, product`. Included to these features are the original en-engineered three features that lost purpose in the data.\n",
    "- I finaly split my data into three sets `train`, `validate`, and `test` datasets with a `60/20/20` split with a random state of `10` and I avoided stratification at the target feature `known_ransomware_campaign_use` to avoid ddata leakage an get the most reliable data posible.\n",
    "- I am saving 6 data sets in the `./data` folder as `.csv`'s. They include the original data, the prepared data with and with no dummies, the traing, calidation, and testing splits with dummies."
   ]
  }
 ],
 "metadata": {
  "kernelspec": {
   "display_name": "Python 3 (ipykernel)",
   "language": "python",
   "name": "python3"
  },
  "language_info": {
   "codemirror_mode": {
    "name": "ipython",
    "version": 3
   },
   "file_extension": ".py",
   "mimetype": "text/x-python",
   "name": "python",
   "nbconvert_exporter": "python",
   "pygments_lexer": "ipython3",
   "version": "3.11.7"
  }
 },
 "nbformat": 4,
 "nbformat_minor": 5
}
