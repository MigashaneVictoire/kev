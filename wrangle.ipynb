{
 "cells": [
  {
   "cell_type": "markdown",
   "id": "055d9e78-e86e-4672-9813-55c696e49d2b",
   "metadata": {},
   "source": [
    "# Wrangle"
   ]
  },
  {
   "cell_type": "code",
   "execution_count": 27,
   "id": "2446ebdc-7371-4db7-9458-5dbf72136d55",
   "metadata": {},
   "outputs": [],
   "source": [
    "#imports\n",
    "import pandas as pd\n",
    "import numpy as np\n",
    "\n",
    "# system\n",
    "import sys\n",
    "# sys.path.append(\"../data\")\n",
    "sys.path.append(\"util_\")\n",
    "import wrangle_"
   ]
  },
  {
   "cell_type": "code",
   "execution_count": 28,
   "id": "be229388-5ca1-4123-ad6f-a64c59325f50",
   "metadata": {},
   "outputs": [
    {
     "data": {
      "text/html": [
       "<div>\n",
       "<style scoped>\n",
       "    .dataframe tbody tr th:only-of-type {\n",
       "        vertical-align: middle;\n",
       "    }\n",
       "\n",
       "    .dataframe tbody tr th {\n",
       "        vertical-align: top;\n",
       "    }\n",
       "\n",
       "    .dataframe thead th {\n",
       "        text-align: right;\n",
       "    }\n",
       "</style>\n",
       "<table border=\"1\" class=\"dataframe\">\n",
       "  <thead>\n",
       "    <tr style=\"text-align: right;\">\n",
       "      <th></th>\n",
       "      <th>cveID</th>\n",
       "      <th>vendorProject</th>\n",
       "      <th>product</th>\n",
       "      <th>vulnerabilityName</th>\n",
       "      <th>dateAdded</th>\n",
       "      <th>shortDescription</th>\n",
       "      <th>requiredAction</th>\n",
       "      <th>dueDate</th>\n",
       "      <th>knownRansomwareCampaignUse</th>\n",
       "      <th>notes</th>\n",
       "      <th>cwes</th>\n",
       "    </tr>\n",
       "  </thead>\n",
       "  <tbody>\n",
       "    <tr>\n",
       "      <th>0</th>\n",
       "      <td>CVE-2021-27104</td>\n",
       "      <td>Accellion</td>\n",
       "      <td>FTA</td>\n",
       "      <td>Accellion FTA OS Command Injection Vulnerability</td>\n",
       "      <td>2021-11-03</td>\n",
       "      <td>Accellion FTA contains an OS command injection...</td>\n",
       "      <td>Apply updates per vendor instructions.</td>\n",
       "      <td>2021-11-17</td>\n",
       "      <td>Known</td>\n",
       "      <td>NaN</td>\n",
       "      <td>NaN</td>\n",
       "    </tr>\n",
       "    <tr>\n",
       "      <th>1</th>\n",
       "      <td>CVE-2021-27102</td>\n",
       "      <td>Accellion</td>\n",
       "      <td>FTA</td>\n",
       "      <td>Accellion FTA OS Command Injection Vulnerability</td>\n",
       "      <td>2021-11-03</td>\n",
       "      <td>Accellion FTA contains an OS command injection...</td>\n",
       "      <td>Apply updates per vendor instructions.</td>\n",
       "      <td>2021-11-17</td>\n",
       "      <td>Known</td>\n",
       "      <td>NaN</td>\n",
       "      <td>NaN</td>\n",
       "    </tr>\n",
       "    <tr>\n",
       "      <th>2</th>\n",
       "      <td>CVE-2021-27101</td>\n",
       "      <td>Accellion</td>\n",
       "      <td>FTA</td>\n",
       "      <td>Accellion FTA SQL Injection Vulnerability</td>\n",
       "      <td>2021-11-03</td>\n",
       "      <td>Accellion FTA contains a SQL injection vulnera...</td>\n",
       "      <td>Apply updates per vendor instructions.</td>\n",
       "      <td>2021-11-17</td>\n",
       "      <td>Known</td>\n",
       "      <td>NaN</td>\n",
       "      <td>NaN</td>\n",
       "    </tr>\n",
       "    <tr>\n",
       "      <th>3</th>\n",
       "      <td>CVE-2021-27103</td>\n",
       "      <td>Accellion</td>\n",
       "      <td>FTA</td>\n",
       "      <td>Accellion FTA Server-Side Request Forgery (SSR...</td>\n",
       "      <td>2021-11-03</td>\n",
       "      <td>Accellion FTA contains a server-side request f...</td>\n",
       "      <td>Apply updates per vendor instructions.</td>\n",
       "      <td>2021-11-17</td>\n",
       "      <td>Known</td>\n",
       "      <td>NaN</td>\n",
       "      <td>NaN</td>\n",
       "    </tr>\n",
       "    <tr>\n",
       "      <th>4</th>\n",
       "      <td>CVE-2021-21017</td>\n",
       "      <td>Adobe</td>\n",
       "      <td>Acrobat and Reader</td>\n",
       "      <td>Adobe Acrobat and Reader Heap-based Buffer Ove...</td>\n",
       "      <td>2021-11-03</td>\n",
       "      <td>Acrobat Acrobat and Reader contain a heap-base...</td>\n",
       "      <td>Apply updates per vendor instructions.</td>\n",
       "      <td>2021-11-17</td>\n",
       "      <td>Unknown</td>\n",
       "      <td>NaN</td>\n",
       "      <td>NaN</td>\n",
       "    </tr>\n",
       "  </tbody>\n",
       "</table>\n",
       "</div>"
      ],
      "text/plain": [
       "            cveID vendorProject             product  \\\n",
       "0  CVE-2021-27104     Accellion                 FTA   \n",
       "1  CVE-2021-27102     Accellion                 FTA   \n",
       "2  CVE-2021-27101     Accellion                 FTA   \n",
       "3  CVE-2021-27103     Accellion                 FTA   \n",
       "4  CVE-2021-21017         Adobe  Acrobat and Reader   \n",
       "\n",
       "                                   vulnerabilityName   dateAdded  \\\n",
       "0   Accellion FTA OS Command Injection Vulnerability  2021-11-03   \n",
       "1   Accellion FTA OS Command Injection Vulnerability  2021-11-03   \n",
       "2          Accellion FTA SQL Injection Vulnerability  2021-11-03   \n",
       "3  Accellion FTA Server-Side Request Forgery (SSR...  2021-11-03   \n",
       "4  Adobe Acrobat and Reader Heap-based Buffer Ove...  2021-11-03   \n",
       "\n",
       "                                    shortDescription  \\\n",
       "0  Accellion FTA contains an OS command injection...   \n",
       "1  Accellion FTA contains an OS command injection...   \n",
       "2  Accellion FTA contains a SQL injection vulnera...   \n",
       "3  Accellion FTA contains a server-side request f...   \n",
       "4  Acrobat Acrobat and Reader contain a heap-base...   \n",
       "\n",
       "                           requiredAction     dueDate  \\\n",
       "0  Apply updates per vendor instructions.  2021-11-17   \n",
       "1  Apply updates per vendor instructions.  2021-11-17   \n",
       "2  Apply updates per vendor instructions.  2021-11-17   \n",
       "3  Apply updates per vendor instructions.  2021-11-17   \n",
       "4  Apply updates per vendor instructions.  2021-11-17   \n",
       "\n",
       "  knownRansomwareCampaignUse notes  cwes  \n",
       "0                      Known   NaN   NaN  \n",
       "1                      Known   NaN   NaN  \n",
       "2                      Known   NaN   NaN  \n",
       "3                      Known   NaN   NaN  \n",
       "4                    Unknown   NaN   NaN  "
      ]
     },
     "execution_count": 28,
     "metadata": {},
     "output_type": "execute_result"
    }
   ],
   "source": [
    "# lacd data\n",
    "df = pd.read_csv(\"data/known_exploited_vulnerabilities.csv\")\n",
    "df.head()"
   ]
  },
  {
   "cell_type": "code",
   "execution_count": 29,
   "id": "e69a06f5-5470-4fc9-b97f-5e4241d7b708",
   "metadata": {
    "tags": []
   },
   "outputs": [
    {
     "data": {
      "text/plain": [
       "(1140, 11)"
      ]
     },
     "execution_count": 29,
     "metadata": {},
     "output_type": "execute_result"
    }
   ],
   "source": [
    "# look at the shape\n",
    "df.shape"
   ]
  },
  {
   "cell_type": "code",
   "execution_count": 30,
   "id": "d065afa3-5606-4315-939d-3db1eaab597f",
   "metadata": {
    "tags": []
   },
   "outputs": [
    {
     "data": {
      "text/plain": [
       "Index(['cveID', 'vendorProject', 'product', 'vulnerabilityName', 'dateAdded',\n",
       "       'shortDescription', 'requiredAction', 'dueDate',\n",
       "       'knownRansomwareCampaignUse', 'notes', 'cwes'],\n",
       "      dtype='object')"
      ]
     },
     "execution_count": 30,
     "metadata": {},
     "output_type": "execute_result"
    }
   ],
   "source": [
    "#look at the columns\n",
    "df.columns"
   ]
  },
  {
   "cell_type": "code",
   "execution_count": 31,
   "id": "c031c950-2a5b-4866-a844-6f15bc195a63",
   "metadata": {
    "tags": []
   },
   "outputs": [
    {
     "name": "stdout",
     "output_type": "stream",
     "text": [
      "<class 'pandas.core.frame.DataFrame'>\n",
      "RangeIndex: 1140 entries, 0 to 1139\n",
      "Data columns (total 11 columns):\n",
      " #   Column                      Non-Null Count  Dtype  \n",
      "---  ------                      --------------  -----  \n",
      " 0   cveID                       1140 non-null   object \n",
      " 1   vendorProject               1140 non-null   object \n",
      " 2   product                     1140 non-null   object \n",
      " 3   vulnerabilityName           1140 non-null   object \n",
      " 4   dateAdded                   1140 non-null   object \n",
      " 5   shortDescription            1140 non-null   object \n",
      " 6   requiredAction              1140 non-null   object \n",
      " 7   dueDate                     1140 non-null   object \n",
      " 8   knownRansomwareCampaignUse  1140 non-null   object \n",
      " 9   notes                       373 non-null    object \n",
      " 10  cwes                        0 non-null      float64\n",
      "dtypes: float64(1), object(10)\n",
      "memory usage: 98.1+ KB\n"
     ]
    }
   ],
   "source": [
    "# check the full info\n",
    "df.info()"
   ]
  },
  {
   "cell_type": "code",
   "execution_count": 32,
   "id": "f53703c5-091d-45bd-ba56-5391c450e0c6",
   "metadata": {
    "tags": []
   },
   "outputs": [
    {
     "data": {
      "text/plain": [
       "1"
      ]
     },
     "execution_count": 32,
     "metadata": {},
     "output_type": "execute_result"
    }
   ],
   "source": [
    "# select numeric\n",
    "len(df.select_dtypes(\"number\").columns) # count of numeric columns"
   ]
  },
  {
   "cell_type": "code",
   "execution_count": 33,
   "id": "3b3081a6-ea1b-490d-b0b7-9d7ba2bbdd0a",
   "metadata": {
    "tags": []
   },
   "outputs": [
    {
     "data": {
      "text/plain": [
       "10"
      ]
     },
     "execution_count": 33,
     "metadata": {},
     "output_type": "execute_result"
    }
   ],
   "source": [
    "#select object columns\n",
    "len(df.select_dtypes(\"object\").columns) #count of object columns"
   ]
  },
  {
   "cell_type": "code",
   "execution_count": 34,
   "id": "227b2e54-296a-48aa-b327-fb818cb275f8",
   "metadata": {
    "tags": []
   },
   "outputs": [
    {
     "data": {
      "text/html": [
       "<div>\n",
       "<style scoped>\n",
       "    .dataframe tbody tr th:only-of-type {\n",
       "        vertical-align: middle;\n",
       "    }\n",
       "\n",
       "    .dataframe tbody tr th {\n",
       "        vertical-align: top;\n",
       "    }\n",
       "\n",
       "    .dataframe thead th {\n",
       "        text-align: right;\n",
       "    }\n",
       "</style>\n",
       "<table border=\"1\" class=\"dataframe\">\n",
       "  <thead>\n",
       "    <tr style=\"text-align: right;\">\n",
       "      <th></th>\n",
       "      <th>cwes</th>\n",
       "    </tr>\n",
       "  </thead>\n",
       "  <tbody>\n",
       "    <tr>\n",
       "      <th>count</th>\n",
       "      <td>0.0</td>\n",
       "    </tr>\n",
       "    <tr>\n",
       "      <th>mean</th>\n",
       "      <td>NaN</td>\n",
       "    </tr>\n",
       "    <tr>\n",
       "      <th>std</th>\n",
       "      <td>NaN</td>\n",
       "    </tr>\n",
       "    <tr>\n",
       "      <th>min</th>\n",
       "      <td>NaN</td>\n",
       "    </tr>\n",
       "    <tr>\n",
       "      <th>25%</th>\n",
       "      <td>NaN</td>\n",
       "    </tr>\n",
       "    <tr>\n",
       "      <th>50%</th>\n",
       "      <td>NaN</td>\n",
       "    </tr>\n",
       "    <tr>\n",
       "      <th>75%</th>\n",
       "      <td>NaN</td>\n",
       "    </tr>\n",
       "    <tr>\n",
       "      <th>max</th>\n",
       "      <td>NaN</td>\n",
       "    </tr>\n",
       "  </tbody>\n",
       "</table>\n",
       "</div>"
      ],
      "text/plain": [
       "       cwes\n",
       "count   0.0\n",
       "mean    NaN\n",
       "std     NaN\n",
       "min     NaN\n",
       "25%     NaN\n",
       "50%     NaN\n",
       "75%     NaN\n",
       "max     NaN"
      ]
     },
     "execution_count": 34,
     "metadata": {},
     "output_type": "execute_result"
    }
   ],
   "source": [
    "df.describe()"
   ]
  },
  {
   "cell_type": "markdown",
   "id": "0b308bbe-b406-4162-832f-426b3f9b2580",
   "metadata": {},
   "source": [
    "**What I see:**\n",
    "\n",
    "\n",
    "- I have 1140 rows and 11columns\n",
    "- 1 of the 11 columns are numric while 10 of them are string object colums\n",
    "- the numeric column `cwes` is null\n",
    "- the `notes` column has 373 non null rows\n",
    "- descriptive statistics says nothing on the `cwes` empty column"
   ]
  },
  {
   "cell_type": "code",
   "execution_count": 35,
   "id": "a31c5664",
   "metadata": {},
   "outputs": [
    {
     "data": {
      "text/plain": [
       "Index(['vendorProject', 'product', 'vulnerabilityName', 'shortDescription',\n",
       "       'requiredAction', 'dueDate', 'knownRansomwareCampaignUse', 'notes'],\n",
       "      dtype='object')"
      ]
     },
     "execution_count": 35,
     "metadata": {},
     "output_type": "execute_result"
    }
   ],
   "source": [
    "# remove the non useul unique id and the emplt column\n",
    "df = df.drop(columns=[\"cveID\", \"dateAdded\",\"cwes\"])\n",
    "df.columns"
   ]
  },
  {
   "cell_type": "code",
   "execution_count": 36,
   "id": "85d38c32",
   "metadata": {},
   "outputs": [
    {
     "data": {
      "text/plain": [
       "['vendor Project',\n",
       " 'product',\n",
       " 'vulnerability Name',\n",
       " 'short Description',\n",
       " 'required Action',\n",
       " 'due Date',\n",
       " 'known Ransomware Campaign Use',\n",
       " 'notes']"
      ]
     },
     "execution_count": 36,
     "metadata": {},
     "output_type": "execute_result"
    }
   ],
   "source": [
    "# nanipulate the column names to a clear name\n",
    "spaced_cols = []\n",
    "col_renamed = \"\"\n",
    "for name in df.columns:\n",
    "    for ele in name:\n",
    "        if ele == ele.upper():\n",
    "            col_renamed += \" \" + ele\n",
    "        else:\n",
    "            col_renamed += ele\n",
    "    spaced_cols.append(col_renamed)\n",
    "    col_renamed = \"\"\n",
    "\n",
    "df.columns = spaced_cols\n",
    "spaced_cols"
   ]
  },
  {
   "cell_type": "code",
   "execution_count": 37,
   "id": "5dd99db1-142c-4f1b-94e8-35326f5ee63a",
   "metadata": {
    "scrolled": true
   },
   "outputs": [
    {
     "data": {
      "text/plain": [
       "Index(['vendor_project', 'product', 'vulnerability_name', 'short_description',\n",
       "       'required_action', 'due_date', 'known_ransomware_campaign_use',\n",
       "       'notes'],\n",
       "      dtype='object')"
      ]
     },
     "execution_count": 37,
     "metadata": {},
     "output_type": "execute_result"
    }
   ],
   "source": [
    "# remove spaces from the ends\n",
    "# replace \" \" with _\n",
    "# convert from lower case\n",
    "new_cols = df.columns.str.strip().str.replace(\" \", \"_\").str.lower()\n",
    "df.columns = new_cols #replace the original columns with the new columns\n",
    "df.columns"
   ]
  },
  {
   "cell_type": "code",
   "execution_count": 38,
   "id": "bcc50d5f",
   "metadata": {},
   "outputs": [
    {
     "name": "stdout",
     "output_type": "stream",
     "text": [
      "original data size:  (1140, 8)\n",
      "new data size:  (1099, 8)\n"
     ]
    }
   ],
   "source": [
    "# remove duplicated rows\n",
    "print(\"original data size: \", df.shape)\n",
    "df = df.drop_duplicates(keep=\"first\")\n",
    "print(\"new data size: \", df.shape)"
   ]
  },
  {
   "cell_type": "code",
   "execution_count": 39,
   "id": "e7c172b9",
   "metadata": {},
   "outputs": [
    {
     "data": {
      "text/plain": [
       "((659, 8), (220, 8), (220, 8))"
      ]
     },
     "execution_count": 39,
     "metadata": {},
     "output_type": "execute_result"
    }
   ],
   "source": [
    "# Split the data into 3 sets\n",
    "train, validate, test = wrangle_.split_data_(df=df, \n",
    "                     test_size=0.2, \n",
    "                     validate_size= 0.2, \n",
    "                     stratify_col=\"known_ransomware_campaign_use\", \n",
    "                     random_state=10)\n",
    "train.shape, validate.shape, test.shape"
   ]
  },
  {
   "cell_type": "code",
   "execution_count": 40,
   "id": "f1563a57",
   "metadata": {},
   "outputs": [],
   "source": [
    "# reset index\n",
    "train = train.reset_index(drop=True)"
   ]
  },
  {
   "cell_type": "code",
   "execution_count": 41,
   "id": "539fcff4",
   "metadata": {
    "scrolled": false
   },
   "outputs": [
    {
     "name": "stdout",
     "output_type": "stream",
     "text": [
      "<bound method IndexOpsMixin.value_counts of 0          Zimbra\n",
      "1          Google\n",
      "2      SolarWinds\n",
      "3         Mozilla\n",
      "4           Rails\n",
      "          ...    \n",
      "654         Adobe\n",
      "655     Hikvision\n",
      "656     Microsoft\n",
      "657         Cisco\n",
      "658        Google\n",
      "Name: vendor_project, Length: 659, dtype: object>\n",
      "unique value count size: (121,)\n",
      "\n",
      "\n",
      "\n",
      "<bound method IndexOpsMixin.value_counts of 0                         Collaboration (ZCS)\n",
      "1                                 Chromium V8\n",
      "2                                      Serv-U\n",
      "3                     Firefox and Thunderbird\n",
      "4                               Ruby on Rails\n",
      "                        ...                  \n",
      "654                                ColdFusion\n",
      "655               Security cameras web server\n",
      "656                         Internet Explorer\n",
      "657    IOS Software and Cisco IOS XE Software\n",
      "658                               Chromium V8\n",
      "Name: product, Length: 659, dtype: object>\n",
      "unique value count size: (308,)\n",
      "\n",
      "\n",
      "\n",
      "<bound method IndexOpsMixin.value_counts of 0      Zimbra Collaboration (ZCS) Arbitrary File Uplo...\n",
      "1      Google Chromium V8 Out-of-Bounds Write Vulnera...\n",
      "2        SolarWinds Serv-U Path Traversal Vulnerability \n",
      "3      Mozilla Firefox And Thunderbird Use-After-Free...\n",
      "4        Ruby on Rails Directory Traversal Vulnerability\n",
      "                             ...                        \n",
      "654    Adobe ColdFusion Authentication Bypass Vulnera...\n",
      "655                  Hikvision Improper Input Validation\n",
      "656    Microsoft Internet Explorer Scripting Engine M...\n",
      "657    Cisco IOS and XE Software Internet Key Exchang...\n",
      "658    Google Chromium V8 Heap Buffer Overflow Vulner...\n",
      "Name: vulnerability_name, Length: 659, dtype: object>\n",
      "unique value count size: (552,)\n",
      "\n",
      "\n",
      "\n",
      "<bound method IndexOpsMixin.value_counts of 0      Zimbra Collaboration (ZCS) allows an attacker ...\n",
      "1      Google Chromium V8 Engine contains out-of-boun...\n",
      "2      SolarWinds Serv-U contains a path traversal vu...\n",
      "3      Mozilla Firefox and Thunderbird contain a race...\n",
      "4      Directory traversal vulnerability in Action Vi...\n",
      "                             ...                        \n",
      "654    An authentication bypass vulnerability exists ...\n",
      "655    A command injection vulnerability in the web s...\n",
      "656    Microsoft Internet Explorer contains a memory ...\n",
      "657    A vulnerability in the implementation of Inter...\n",
      "658    Google Chromium V8 Engine contains a heap buff...\n",
      "Name: short_description, Length: 659, dtype: object>\n",
      "unique value count size: (645,)\n",
      "\n",
      "\n",
      "\n",
      "<bound method IndexOpsMixin.value_counts of 0                 Apply updates per vendor instructions.\n",
      "1                 Apply updates per vendor instructions.\n",
      "2      Apply mitigations per vendor instructions or d...\n",
      "3                 Apply updates per vendor instructions.\n",
      "4                 Apply updates per vendor instructions.\n",
      "                             ...                        \n",
      "654               Apply updates per vendor instructions.\n",
      "655               Apply updates per vendor instructions.\n",
      "656               Apply updates per vendor instructions.\n",
      "657               Apply updates per vendor instructions.\n",
      "658               Apply updates per vendor instructions.\n",
      "Name: required_action, Length: 659, dtype: object>\n",
      "unique value count size: (15,)\n",
      "\n",
      "\n",
      "\n",
      "<bound method IndexOpsMixin.value_counts of 0      2022-11-10\n",
      "1      2022-06-22\n",
      "2      2024-08-07\n",
      "3      2022-05-03\n",
      "4      2022-04-15\n",
      "          ...    \n",
      "654    2022-03-24\n",
      "655    2022-01-24\n",
      "656    2022-05-03\n",
      "657    2022-03-17\n",
      "658    2021-11-17\n",
      "Name: due_date, Length: 659, dtype: object>\n",
      "unique value count size: (167,)\n",
      "\n",
      "\n",
      "\n",
      "<bound method IndexOpsMixin.value_counts of 0      Unknown\n",
      "1      Unknown\n",
      "2      Unknown\n",
      "3      Unknown\n",
      "4      Unknown\n",
      "        ...   \n",
      "654    Unknown\n",
      "655    Unknown\n",
      "656    Unknown\n",
      "657    Unknown\n",
      "658    Unknown\n",
      "Name: known_ransomware_campaign_use, Length: 659, dtype: object>\n",
      "unique value count size: (2,)\n",
      "\n",
      "\n",
      "\n",
      "<bound method IndexOpsMixin.value_counts of 0           https://wiki.zimbra.com/wiki/Security_Center\n",
      "1                                                    NaN\n",
      "2      https://www.solarwinds.com/trust-center/securi...\n",
      "3                                                    NaN\n",
      "4                                                    NaN\n",
      "                             ...                        \n",
      "654                                                  NaN\n",
      "655                                                  NaN\n",
      "656                                                  NaN\n",
      "657                                                  NaN\n",
      "658                                                  NaN\n",
      "Name: notes, Length: 659, dtype: object>\n",
      "unique value count size: (199,)\n",
      "\n",
      "\n",
      "\n"
     ]
    }
   ],
   "source": [
    "# count values for each feature\n",
    "for col in train.columns:\n",
    "    print(train[col].value_counts)\n",
    "    print(\"unique value count size:\",train[col].value_counts().shape)\n",
    "    print(\"\\n\\n\")"
   ]
  },
  {
   "cell_type": "markdown",
   "id": "b0715eb2",
   "metadata": {},
   "source": [
    "# Tasks from EDA\n",
    "\n",
    "* The source of memory corruption is from 4 vendors, but it looks like it's happening on different products of these vendors, so I will go back inthe wrangle file and separate the product from the volunerability and create a additional column for specific vulnerabilities groupd by wording. (cell 7 - cell 15)"
   ]
  },
  {
   "cell_type": "code",
   "execution_count": 42,
   "id": "ab80bd5c",
   "metadata": {},
   "outputs": [],
   "source": [
    "train = pd.read_csv(\"./data/00_temp_train_data.csv\", index_col=0)\n",
    "# create a copy of the training data\n",
    "temp_train = train.copy()"
   ]
  },
  {
   "cell_type": "code",
   "execution_count": 43,
   "id": "e4e1bbe3",
   "metadata": {},
   "outputs": [],
   "source": [
    "# # Privilege Escalation Vulnerability  \n",
    "# search_terms = [\"Privilege\", \"Escalation\"]\n",
    "# pattern = '|'.join(search_terms)\n",
    "\n",
    "# len(train.vulnerability_name[train['vulnerability_name'].str.contains(pattern, case=False, na=False)])"
   ]
  },
  {
   "cell_type": "code",
   "execution_count": 44,
   "id": "21ec3cbc",
   "metadata": {},
   "outputs": [],
   "source": [
    "# # Memory Corruption Vulnerability\n",
    "# search_terms = [\"Memory\", \"Corruption\"]\n",
    "# pattern = '|'.join(search_terms)\n",
    "\n",
    "# len(train.vulnerability_name[train['vulnerability_name'].str.contains(pattern, case=False, na=False)])"
   ]
  },
  {
   "cell_type": "code",
   "execution_count": 45,
   "id": "7626250e",
   "metadata": {},
   "outputs": [],
   "source": [
    "# # Arbitrary File Upload Vulnerability\n",
    "# search_terms = [\"File\", \"Upload\"]\n",
    "# pattern = '|'.join(search_terms)\n",
    "\n",
    "# len(train.vulnerability_name[train['vulnerability_name'].str.contains(pattern, case=False, na=False)])"
   ]
  },
  {
   "cell_type": "code",
   "execution_count": 46,
   "id": "27743374",
   "metadata": {},
   "outputs": [],
   "source": [
    "# # Remote/Arbitrary Code Execution Vulnerability \n",
    "# search_terms = [\"Execution\", \"Remote\", \"Arbitrary\"]\n",
    "# pattern = '|'.join(search_terms)\n",
    "\n",
    "# len(train.vulnerability_name[train['vulnerability_name'].str.contains(pattern, case=False, na=False)])"
   ]
  },
  {
   "cell_type": "code",
   "execution_count": 47,
   "id": "a349b82f",
   "metadata": {},
   "outputs": [],
   "source": [
    "# # Improper Access Control Vulnerability\n",
    "# search_terms = [\"Access\", \"Improper\", \"Control\"]\n",
    "# pattern = '|'.join(search_terms)\n",
    "\n",
    "# len(train.vulnerability_name[train['vulnerability_name'].str.contains(pattern, case=False, na=False)])"
   ]
  },
  {
   "cell_type": "code",
   "execution_count": 48,
   "id": "60a6d14a",
   "metadata": {},
   "outputs": [],
   "source": [
    "# # Command Injection Vulnerability\n",
    "# search_terms = [\"Injection\", \"Command\", \"SQL\"]\n",
    "# pattern = '|'.join(search_terms)\n",
    "\n",
    "# len(train.vulnerability_name[train['vulnerability_name'].str.contains(pattern, case=False, na=False)])"
   ]
  },
  {
   "cell_type": "code",
   "execution_count": 49,
   "id": "a0823634",
   "metadata": {},
   "outputs": [],
   "source": [
    "# # Use-After-Free Vulnerability \n",
    "# search_terms = [\"Use-After\", \"Use-After-Free\"]\n",
    "# pattern = '|'.join(search_terms)\n",
    "\n",
    "# len(train.vulnerability_name[train['vulnerability_name'].str.contains(pattern, case=False, na=False)])"
   ]
  },
  {
   "cell_type": "code",
   "execution_count": 50,
   "id": "2983eacb",
   "metadata": {},
   "outputs": [],
   "source": [
    "# # Deserialization of Untrusted Data Vulnerability\n",
    "# search_terms = [\"Deserialization\", \"Untrusted\"]\n",
    "# pattern = '|'.join(search_terms)\n",
    "\n",
    "# len(train.vulnerability_name[train['vulnerability_name'].str.contains(pattern, case=False, na=False)])"
   ]
  },
  {
   "cell_type": "code",
   "execution_count": 51,
   "id": "10da434b",
   "metadata": {},
   "outputs": [],
   "source": [
    "# # Type Confusion Vulnerability  \n",
    "# search_terms = [\"Type Confusion\"]\n",
    "# pattern = '|'.join(search_terms)\n",
    "\n",
    "# len(train.vulnerability_name[train['vulnerability_name'].str.contains(pattern, case=False, na=False)])"
   ]
  },
  {
   "cell_type": "code",
   "execution_count": 52,
   "id": "0a99438d",
   "metadata": {},
   "outputs": [],
   "source": [
    "# # Path Traversal Vulnerability\n",
    "# search_terms = [\"Traversal\", \"path\"]\n",
    "# pattern = '|'.join(search_terms)\n",
    "\n",
    "# len(train.vulnerability_name[train['vulnerability_name'].str.contains(pattern, case=False, na=False)])"
   ]
  },
  {
   "cell_type": "code",
   "execution_count": 53,
   "id": "4101468f",
   "metadata": {},
   "outputs": [],
   "source": [
    "# # Buffer Overflow Vulnerability\n",
    "# search_terms = [\"Buffer\", \"Overflow\", \"Heap\"]\n",
    "# pattern = '|'.join(search_terms)\n",
    "\n",
    "# len(train.vulnerability_name[train['vulnerability_name'].str.contains(pattern, case=False, na=False)])"
   ]
  },
  {
   "cell_type": "code",
   "execution_count": 54,
   "id": "3b0f4191",
   "metadata": {},
   "outputs": [],
   "source": [
    "# # Denial of Service Vulnerability \n",
    "# search_terms = [\"Denial\", \"Service\"]\n",
    "# pattern = '|'.join(search_terms)\n",
    "\n",
    "# len(train.vulnerability_name[train['vulnerability_name'].str.contains(pattern, case=False, na=False)])"
   ]
  },
  {
   "cell_type": "code",
   "execution_count": 55,
   "id": "d5128e5a",
   "metadata": {},
   "outputs": [],
   "source": [
    "# # Information Disclosure Vulnerability\n",
    "# search_terms = [\"Information\", \"Disclosure\"]\n",
    "# pattern = '|'.join(search_terms)\n",
    "\n",
    "# len(train.vulnerability_name[train['vulnerability_name'].str.contains(pattern, case=False, na=False)])"
   ]
  },
  {
   "cell_type": "code",
   "execution_count": 56,
   "id": "14de5790",
   "metadata": {},
   "outputs": [],
   "source": [
    "# # Out-of-Bounds Write Vulnerability\n",
    "# search_terms = [\"Out-of-Bounds\", \"Write\", \"Bounds\"]\n",
    "# pattern = '|'.join(search_terms)\n",
    "\n",
    "# len(train.vulnerability_name[train['vulnerability_name'].str.contains(pattern, case=False, na=False)])"
   ]
  },
  {
   "cell_type": "code",
   "execution_count": 57,
   "id": "4dfca321",
   "metadata": {},
   "outputs": [],
   "source": [
    "# # Sandbox Bypass Vulnerability \n",
    "# search_terms = [\"Sandbox\", \"Bypass\"]\n",
    "# pattern = '|'.join(search_terms)\n",
    "\n",
    "# len(train.vulnerability_name[train['vulnerability_name'].str.contains(pattern, case=False, na=False)])"
   ]
  },
  {
   "cell_type": "code",
   "execution_count": 58,
   "id": "393df88d",
   "metadata": {},
   "outputs": [],
   "source": [
    "# # Arbitrary File Upload Vulnerability\n",
    "# search_terms = [\"Unspecified\"]\n",
    "# pattern = '|'.join(search_terms)\n",
    "\n",
    "# train.vulnerability_name[train['vulnerability_name'].str.contains(pattern, case=False, na=False)]"
   ]
  },
  {
   "cell_type": "markdown",
   "id": "1674740e",
   "metadata": {},
   "source": [
    "#### I cam combine all of the obove conditions into one as I engineer a new feature for vulnerabilities"
   ]
  },
  {
   "cell_type": "code",
   "execution_count": 59,
   "id": "89a73a40",
   "metadata": {},
   "outputs": [],
   "source": [
    "# Create a function that handles feature engineering for vulnerability names\n",
    "def feature_eng_vul_names(data_frame):\n",
    "    # Define the conditions\n",
    "    conditions = [\n",
    "        data_frame['vulnerability_name'].str.contains(r'Privilege|Escalation', case=False, na=False),\n",
    "        data_frame['vulnerability_name'].str.contains(r'Memory|Corruption', case=False, na=False),\n",
    "        data_frame['vulnerability_name'].str.contains(r'File|Upload', case=False, na=False),\n",
    "        data_frame['vulnerability_name'].str.contains(r'Remote Code', case=False, na=False),\n",
    "        data_frame['vulnerability_name'].str.contains(r'Access|Improper|Control', case=False, na=False),\n",
    "        data_frame['vulnerability_name'].str.contains(r'Injection|Command|SQL', case=False, na=False),\n",
    "        data_frame['vulnerability_name'].str.contains(r'Use-After|Use-After-Free', case=False, na=False),\n",
    "        data_frame['vulnerability_name'].str.contains(r'Deserialization|Untrusted', case=False, na=False),\n",
    "        data_frame['vulnerability_name'].str.contains(r'Type Confusion', case=False, na=False),\n",
    "        data_frame['vulnerability_name'].str.contains(r'Traversal|path', case=False, na=False),\n",
    "        data_frame['vulnerability_name'].str.contains(r'Buffer|Overflow|Heap', case=False, na=False),\n",
    "        data_frame['vulnerability_name'].str.contains(r'Denial|Service', case=False, na=False),\n",
    "        data_frame['vulnerability_name'].str.contains(r'Information|Disclosure', case=False, na=False),\n",
    "        data_frame['vulnerability_name'].str.contains(r'Out-of-Bounds|Write|Bounds', case=False, na=False),\n",
    "        data_frame['vulnerability_name'].str.contains(r'Sandbox|Bypass', case=False, na=False),\n",
    "        data_frame['vulnerability_name'].str.contains(r'Unspecified', case=False, na=False),\n",
    "        data_frame['vulnerability_name'].str.contains(r'Spoofing', case=False, na=False),\n",
    "        data_frame['vulnerability_name'].str.contains(r'Input|Validation', case=False, na=False),\n",
    "        data_frame['vulnerability_name'].str.contains(r'Hard-Coded|Credentials', case=False, na=False),\n",
    "        data_frame['vulnerability_name'].str.contains(r'Forgery|SSRF|Request|Server', case=False, na=False),\n",
    "        data_frame['vulnerability_name'].str.contains(r'Scripting|XSS|Cross|Site', case=False, na=False),\n",
    "        data_frame['vulnerability_name'].str.contains(r'Arbitrary Code', case=False, na=False)\n",
    "    ]\n",
    "\n",
    "    # Define the corresponding values for the new feature\n",
    "    choices = [\n",
    "        \"Privilege Escalation Vulnerability\",\n",
    "        \"Memory Corruption Vulnerability\",\n",
    "        \"File Upload Vulnerability\",\n",
    "        \"Remote Code Execution Vulnerability\",\n",
    "        \"Improper Access Control Vulnerability\",\n",
    "        \"Command Injection Vulnerability\",\n",
    "        \"Use-After-Free Vulnerability\",\n",
    "        \"Deserialization of Untrusted Data Vulnerability\",\n",
    "        \"Type Confusion Vulnerability\",\n",
    "        \"Path Traversal Vulnerability\",\n",
    "        \"Buffer Overflow Vulnerability\",\n",
    "        \"Denial of Service Vulnerability\",\n",
    "        \"Information Disclosure Vulnerability\",\n",
    "        \"Out-of-Bounds Write Vulnerability\",\n",
    "        \"Sandbox Bypass Vulnerability\",\n",
    "        \"Arbitrary File Upload Vulnerability\",\n",
    "        \"Spoofing Vulnerabilities\",\n",
    "        \"Input Validation Vulnerabilities\",\n",
    "        \"Use of Hard-Coded Credentials Vulnerabilities\",\n",
    "        \"Server-Side Request Forgery (SSRF) Vulnerabilities\",\n",
    "        \"Cross-Site Scripting (XSS) Vulnerabilities\",\n",
    "        \"Arbitrary Code Execution Vulnerability\",\n",
    "    ]\n",
    "\n",
    "    # Use np.select to create the new feature\n",
    "    data_frame['vulnerability_type'] = np.select(conditions, choices, default=\"Other Vulnerability\")\n",
    "    return data_frame\n"
   ]
  },
  {
   "cell_type": "markdown",
   "id": "1b1034c4",
   "metadata": {},
   "source": [
    "#### The newly engineered feature values"
   ]
  },
  {
   "cell_type": "code",
   "execution_count": 60,
   "id": "e66fff41",
   "metadata": {},
   "outputs": [
    {
     "data": {
      "text/plain": [
       "vulnerability_type\n",
       "Privilege Escalation Vulnerability                    93\n",
       "Remote Code Execution Vulnerability                   90\n",
       "Command Injection Vulnerability                       59\n",
       "Improper Access Control Vulnerability                 46\n",
       "Sandbox Bypass Vulnerability                          43\n",
       "Memory Corruption Vulnerability                       39\n",
       "Buffer Overflow Vulnerability                         39\n",
       "Use-After-Free Vulnerability                          35\n",
       "Other Vulnerability                                   34\n",
       "Path Traversal Vulnerability                          24\n",
       "Information Disclosure Vulnerability                  23\n",
       "File Upload Vulnerability                             20\n",
       "Out-of-Bounds Write Vulnerability                     18\n",
       "Denial of Service Vulnerability                       18\n",
       "Deserialization of Untrusted Data Vulnerability       16\n",
       "Type Confusion Vulnerability                          15\n",
       "Arbitrary File Upload Vulnerability                   12\n",
       "Cross-Site Scripting (XSS) Vulnerabilities             8\n",
       "Server-Side Request Forgery (SSRF) Vulnerabilities     7\n",
       "Input Validation Vulnerabilities                       7\n",
       "Arbitrary Code Execution Vulnerability                 7\n",
       "Use of Hard-Coded Credentials Vulnerabilities          3\n",
       "Spoofing Vulnerabilities                               3\n",
       "Name: count, dtype: int64"
      ]
     },
     "execution_count": 60,
     "metadata": {},
     "output_type": "execute_result"
    }
   ],
   "source": [
    "feature_eng_vul_names(train).vulnerability_type.value_counts()"
   ]
  },
  {
   "cell_type": "markdown",
   "id": "b26ec83b",
   "metadata": {},
   "source": [
    "**Let know look how we can engineer the `required_action` column**"
   ]
  },
  {
   "cell_type": "code",
   "execution_count": 118,
   "id": "58d1c9e7",
   "metadata": {},
   "outputs": [
    {
     "data": {
      "text/plain": [
       "required_action\n",
       "Apply updates per vendor instructions.                                                                                                                                                                                                                                                                                                                                               505\n",
       "Apply mitigations per vendor instructions or discontinue use of the product if mitigations are unavailable.                                                                                                                                                                                                                                                                           93\n",
       "The impacted product is end-of-life and should be disconnected if still in use.                                                                                                                                                                                                                                                                                                       31\n",
       "Apply updates per vendor instructions or discontinue use of the product if updates are unavailable.                                                                                                                                                                                                                                                                                    8\n",
       "Apply remediations or mitigations per vendor instructions or discontinue use of the product if remediation or mitigations are unavailable.                                                                                                                                                                                                                                             6\n",
       "Apply updates per vendor instructions or discontinue use of the product if updates are unavailable                                                                                                                                                                                                                                                                                     4\n",
       "This vulnerability affects legacy D-Link products. All associated hardware revisions have reached their end-of-life (EOL) or end-of-service (EOS) life cycle and should be retired and replaced per vendor instructions.                                                                                                                                                               3\n",
       "Verify that instances of Cisco IOS XE Web UI are in compliance with BOD 23-02 and apply mitigations per vendor instructions. For affected products (Cisco IOS XE Web UI exposed to the internet or to untrusted networks), follow vendor instructions to determine if a system may have been compromised and immediately report positive findings to CISA.                             2\n",
       "Apply mitigations per vendor instructions for group-lock and vpn-simultaneous-logins or discontinue use of the product for unsupported devices.                                                                                                                                                                                                                                        1\n",
       "The impacted products are end-of-life and should be disconnected if still in use.                                                                                                                                                                                                                                                                                                      1\n",
       "Apply mitigations per vendor instructions or disable SLP service or port 427/UDP on all systems running on untrusted networks, including those directly connected to the Internet.                                                                                                                                                                                                     1\n",
       "For all affected software assets for which updates exist, the only acceptable remediation actions are: 1) Apply updates; OR 2) remove affected assets from agency networks. Temporary mitigations using one of the measures provided at https://www.cisa.gov/uscert/ed-22-02-apache-log4j-recommended-mitigation-measures are only acceptable until updates are available.             1\n",
       "Immediately block all internet traffic to and from affected products AND apply the update per vendor instructions [https://confluence.atlassian.com/doc/confluence-security-advisory-2022-06-02-1130377146.html] OR remove the affected products by the due date on the right. Note: Once the update is successfully deployed, agencies can reassess the internet blocking rules.      1\n",
       "Apply mitigations per vendor instructions as they become available. Otherwise, users with vulnerable versions of affected devices should enable Threat Prevention IDs available from the vendor. See the vendor bulletin for more details and a patch release schedule.                                                                                                                1\n",
       "The vendor D-Link published an advisory stating the fix under CVE-2018-20114 properly patches KEV entry CVE-2018-6530. If the device is still supported, apply updates per vendor instructions. If the affected device has since entered its end-of-life, it should be disconnected if still in use.                                                                                   1\n",
       "Name: count, dtype: int64"
      ]
     },
     "execution_count": 118,
     "metadata": {},
     "output_type": "execute_result"
    }
   ],
   "source": [
    "train.required_action.value_counts()"
   ]
  },
  {
   "cell_type": "markdown",
   "id": "57e5b82a",
   "metadata": {},
   "source": [
    "I see that there is only 15 options that represent the entire training dataset, howerver they are too wordy and I don;t like that, so I will engineer a new column withshort and specific identifiers for each required action ."
   ]
  },
  {
   "cell_type": "code",
   "execution_count": 129,
   "id": "96a5a685",
   "metadata": {},
   "outputs": [],
   "source": [
    "# Create a function that handles feature engineering for vulnerability names\n",
    "def feature_eng_req_actions(data_frame):\n",
    "#     Create an array to contain the required actions\n",
    "    actions = np.array(data_frame.required_action.value_counts().keys())\n",
    "    # Define the conditions\n",
    "    conditions = [\n",
    "        data_frame['required_action'] == actions[0],\n",
    "        data_frame['required_action'] == actions[1],\n",
    "        data_frame['required_action'] == actions[2],\n",
    "        data_frame['required_action'] == actions[3],\n",
    "        data_frame['required_action'] == actions[4],\n",
    "        data_frame['required_action'] == actions[5],\n",
    "        data_frame['required_action'] == actions[6],\n",
    "        data_frame['required_action'] == actions[7],\n",
    "        data_frame['required_action'] == actions[8],\n",
    "        data_frame['required_action'] == actions[9],\n",
    "        data_frame['required_action'] == actions[10],\n",
    "        data_frame['required_action'] == actions[11],\n",
    "        data_frame['required_action'] == actions[12],\n",
    "        data_frame['required_action'] == actions[13],\n",
    "        data_frame['required_action'] == actions[14]\n",
    "    ]\n",
    "\n",
    "    # Define the corresponding values for the new feature\n",
    "    choices = [\n",
    "        \"Apply Updates\", \n",
    "        \"Apply Mitigations or Discontinue\", \n",
    "        \"End of Life Disconnect\",  \n",
    "        \"Apply Updates or Discontinue\",  \n",
    "        \"Apply Remediations or Discontinue\",  \n",
    "        \"Apply Updates or Discontinue\",  \n",
    "        \"Legacy Disconnect\",  \n",
    "        \"Verify Cisco Compliance\",  \n",
    "        \"Mitigate GroupLock or Discontinue\",  \n",
    "        \"End of Life Disconnect\",  \n",
    "        \"Mitigate or Disable SLP\",  \n",
    "        \"Log4j Remediation\",  \n",
    "        \"Internet Block and Update\",  \n",
    "        \"Enable Threat Prevention\",  \n",
    "        \"DLink Update or Disconnect\",\n",
    "    ]\n",
    "\n",
    "    # Use np.select to create the new feature\n",
    "    data_frame['required_action_new'] = np.select(conditions, choices)\n",
    "    return data_frame\n"
   ]
  },
  {
   "cell_type": "code",
   "execution_count": 130,
   "id": "b14892f2",
   "metadata": {},
   "outputs": [
    {
     "data": {
      "text/plain": [
       "required_action_new\n",
       "Apply Updates                        505\n",
       "Apply Mitigations or Discontinue      93\n",
       "End of Life Disconnect                32\n",
       "Apply Updates or Discontinue          12\n",
       "Apply Remediations or Discontinue      6\n",
       "Legacy Disconnect                      3\n",
       "Verify Cisco Compliance                2\n",
       "Mitigate GroupLock or Discontinue      1\n",
       "Mitigate or Disable SLP                1\n",
       "Log4j Remediation                      1\n",
       "Internet Block and Update              1\n",
       "Enable Threat Prevention               1\n",
       "DLink Update or Disconnect             1\n",
       "Name: count, dtype: int64"
      ]
     },
     "execution_count": 130,
     "metadata": {},
     "output_type": "execute_result"
    }
   ],
   "source": [
    "feature_eng_req_actions(train).required_action_new.value_counts()"
   ]
  },
  {
   "cell_type": "code",
   "execution_count": 131,
   "id": "b107585b",
   "metadata": {},
   "outputs": [
    {
     "data": {
      "text/plain": [
       "array([505,  93,  31,   8,   6,   4,   3,   2,   1,   1,   1,   1,   1,\n",
       "         1,   1])"
      ]
     },
     "execution_count": 131,
     "metadata": {},
     "output_type": "execute_result"
    }
   ],
   "source": [
    "train.required_action.value_counts().values"
   ]
  },
  {
   "cell_type": "markdown",
   "id": "4fba3743",
   "metadata": {},
   "source": [
    "**Apply new changes to the entire dataframe**"
   ]
  },
  {
   "cell_type": "code",
   "execution_count": 62,
   "id": "558cc386",
   "metadata": {},
   "outputs": [
    {
     "data": {
      "text/html": [
       "<div>\n",
       "<style scoped>\n",
       "    .dataframe tbody tr th:only-of-type {\n",
       "        vertical-align: middle;\n",
       "    }\n",
       "\n",
       "    .dataframe tbody tr th {\n",
       "        vertical-align: top;\n",
       "    }\n",
       "\n",
       "    .dataframe thead th {\n",
       "        text-align: right;\n",
       "    }\n",
       "</style>\n",
       "<table border=\"1\" class=\"dataframe\">\n",
       "  <thead>\n",
       "    <tr style=\"text-align: right;\">\n",
       "      <th></th>\n",
       "      <th>vendor_project</th>\n",
       "      <th>product</th>\n",
       "      <th>vulnerability_name</th>\n",
       "      <th>short_description</th>\n",
       "      <th>required_action</th>\n",
       "      <th>due_date</th>\n",
       "      <th>known_ransomware_campaign_use</th>\n",
       "      <th>notes</th>\n",
       "      <th>vulnerability_type</th>\n",
       "    </tr>\n",
       "  </thead>\n",
       "  <tbody>\n",
       "    <tr>\n",
       "      <th>0</th>\n",
       "      <td>Accellion</td>\n",
       "      <td>FTA</td>\n",
       "      <td>Accellion FTA OS Command Injection Vulnerability</td>\n",
       "      <td>Accellion FTA contains an OS command injection...</td>\n",
       "      <td>Apply updates per vendor instructions.</td>\n",
       "      <td>2021-11-17</td>\n",
       "      <td>Known</td>\n",
       "      <td>NaN</td>\n",
       "      <td>Command Injection Vulnerability</td>\n",
       "    </tr>\n",
       "    <tr>\n",
       "      <th>1</th>\n",
       "      <td>Accellion</td>\n",
       "      <td>FTA</td>\n",
       "      <td>Accellion FTA OS Command Injection Vulnerability</td>\n",
       "      <td>Accellion FTA contains an OS command injection...</td>\n",
       "      <td>Apply updates per vendor instructions.</td>\n",
       "      <td>2021-11-17</td>\n",
       "      <td>Known</td>\n",
       "      <td>NaN</td>\n",
       "      <td>Command Injection Vulnerability</td>\n",
       "    </tr>\n",
       "    <tr>\n",
       "      <th>2</th>\n",
       "      <td>Accellion</td>\n",
       "      <td>FTA</td>\n",
       "      <td>Accellion FTA SQL Injection Vulnerability</td>\n",
       "      <td>Accellion FTA contains a SQL injection vulnera...</td>\n",
       "      <td>Apply updates per vendor instructions.</td>\n",
       "      <td>2021-11-17</td>\n",
       "      <td>Known</td>\n",
       "      <td>NaN</td>\n",
       "      <td>Command Injection Vulnerability</td>\n",
       "    </tr>\n",
       "  </tbody>\n",
       "</table>\n",
       "</div>"
      ],
      "text/plain": [
       "  vendor_project product                                vulnerability_name  \\\n",
       "0      Accellion     FTA  Accellion FTA OS Command Injection Vulnerability   \n",
       "1      Accellion     FTA  Accellion FTA OS Command Injection Vulnerability   \n",
       "2      Accellion     FTA         Accellion FTA SQL Injection Vulnerability   \n",
       "\n",
       "                                   short_description  \\\n",
       "0  Accellion FTA contains an OS command injection...   \n",
       "1  Accellion FTA contains an OS command injection...   \n",
       "2  Accellion FTA contains a SQL injection vulnera...   \n",
       "\n",
       "                          required_action    due_date  \\\n",
       "0  Apply updates per vendor instructions.  2021-11-17   \n",
       "1  Apply updates per vendor instructions.  2021-11-17   \n",
       "2  Apply updates per vendor instructions.  2021-11-17   \n",
       "\n",
       "  known_ransomware_campaign_use notes               vulnerability_type  \n",
       "0                         Known   NaN  Command Injection Vulnerability  \n",
       "1                         Known   NaN  Command Injection Vulnerability  \n",
       "2                         Known   NaN  Command Injection Vulnerability  "
      ]
     },
     "execution_count": 62,
     "metadata": {},
     "output_type": "execute_result"
    }
   ],
   "source": [
    "df = feature_eng_vul_names(df)\n",
    "df.head(3)"
   ]
  },
  {
   "cell_type": "code",
   "execution_count": 64,
   "id": "a87256e7",
   "metadata": {},
   "outputs": [
    {
     "data": {
      "text/html": [
       "<div>\n",
       "<style scoped>\n",
       "    .dataframe tbody tr th:only-of-type {\n",
       "        vertical-align: middle;\n",
       "    }\n",
       "\n",
       "    .dataframe tbody tr th {\n",
       "        vertical-align: top;\n",
       "    }\n",
       "\n",
       "    .dataframe thead th {\n",
       "        text-align: right;\n",
       "    }\n",
       "</style>\n",
       "<table border=\"1\" class=\"dataframe\">\n",
       "  <thead>\n",
       "    <tr style=\"text-align: right;\">\n",
       "      <th></th>\n",
       "      <th>vendor_project</th>\n",
       "      <th>product</th>\n",
       "      <th>required_action</th>\n",
       "      <th>known_ransomware_campaign_use</th>\n",
       "      <th>vulnerability_type</th>\n",
       "    </tr>\n",
       "  </thead>\n",
       "  <tbody>\n",
       "    <tr>\n",
       "      <th>0</th>\n",
       "      <td>Accellion</td>\n",
       "      <td>FTA</td>\n",
       "      <td>Apply updates per vendor instructions.</td>\n",
       "      <td>Known</td>\n",
       "      <td>Command Injection Vulnerability</td>\n",
       "    </tr>\n",
       "    <tr>\n",
       "      <th>1</th>\n",
       "      <td>Accellion</td>\n",
       "      <td>FTA</td>\n",
       "      <td>Apply updates per vendor instructions.</td>\n",
       "      <td>Known</td>\n",
       "      <td>Command Injection Vulnerability</td>\n",
       "    </tr>\n",
       "    <tr>\n",
       "      <th>2</th>\n",
       "      <td>Accellion</td>\n",
       "      <td>FTA</td>\n",
       "      <td>Apply updates per vendor instructions.</td>\n",
       "      <td>Known</td>\n",
       "      <td>Command Injection Vulnerability</td>\n",
       "    </tr>\n",
       "  </tbody>\n",
       "</table>\n",
       "</div>"
      ],
      "text/plain": [
       "  vendor_project product                         required_action  \\\n",
       "0      Accellion     FTA  Apply updates per vendor instructions.   \n",
       "1      Accellion     FTA  Apply updates per vendor instructions.   \n",
       "2      Accellion     FTA  Apply updates per vendor instructions.   \n",
       "\n",
       "  known_ransomware_campaign_use               vulnerability_type  \n",
       "0                         Known  Command Injection Vulnerability  \n",
       "1                         Known  Command Injection Vulnerability  \n",
       "2                         Known  Command Injection Vulnerability  "
      ]
     },
     "execution_count": 64,
     "metadata": {},
     "output_type": "execute_result"
    }
   ],
   "source": [
    "# remove columns not needed\n",
    "df = df.drop(columns=[\"notes\", \"short_description\", \"vulnerability_name\", \"due_date\"])\n",
    "df.head(3)"
   ]
  },
  {
   "cell_type": "markdown",
   "id": "5c21bb47",
   "metadata": {},
   "source": [
    "### Dummies\n",
    "\n",
    "Create dummy variables for modeling"
   ]
  },
  {
   "cell_type": "code",
   "execution_count": 78,
   "id": "169ae51a",
   "metadata": {},
   "outputs": [],
   "source": [
    "# First create a copy of the original dataframe\n",
    "df_dummy = df.copy()"
   ]
  },
  {
   "cell_type": "code",
   "execution_count": 81,
   "id": "61738808",
   "metadata": {},
   "outputs": [
    {
     "data": {
      "text/html": [
       "<div>\n",
       "<style scoped>\n",
       "    .dataframe tbody tr th:only-of-type {\n",
       "        vertical-align: middle;\n",
       "    }\n",
       "\n",
       "    .dataframe tbody tr th {\n",
       "        vertical-align: top;\n",
       "    }\n",
       "\n",
       "    .dataframe thead th {\n",
       "        text-align: right;\n",
       "    }\n",
       "</style>\n",
       "<table border=\"1\" class=\"dataframe\">\n",
       "  <thead>\n",
       "    <tr style=\"text-align: right;\">\n",
       "      <th></th>\n",
       "      <th>vendor_project</th>\n",
       "      <th>product</th>\n",
       "      <th>required_action</th>\n",
       "      <th>vulnerability_type</th>\n",
       "    </tr>\n",
       "  </thead>\n",
       "  <tbody>\n",
       "    <tr>\n",
       "      <th>0</th>\n",
       "      <td>Accellion</td>\n",
       "      <td>FTA</td>\n",
       "      <td>Apply updates per vendor instructions.</td>\n",
       "      <td>Command Injection Vulnerability</td>\n",
       "    </tr>\n",
       "    <tr>\n",
       "      <th>1</th>\n",
       "      <td>Accellion</td>\n",
       "      <td>FTA</td>\n",
       "      <td>Apply updates per vendor instructions.</td>\n",
       "      <td>Command Injection Vulnerability</td>\n",
       "    </tr>\n",
       "    <tr>\n",
       "      <th>2</th>\n",
       "      <td>Accellion</td>\n",
       "      <td>FTA</td>\n",
       "      <td>Apply updates per vendor instructions.</td>\n",
       "      <td>Command Injection Vulnerability</td>\n",
       "    </tr>\n",
       "    <tr>\n",
       "      <th>3</th>\n",
       "      <td>Accellion</td>\n",
       "      <td>FTA</td>\n",
       "      <td>Apply updates per vendor instructions.</td>\n",
       "      <td>Server-Side Request Forgery (SSRF) Vulnerabili...</td>\n",
       "    </tr>\n",
       "    <tr>\n",
       "      <th>4</th>\n",
       "      <td>Adobe</td>\n",
       "      <td>Acrobat and Reader</td>\n",
       "      <td>Apply updates per vendor instructions.</td>\n",
       "      <td>Buffer Overflow Vulnerability</td>\n",
       "    </tr>\n",
       "    <tr>\n",
       "      <th>...</th>\n",
       "      <td>...</td>\n",
       "      <td>...</td>\n",
       "      <td>...</td>\n",
       "      <td>...</td>\n",
       "    </tr>\n",
       "    <tr>\n",
       "      <th>1135</th>\n",
       "      <td>Microsoft</td>\n",
       "      <td>Internet Explorer</td>\n",
       "      <td>The impacted product is end-of-life and should...</td>\n",
       "      <td>Use-After-Free Vulnerability</td>\n",
       "    </tr>\n",
       "    <tr>\n",
       "      <th>1136</th>\n",
       "      <td>Acronis</td>\n",
       "      <td>Cyber Infrastructure (ACI)</td>\n",
       "      <td>Apply mitigations per vendor instructions or d...</td>\n",
       "      <td>Other Vulnerability</td>\n",
       "    </tr>\n",
       "    <tr>\n",
       "      <th>1137</th>\n",
       "      <td>ServiceNow</td>\n",
       "      <td>Utah, Vancouver, and Washington DC Now</td>\n",
       "      <td>Apply mitigations per vendor instructions or d...</td>\n",
       "      <td>Denial of Service Vulnerability</td>\n",
       "    </tr>\n",
       "    <tr>\n",
       "      <th>1138</th>\n",
       "      <td>ServiceNow</td>\n",
       "      <td>Utah, Vancouver, and Washington DC Now</td>\n",
       "      <td>Apply mitigations per vendor instructions or d...</td>\n",
       "      <td>Improper Access Control Vulnerability</td>\n",
       "    </tr>\n",
       "    <tr>\n",
       "      <th>1139</th>\n",
       "      <td>VMware</td>\n",
       "      <td>ESXi</td>\n",
       "      <td>Apply mitigations per vendor instructions or d...</td>\n",
       "      <td>Sandbox Bypass Vulnerability</td>\n",
       "    </tr>\n",
       "  </tbody>\n",
       "</table>\n",
       "<p>1099 rows × 4 columns</p>\n",
       "</div>"
      ],
      "text/plain": [
       "     vendor_project                                 product  \\\n",
       "0         Accellion                                     FTA   \n",
       "1         Accellion                                     FTA   \n",
       "2         Accellion                                     FTA   \n",
       "3         Accellion                                     FTA   \n",
       "4             Adobe                      Acrobat and Reader   \n",
       "...             ...                                     ...   \n",
       "1135      Microsoft                       Internet Explorer   \n",
       "1136        Acronis              Cyber Infrastructure (ACI)   \n",
       "1137     ServiceNow  Utah, Vancouver, and Washington DC Now   \n",
       "1138     ServiceNow  Utah, Vancouver, and Washington DC Now   \n",
       "1139         VMware                                    ESXi   \n",
       "\n",
       "                                        required_action  \\\n",
       "0                Apply updates per vendor instructions.   \n",
       "1                Apply updates per vendor instructions.   \n",
       "2                Apply updates per vendor instructions.   \n",
       "3                Apply updates per vendor instructions.   \n",
       "4                Apply updates per vendor instructions.   \n",
       "...                                                 ...   \n",
       "1135  The impacted product is end-of-life and should...   \n",
       "1136  Apply mitigations per vendor instructions or d...   \n",
       "1137  Apply mitigations per vendor instructions or d...   \n",
       "1138  Apply mitigations per vendor instructions or d...   \n",
       "1139  Apply mitigations per vendor instructions or d...   \n",
       "\n",
       "                                     vulnerability_type  \n",
       "0                       Command Injection Vulnerability  \n",
       "1                       Command Injection Vulnerability  \n",
       "2                       Command Injection Vulnerability  \n",
       "3     Server-Side Request Forgery (SSRF) Vulnerabili...  \n",
       "4                         Buffer Overflow Vulnerability  \n",
       "...                                                 ...  \n",
       "1135                       Use-After-Free Vulnerability  \n",
       "1136                                Other Vulnerability  \n",
       "1137                    Denial of Service Vulnerability  \n",
       "1138              Improper Access Control Vulnerability  \n",
       "1139                       Sandbox Bypass Vulnerability  \n",
       "\n",
       "[1099 rows x 4 columns]"
      ]
     },
     "execution_count": 81,
     "metadata": {},
     "output_type": "execute_result"
    }
   ],
   "source": [
    "# get all the columns to upply dummies to\n",
    "dummy_col = df_dummy.columns[df_dummy.columns != \"known_ransomware_campaign_use\"]\n",
    "\n",
    "df_dummy[dummy_col].head(3)"
   ]
  },
  {
   "cell_type": "code",
   "execution_count": null,
   "id": "8ff1a68e",
   "metadata": {},
   "outputs": [],
   "source": []
  },
  {
   "cell_type": "code",
   "execution_count": null,
   "id": "aa03e188",
   "metadata": {},
   "outputs": [],
   "source": []
  },
  {
   "cell_type": "markdown",
   "id": "92db27e3",
   "metadata": {},
   "source": [
    "**Make the targer binary**\n",
    "\n",
    "* All `known` ransomware are labled as `1`, and all `unknown` copains are labeled with `0`."
   ]
  },
  {
   "cell_type": "code",
   "execution_count": 87,
   "id": "32a3cf82",
   "metadata": {},
   "outputs": [
    {
     "data": {
      "text/html": [
       "<div>\n",
       "<style scoped>\n",
       "    .dataframe tbody tr th:only-of-type {\n",
       "        vertical-align: middle;\n",
       "    }\n",
       "\n",
       "    .dataframe tbody tr th {\n",
       "        vertical-align: top;\n",
       "    }\n",
       "\n",
       "    .dataframe thead th {\n",
       "        text-align: right;\n",
       "    }\n",
       "</style>\n",
       "<table border=\"1\" class=\"dataframe\">\n",
       "  <thead>\n",
       "    <tr style=\"text-align: right;\">\n",
       "      <th></th>\n",
       "      <th>vendor_project</th>\n",
       "      <th>product</th>\n",
       "      <th>required_action</th>\n",
       "      <th>known_ransomware_campaign_use</th>\n",
       "      <th>vulnerability_type</th>\n",
       "      <th>ransomware_use</th>\n",
       "    </tr>\n",
       "  </thead>\n",
       "  <tbody>\n",
       "    <tr>\n",
       "      <th>0</th>\n",
       "      <td>Accellion</td>\n",
       "      <td>FTA</td>\n",
       "      <td>Apply updates per vendor instructions.</td>\n",
       "      <td>Known</td>\n",
       "      <td>Command Injection Vulnerability</td>\n",
       "      <td>1</td>\n",
       "    </tr>\n",
       "    <tr>\n",
       "      <th>1</th>\n",
       "      <td>Accellion</td>\n",
       "      <td>FTA</td>\n",
       "      <td>Apply updates per vendor instructions.</td>\n",
       "      <td>Known</td>\n",
       "      <td>Command Injection Vulnerability</td>\n",
       "      <td>1</td>\n",
       "    </tr>\n",
       "    <tr>\n",
       "      <th>2</th>\n",
       "      <td>Accellion</td>\n",
       "      <td>FTA</td>\n",
       "      <td>Apply updates per vendor instructions.</td>\n",
       "      <td>Known</td>\n",
       "      <td>Command Injection Vulnerability</td>\n",
       "      <td>1</td>\n",
       "    </tr>\n",
       "  </tbody>\n",
       "</table>\n",
       "</div>"
      ],
      "text/plain": [
       "  vendor_project product                         required_action  \\\n",
       "0      Accellion     FTA  Apply updates per vendor instructions.   \n",
       "1      Accellion     FTA  Apply updates per vendor instructions.   \n",
       "2      Accellion     FTA  Apply updates per vendor instructions.   \n",
       "\n",
       "  known_ransomware_campaign_use               vulnerability_type  \\\n",
       "0                         Known  Command Injection Vulnerability   \n",
       "1                         Known  Command Injection Vulnerability   \n",
       "2                         Known  Command Injection Vulnerability   \n",
       "\n",
       "   ransomware_use  \n",
       "0               1  \n",
       "1               1  \n",
       "2               1  "
      ]
     },
     "execution_count": 87,
     "metadata": {},
     "output_type": "execute_result"
    }
   ],
   "source": [
    "df_dummy.known_ransomware_campaign_use\n",
    "\n",
    "df_dummy[\"ransomware_use\"] = np.where(df_dummy[\"known_ransomware_campaign_use\"] == \"Known\", 1, 0)\n",
    "df_dummy.head(3)"
   ]
  },
  {
   "cell_type": "markdown",
   "id": "7de8f6a0",
   "metadata": {},
   "source": [
    "## Split and Save all the data sets"
   ]
  },
  {
   "cell_type": "code",
   "execution_count": 65,
   "id": "886bbc98",
   "metadata": {},
   "outputs": [
    {
     "data": {
      "text/plain": [
       "((659, 5), (220, 5), (220, 5))"
      ]
     },
     "execution_count": 65,
     "metadata": {},
     "output_type": "execute_result"
    }
   ],
   "source": [
    "# Split the data into 3 sets\n",
    "train, validate, test = wrangle_.split_data_(df=df, \n",
    "                     test_size=0.2, \n",
    "                     validate_size= 0.2, \n",
    "                     stratify_col=\"known_ransomware_campaign_use\", \n",
    "                     random_state=10)\n",
    "train.shape, validate.shape, test.shape"
   ]
  },
  {
   "cell_type": "code",
   "execution_count": 66,
   "id": "b3581585",
   "metadata": {},
   "outputs": [
    {
     "ename": "NameError",
     "evalue": "name 'known_exploited_vulnerabilities' is not defined",
     "output_type": "error",
     "traceback": [
      "\u001b[0;31m---------------------------------------------------------------------------\u001b[0m",
      "\u001b[0;31mNameError\u001b[0m                                 Traceback (most recent call last)",
      "Cell \u001b[0;32mIn[66], line 1\u001b[0m\n\u001b[0;32m----> 1\u001b[0m known_exploited_vulnerabilities\u001b[38;5;241m.\u001b[39mcsv\n",
      "\u001b[0;31mNameError\u001b[0m: name 'known_exploited_vulnerabilities' is not defined"
     ]
    }
   ],
   "source": [
    "known_exploited_vulnerabilities.csv"
   ]
  },
  {
   "cell_type": "code",
   "execution_count": null,
   "id": "79d813b6",
   "metadata": {},
   "outputs": [],
   "source": []
  }
 ],
 "metadata": {
  "kernelspec": {
   "display_name": "Python 3 (ipykernel)",
   "language": "python",
   "name": "python3"
  },
  "language_info": {
   "codemirror_mode": {
    "name": "ipython",
    "version": 3
   },
   "file_extension": ".py",
   "mimetype": "text/x-python",
   "name": "python",
   "nbconvert_exporter": "python",
   "pygments_lexer": "ipython3",
   "version": "3.11.7"
  }
 },
 "nbformat": 4,
 "nbformat_minor": 5
}
