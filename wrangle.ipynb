{
 "cells": [
  {
   "cell_type": "markdown",
   "id": "055d9e78-e86e-4672-9813-55c696e49d2b",
   "metadata": {},
   "source": [
    "# Wrangle"
   ]
  },
  {
   "cell_type": "code",
   "execution_count": 1,
   "id": "2446ebdc-7371-4db7-9458-5dbf72136d55",
   "metadata": {},
   "outputs": [],
   "source": [
    "#imports\n",
    "import pandas as pd\n",
    "import numpy as np\n",
    "\n",
    "# system\n",
    "import sys\n",
    "# sys.path.append(\"../data\")\n",
    "sys.path.append(\"util_\")\n",
    "import wrangle_"
   ]
  },
  {
   "cell_type": "code",
   "execution_count": 2,
   "id": "be229388-5ca1-4123-ad6f-a64c59325f50",
   "metadata": {},
   "outputs": [
    {
     "data": {
      "text/html": [
       "<div>\n",
       "<style scoped>\n",
       "    .dataframe tbody tr th:only-of-type {\n",
       "        vertical-align: middle;\n",
       "    }\n",
       "\n",
       "    .dataframe tbody tr th {\n",
       "        vertical-align: top;\n",
       "    }\n",
       "\n",
       "    .dataframe thead th {\n",
       "        text-align: right;\n",
       "    }\n",
       "</style>\n",
       "<table border=\"1\" class=\"dataframe\">\n",
       "  <thead>\n",
       "    <tr style=\"text-align: right;\">\n",
       "      <th></th>\n",
       "      <th>cveID</th>\n",
       "      <th>vendorProject</th>\n",
       "      <th>product</th>\n",
       "      <th>vulnerabilityName</th>\n",
       "      <th>dateAdded</th>\n",
       "      <th>shortDescription</th>\n",
       "      <th>requiredAction</th>\n",
       "      <th>dueDate</th>\n",
       "      <th>knownRansomwareCampaignUse</th>\n",
       "      <th>notes</th>\n",
       "      <th>cwes</th>\n",
       "    </tr>\n",
       "  </thead>\n",
       "  <tbody>\n",
       "    <tr>\n",
       "      <th>0</th>\n",
       "      <td>CVE-2021-27104</td>\n",
       "      <td>Accellion</td>\n",
       "      <td>FTA</td>\n",
       "      <td>Accellion FTA OS Command Injection Vulnerability</td>\n",
       "      <td>2021-11-03</td>\n",
       "      <td>Accellion FTA contains an OS command injection...</td>\n",
       "      <td>Apply updates per vendor instructions.</td>\n",
       "      <td>2021-11-17</td>\n",
       "      <td>Known</td>\n",
       "      <td>NaN</td>\n",
       "      <td>NaN</td>\n",
       "    </tr>\n",
       "    <tr>\n",
       "      <th>1</th>\n",
       "      <td>CVE-2021-27102</td>\n",
       "      <td>Accellion</td>\n",
       "      <td>FTA</td>\n",
       "      <td>Accellion FTA OS Command Injection Vulnerability</td>\n",
       "      <td>2021-11-03</td>\n",
       "      <td>Accellion FTA contains an OS command injection...</td>\n",
       "      <td>Apply updates per vendor instructions.</td>\n",
       "      <td>2021-11-17</td>\n",
       "      <td>Known</td>\n",
       "      <td>NaN</td>\n",
       "      <td>NaN</td>\n",
       "    </tr>\n",
       "    <tr>\n",
       "      <th>2</th>\n",
       "      <td>CVE-2021-27101</td>\n",
       "      <td>Accellion</td>\n",
       "      <td>FTA</td>\n",
       "      <td>Accellion FTA SQL Injection Vulnerability</td>\n",
       "      <td>2021-11-03</td>\n",
       "      <td>Accellion FTA contains a SQL injection vulnera...</td>\n",
       "      <td>Apply updates per vendor instructions.</td>\n",
       "      <td>2021-11-17</td>\n",
       "      <td>Known</td>\n",
       "      <td>NaN</td>\n",
       "      <td>NaN</td>\n",
       "    </tr>\n",
       "    <tr>\n",
       "      <th>3</th>\n",
       "      <td>CVE-2021-27103</td>\n",
       "      <td>Accellion</td>\n",
       "      <td>FTA</td>\n",
       "      <td>Accellion FTA Server-Side Request Forgery (SSR...</td>\n",
       "      <td>2021-11-03</td>\n",
       "      <td>Accellion FTA contains a server-side request f...</td>\n",
       "      <td>Apply updates per vendor instructions.</td>\n",
       "      <td>2021-11-17</td>\n",
       "      <td>Known</td>\n",
       "      <td>NaN</td>\n",
       "      <td>NaN</td>\n",
       "    </tr>\n",
       "    <tr>\n",
       "      <th>4</th>\n",
       "      <td>CVE-2021-21017</td>\n",
       "      <td>Adobe</td>\n",
       "      <td>Acrobat and Reader</td>\n",
       "      <td>Adobe Acrobat and Reader Heap-based Buffer Ove...</td>\n",
       "      <td>2021-11-03</td>\n",
       "      <td>Acrobat Acrobat and Reader contain a heap-base...</td>\n",
       "      <td>Apply updates per vendor instructions.</td>\n",
       "      <td>2021-11-17</td>\n",
       "      <td>Unknown</td>\n",
       "      <td>NaN</td>\n",
       "      <td>NaN</td>\n",
       "    </tr>\n",
       "  </tbody>\n",
       "</table>\n",
       "</div>"
      ],
      "text/plain": [
       "            cveID vendorProject             product  \\\n",
       "0  CVE-2021-27104     Accellion                 FTA   \n",
       "1  CVE-2021-27102     Accellion                 FTA   \n",
       "2  CVE-2021-27101     Accellion                 FTA   \n",
       "3  CVE-2021-27103     Accellion                 FTA   \n",
       "4  CVE-2021-21017         Adobe  Acrobat and Reader   \n",
       "\n",
       "                                   vulnerabilityName   dateAdded  \\\n",
       "0   Accellion FTA OS Command Injection Vulnerability  2021-11-03   \n",
       "1   Accellion FTA OS Command Injection Vulnerability  2021-11-03   \n",
       "2          Accellion FTA SQL Injection Vulnerability  2021-11-03   \n",
       "3  Accellion FTA Server-Side Request Forgery (SSR...  2021-11-03   \n",
       "4  Adobe Acrobat and Reader Heap-based Buffer Ove...  2021-11-03   \n",
       "\n",
       "                                    shortDescription  \\\n",
       "0  Accellion FTA contains an OS command injection...   \n",
       "1  Accellion FTA contains an OS command injection...   \n",
       "2  Accellion FTA contains a SQL injection vulnera...   \n",
       "3  Accellion FTA contains a server-side request f...   \n",
       "4  Acrobat Acrobat and Reader contain a heap-base...   \n",
       "\n",
       "                           requiredAction     dueDate  \\\n",
       "0  Apply updates per vendor instructions.  2021-11-17   \n",
       "1  Apply updates per vendor instructions.  2021-11-17   \n",
       "2  Apply updates per vendor instructions.  2021-11-17   \n",
       "3  Apply updates per vendor instructions.  2021-11-17   \n",
       "4  Apply updates per vendor instructions.  2021-11-17   \n",
       "\n",
       "  knownRansomwareCampaignUse notes  cwes  \n",
       "0                      Known   NaN   NaN  \n",
       "1                      Known   NaN   NaN  \n",
       "2                      Known   NaN   NaN  \n",
       "3                      Known   NaN   NaN  \n",
       "4                    Unknown   NaN   NaN  "
      ]
     },
     "execution_count": 2,
     "metadata": {},
     "output_type": "execute_result"
    }
   ],
   "source": [
    "# lacd data\n",
    "df = pd.read_csv(\"data/known_exploited_vulnerabilities.csv\")\n",
    "df.head()"
   ]
  },
  {
   "cell_type": "code",
   "execution_count": 3,
   "id": "e69a06f5-5470-4fc9-b97f-5e4241d7b708",
   "metadata": {
    "tags": []
   },
   "outputs": [
    {
     "data": {
      "text/plain": [
       "(1140, 11)"
      ]
     },
     "execution_count": 3,
     "metadata": {},
     "output_type": "execute_result"
    }
   ],
   "source": [
    "# look at the shape\n",
    "df.shape"
   ]
  },
  {
   "cell_type": "code",
   "execution_count": 4,
   "id": "d065afa3-5606-4315-939d-3db1eaab597f",
   "metadata": {
    "tags": []
   },
   "outputs": [
    {
     "data": {
      "text/plain": [
       "Index(['cveID', 'vendorProject', 'product', 'vulnerabilityName', 'dateAdded',\n",
       "       'shortDescription', 'requiredAction', 'dueDate',\n",
       "       'knownRansomwareCampaignUse', 'notes', 'cwes'],\n",
       "      dtype='object')"
      ]
     },
     "execution_count": 4,
     "metadata": {},
     "output_type": "execute_result"
    }
   ],
   "source": [
    "#look at the columns\n",
    "df.columns"
   ]
  },
  {
   "cell_type": "code",
   "execution_count": 5,
   "id": "c031c950-2a5b-4866-a844-6f15bc195a63",
   "metadata": {
    "tags": []
   },
   "outputs": [
    {
     "name": "stdout",
     "output_type": "stream",
     "text": [
      "<class 'pandas.core.frame.DataFrame'>\n",
      "RangeIndex: 1140 entries, 0 to 1139\n",
      "Data columns (total 11 columns):\n",
      " #   Column                      Non-Null Count  Dtype  \n",
      "---  ------                      --------------  -----  \n",
      " 0   cveID                       1140 non-null   object \n",
      " 1   vendorProject               1140 non-null   object \n",
      " 2   product                     1140 non-null   object \n",
      " 3   vulnerabilityName           1140 non-null   object \n",
      " 4   dateAdded                   1140 non-null   object \n",
      " 5   shortDescription            1140 non-null   object \n",
      " 6   requiredAction              1140 non-null   object \n",
      " 7   dueDate                     1140 non-null   object \n",
      " 8   knownRansomwareCampaignUse  1140 non-null   object \n",
      " 9   notes                       373 non-null    object \n",
      " 10  cwes                        0 non-null      float64\n",
      "dtypes: float64(1), object(10)\n",
      "memory usage: 98.1+ KB\n"
     ]
    }
   ],
   "source": [
    "# check the full info\n",
    "df.info()"
   ]
  },
  {
   "cell_type": "code",
   "execution_count": 6,
   "id": "f53703c5-091d-45bd-ba56-5391c450e0c6",
   "metadata": {
    "tags": []
   },
   "outputs": [
    {
     "data": {
      "text/plain": [
       "1"
      ]
     },
     "execution_count": 6,
     "metadata": {},
     "output_type": "execute_result"
    }
   ],
   "source": [
    "# select numeric\n",
    "len(df.select_dtypes(\"number\").columns) # count of numeric columns"
   ]
  },
  {
   "cell_type": "code",
   "execution_count": 7,
   "id": "3b3081a6-ea1b-490d-b0b7-9d7ba2bbdd0a",
   "metadata": {
    "tags": []
   },
   "outputs": [
    {
     "data": {
      "text/plain": [
       "10"
      ]
     },
     "execution_count": 7,
     "metadata": {},
     "output_type": "execute_result"
    }
   ],
   "source": [
    "#select object columns\n",
    "len(df.select_dtypes(\"object\").columns) #count of object columns"
   ]
  },
  {
   "cell_type": "code",
   "execution_count": 8,
   "id": "227b2e54-296a-48aa-b327-fb818cb275f8",
   "metadata": {
    "tags": []
   },
   "outputs": [
    {
     "data": {
      "text/html": [
       "<div>\n",
       "<style scoped>\n",
       "    .dataframe tbody tr th:only-of-type {\n",
       "        vertical-align: middle;\n",
       "    }\n",
       "\n",
       "    .dataframe tbody tr th {\n",
       "        vertical-align: top;\n",
       "    }\n",
       "\n",
       "    .dataframe thead th {\n",
       "        text-align: right;\n",
       "    }\n",
       "</style>\n",
       "<table border=\"1\" class=\"dataframe\">\n",
       "  <thead>\n",
       "    <tr style=\"text-align: right;\">\n",
       "      <th></th>\n",
       "      <th>cwes</th>\n",
       "    </tr>\n",
       "  </thead>\n",
       "  <tbody>\n",
       "    <tr>\n",
       "      <th>count</th>\n",
       "      <td>0.0</td>\n",
       "    </tr>\n",
       "    <tr>\n",
       "      <th>mean</th>\n",
       "      <td>NaN</td>\n",
       "    </tr>\n",
       "    <tr>\n",
       "      <th>std</th>\n",
       "      <td>NaN</td>\n",
       "    </tr>\n",
       "    <tr>\n",
       "      <th>min</th>\n",
       "      <td>NaN</td>\n",
       "    </tr>\n",
       "    <tr>\n",
       "      <th>25%</th>\n",
       "      <td>NaN</td>\n",
       "    </tr>\n",
       "    <tr>\n",
       "      <th>50%</th>\n",
       "      <td>NaN</td>\n",
       "    </tr>\n",
       "    <tr>\n",
       "      <th>75%</th>\n",
       "      <td>NaN</td>\n",
       "    </tr>\n",
       "    <tr>\n",
       "      <th>max</th>\n",
       "      <td>NaN</td>\n",
       "    </tr>\n",
       "  </tbody>\n",
       "</table>\n",
       "</div>"
      ],
      "text/plain": [
       "       cwes\n",
       "count   0.0\n",
       "mean    NaN\n",
       "std     NaN\n",
       "min     NaN\n",
       "25%     NaN\n",
       "50%     NaN\n",
       "75%     NaN\n",
       "max     NaN"
      ]
     },
     "execution_count": 8,
     "metadata": {},
     "output_type": "execute_result"
    }
   ],
   "source": [
    "df.describe()"
   ]
  },
  {
   "cell_type": "markdown",
   "id": "0b308bbe-b406-4162-832f-426b3f9b2580",
   "metadata": {},
   "source": [
    "**What I see:**\n",
    "\n",
    "\n",
    "- I have 1140 rows and 11columns\n",
    "- 1 of the 11 columns are numric while 10 of them are string object colums\n",
    "- the numeric column `cwes` is null\n",
    "- the `notes` column has 373 non null rows\n",
    "- descriptive statistics says nothing on the `cwes` empty column"
   ]
  },
  {
   "cell_type": "code",
   "execution_count": 9,
   "id": "a31c5664",
   "metadata": {},
   "outputs": [
    {
     "data": {
      "text/plain": [
       "Index(['vendorProject', 'product', 'vulnerabilityName', 'shortDescription',\n",
       "       'requiredAction', 'dueDate', 'knownRansomwareCampaignUse', 'notes'],\n",
       "      dtype='object')"
      ]
     },
     "execution_count": 9,
     "metadata": {},
     "output_type": "execute_result"
    }
   ],
   "source": [
    "# remove the non useul unique id and the emplt column\n",
    "df = df.drop(columns=[\"cveID\", \"dateAdded\",\"cwes\"])\n",
    "df.columns"
   ]
  },
  {
   "cell_type": "code",
   "execution_count": 10,
   "id": "85d38c32",
   "metadata": {},
   "outputs": [
    {
     "data": {
      "text/plain": [
       "['vendor Project',\n",
       " 'product',\n",
       " 'vulnerability Name',\n",
       " 'short Description',\n",
       " 'required Action',\n",
       " 'due Date',\n",
       " 'known Ransomware Campaign Use',\n",
       " 'notes']"
      ]
     },
     "execution_count": 10,
     "metadata": {},
     "output_type": "execute_result"
    }
   ],
   "source": [
    "# nanipulate the column names to a clear name\n",
    "spaced_cols = []\n",
    "col_renamed = \"\"\n",
    "for name in df.columns:\n",
    "    for ele in name:\n",
    "        if ele == ele.upper():\n",
    "            col_renamed += \" \" + ele\n",
    "        else:\n",
    "            col_renamed += ele\n",
    "    spaced_cols.append(col_renamed)\n",
    "    col_renamed = \"\"\n",
    "\n",
    "df.columns = spaced_cols\n",
    "spaced_cols"
   ]
  },
  {
   "cell_type": "code",
   "execution_count": 11,
   "id": "5dd99db1-142c-4f1b-94e8-35326f5ee63a",
   "metadata": {
    "scrolled": true
   },
   "outputs": [
    {
     "data": {
      "text/plain": [
       "Index(['vendor_project', 'product', 'vulnerability_name', 'short_description',\n",
       "       'required_action', 'due_date', 'known_ransomware_campaign_use',\n",
       "       'notes'],\n",
       "      dtype='object')"
      ]
     },
     "execution_count": 11,
     "metadata": {},
     "output_type": "execute_result"
    }
   ],
   "source": [
    "# remove spaces from the ends\n",
    "# replace \" \" with _\n",
    "# convert from lower case\n",
    "new_cols = df.columns.str.strip().str.replace(\" \", \"_\").str.lower()\n",
    "df.columns = new_cols #replace the original columns with the new columns\n",
    "df.columns"
   ]
  },
  {
   "cell_type": "code",
   "execution_count": 12,
   "id": "bcc50d5f",
   "metadata": {},
   "outputs": [
    {
     "name": "stdout",
     "output_type": "stream",
     "text": [
      "original data size:  (1140, 8)\n",
      "new data size:  (1099, 8)\n"
     ]
    }
   ],
   "source": [
    "# remove duplicated rows\n",
    "print(\"original data size: \", df.shape)\n",
    "df = df.drop_duplicates(keep=\"first\")\n",
    "print(\"new data size: \", df.shape)"
   ]
  },
  {
   "cell_type": "code",
   "execution_count": 13,
   "id": "e7c172b9",
   "metadata": {},
   "outputs": [
    {
     "data": {
      "text/plain": [
       "((659, 8), (220, 8), (220, 8))"
      ]
     },
     "execution_count": 13,
     "metadata": {},
     "output_type": "execute_result"
    }
   ],
   "source": [
    "# Split the data into 3 sets\n",
    "train, validate, test = wrangle_.split_data_(df=df, \n",
    "                     test_size=0.2, \n",
    "                     validate_size= 0.2, \n",
    "                     stratify_col=\"known_ransomware_campaign_use\", \n",
    "                     random_state=10)\n",
    "train.shape, validate.shape, test.shape"
   ]
  },
  {
   "cell_type": "code",
   "execution_count": 14,
   "id": "f1563a57",
   "metadata": {},
   "outputs": [],
   "source": [
    "# reset index\n",
    "train = train.reset_index(drop=True)"
   ]
  },
  {
   "cell_type": "code",
   "execution_count": 15,
   "id": "539fcff4",
   "metadata": {
    "scrolled": false
   },
   "outputs": [
    {
     "name": "stdout",
     "output_type": "stream",
     "text": [
      "<bound method IndexOpsMixin.value_counts of 0          Zimbra\n",
      "1          Google\n",
      "2      SolarWinds\n",
      "3         Mozilla\n",
      "4           Rails\n",
      "          ...    \n",
      "654         Adobe\n",
      "655     Hikvision\n",
      "656     Microsoft\n",
      "657         Cisco\n",
      "658        Google\n",
      "Name: vendor_project, Length: 659, dtype: object>\n",
      "unique value count size: (121,)\n",
      "\n",
      "\n",
      "\n",
      "<bound method IndexOpsMixin.value_counts of 0                         Collaboration (ZCS)\n",
      "1                                 Chromium V8\n",
      "2                                      Serv-U\n",
      "3                     Firefox and Thunderbird\n",
      "4                               Ruby on Rails\n",
      "                        ...                  \n",
      "654                                ColdFusion\n",
      "655               Security cameras web server\n",
      "656                         Internet Explorer\n",
      "657    IOS Software and Cisco IOS XE Software\n",
      "658                               Chromium V8\n",
      "Name: product, Length: 659, dtype: object>\n",
      "unique value count size: (308,)\n",
      "\n",
      "\n",
      "\n",
      "<bound method IndexOpsMixin.value_counts of 0      Zimbra Collaboration (ZCS) Arbitrary File Uplo...\n",
      "1      Google Chromium V8 Out-of-Bounds Write Vulnera...\n",
      "2        SolarWinds Serv-U Path Traversal Vulnerability \n",
      "3      Mozilla Firefox And Thunderbird Use-After-Free...\n",
      "4        Ruby on Rails Directory Traversal Vulnerability\n",
      "                             ...                        \n",
      "654    Adobe ColdFusion Authentication Bypass Vulnera...\n",
      "655                  Hikvision Improper Input Validation\n",
      "656    Microsoft Internet Explorer Scripting Engine M...\n",
      "657    Cisco IOS and XE Software Internet Key Exchang...\n",
      "658    Google Chromium V8 Heap Buffer Overflow Vulner...\n",
      "Name: vulnerability_name, Length: 659, dtype: object>\n",
      "unique value count size: (552,)\n",
      "\n",
      "\n",
      "\n",
      "<bound method IndexOpsMixin.value_counts of 0      Zimbra Collaboration (ZCS) allows an attacker ...\n",
      "1      Google Chromium V8 Engine contains out-of-boun...\n",
      "2      SolarWinds Serv-U contains a path traversal vu...\n",
      "3      Mozilla Firefox and Thunderbird contain a race...\n",
      "4      Directory traversal vulnerability in Action Vi...\n",
      "                             ...                        \n",
      "654    An authentication bypass vulnerability exists ...\n",
      "655    A command injection vulnerability in the web s...\n",
      "656    Microsoft Internet Explorer contains a memory ...\n",
      "657    A vulnerability in the implementation of Inter...\n",
      "658    Google Chromium V8 Engine contains a heap buff...\n",
      "Name: short_description, Length: 659, dtype: object>\n",
      "unique value count size: (645,)\n",
      "\n",
      "\n",
      "\n",
      "<bound method IndexOpsMixin.value_counts of 0                 Apply updates per vendor instructions.\n",
      "1                 Apply updates per vendor instructions.\n",
      "2      Apply mitigations per vendor instructions or d...\n",
      "3                 Apply updates per vendor instructions.\n",
      "4                 Apply updates per vendor instructions.\n",
      "                             ...                        \n",
      "654               Apply updates per vendor instructions.\n",
      "655               Apply updates per vendor instructions.\n",
      "656               Apply updates per vendor instructions.\n",
      "657               Apply updates per vendor instructions.\n",
      "658               Apply updates per vendor instructions.\n",
      "Name: required_action, Length: 659, dtype: object>\n",
      "unique value count size: (15,)\n",
      "\n",
      "\n",
      "\n",
      "<bound method IndexOpsMixin.value_counts of 0      2022-11-10\n",
      "1      2022-06-22\n",
      "2      2024-08-07\n",
      "3      2022-05-03\n",
      "4      2022-04-15\n",
      "          ...    \n",
      "654    2022-03-24\n",
      "655    2022-01-24\n",
      "656    2022-05-03\n",
      "657    2022-03-17\n",
      "658    2021-11-17\n",
      "Name: due_date, Length: 659, dtype: object>\n",
      "unique value count size: (167,)\n",
      "\n",
      "\n",
      "\n",
      "<bound method IndexOpsMixin.value_counts of 0      Unknown\n",
      "1      Unknown\n",
      "2      Unknown\n",
      "3      Unknown\n",
      "4      Unknown\n",
      "        ...   \n",
      "654    Unknown\n",
      "655    Unknown\n",
      "656    Unknown\n",
      "657    Unknown\n",
      "658    Unknown\n",
      "Name: known_ransomware_campaign_use, Length: 659, dtype: object>\n",
      "unique value count size: (2,)\n",
      "\n",
      "\n",
      "\n",
      "<bound method IndexOpsMixin.value_counts of 0           https://wiki.zimbra.com/wiki/Security_Center\n",
      "1                                                    NaN\n",
      "2      https://www.solarwinds.com/trust-center/securi...\n",
      "3                                                    NaN\n",
      "4                                                    NaN\n",
      "                             ...                        \n",
      "654                                                  NaN\n",
      "655                                                  NaN\n",
      "656                                                  NaN\n",
      "657                                                  NaN\n",
      "658                                                  NaN\n",
      "Name: notes, Length: 659, dtype: object>\n",
      "unique value count size: (199,)\n",
      "\n",
      "\n",
      "\n"
     ]
    }
   ],
   "source": [
    "# count values for each feature\n",
    "for col in train.columns:\n",
    "    print(train[col].value_counts)\n",
    "    print(\"unique value count size:\",train[col].value_counts().shape)\n",
    "    print(\"\\n\\n\")"
   ]
  },
  {
   "cell_type": "markdown",
   "id": "b0715eb2",
   "metadata": {},
   "source": [
    "# Tasks from EDA\n",
    "\n",
    "* The source of memory corruption is from 4 vendors, but it looks like it's happening on different products of these vendors, so I will go back inthe wrangle file and separate the product from the volunerability and create a additional column for specific vulnerabilities groupd by wording. (cell 7 - cell 15)"
   ]
  },
  {
   "cell_type": "code",
   "execution_count": 16,
   "id": "ab80bd5c",
   "metadata": {},
   "outputs": [],
   "source": [
    "train = pd.read_csv(\"./data/00_temp_train_data.csv\", index_col=0)\n",
    "# create a copy of the training data\n",
    "temp_train = train.copy()"
   ]
  },
  {
   "cell_type": "code",
   "execution_count": null,
   "id": "e4e1bbe3",
   "metadata": {},
   "outputs": [],
   "source": [
    "# # Privilege Escalation Vulnerability  \n",
    "# search_terms = [\"Privilege\", \"Escalation\"]\n",
    "# pattern = '|'.join(search_terms)\n",
    "\n",
    "# len(train.vulnerability_name[train['vulnerability_name'].str.contains(pattern, case=False, na=False)])"
   ]
  },
  {
   "cell_type": "code",
   "execution_count": null,
   "id": "21ec3cbc",
   "metadata": {},
   "outputs": [],
   "source": [
    "# # Memory Corruption Vulnerability\n",
    "# search_terms = [\"Memory\", \"Corruption\"]\n",
    "# pattern = '|'.join(search_terms)\n",
    "\n",
    "# len(train.vulnerability_name[train['vulnerability_name'].str.contains(pattern, case=False, na=False)])"
   ]
  },
  {
   "cell_type": "code",
   "execution_count": null,
   "id": "7626250e",
   "metadata": {},
   "outputs": [],
   "source": [
    "# # Arbitrary File Upload Vulnerability\n",
    "# search_terms = [\"File\", \"Upload\"]\n",
    "# pattern = '|'.join(search_terms)\n",
    "\n",
    "# len(train.vulnerability_name[train['vulnerability_name'].str.contains(pattern, case=False, na=False)])"
   ]
  },
  {
   "cell_type": "code",
   "execution_count": null,
   "id": "27743374",
   "metadata": {},
   "outputs": [],
   "source": [
    "# # Remote/Arbitrary Code Execution Vulnerability \n",
    "# search_terms = [\"Execution\", \"Remote\", \"Arbitrary\"]\n",
    "# pattern = '|'.join(search_terms)\n",
    "\n",
    "# len(train.vulnerability_name[train['vulnerability_name'].str.contains(pattern, case=False, na=False)])"
   ]
  },
  {
   "cell_type": "code",
   "execution_count": null,
   "id": "a349b82f",
   "metadata": {},
   "outputs": [],
   "source": [
    "# # Improper Access Control Vulnerability\n",
    "# search_terms = [\"Access\", \"Improper\", \"Control\"]\n",
    "# pattern = '|'.join(search_terms)\n",
    "\n",
    "# len(train.vulnerability_name[train['vulnerability_name'].str.contains(pattern, case=False, na=False)])"
   ]
  },
  {
   "cell_type": "code",
   "execution_count": null,
   "id": "60a6d14a",
   "metadata": {},
   "outputs": [],
   "source": [
    "# # Command Injection Vulnerability\n",
    "# search_terms = [\"Injection\", \"Command\", \"SQL\"]\n",
    "# pattern = '|'.join(search_terms)\n",
    "\n",
    "# len(train.vulnerability_name[train['vulnerability_name'].str.contains(pattern, case=False, na=False)])"
   ]
  },
  {
   "cell_type": "code",
   "execution_count": null,
   "id": "a0823634",
   "metadata": {},
   "outputs": [],
   "source": [
    "# # Use-After-Free Vulnerability \n",
    "# search_terms = [\"Use-After\", \"Use-After-Free\"]\n",
    "# pattern = '|'.join(search_terms)\n",
    "\n",
    "# len(train.vulnerability_name[train['vulnerability_name'].str.contains(pattern, case=False, na=False)])"
   ]
  },
  {
   "cell_type": "code",
   "execution_count": null,
   "id": "2983eacb",
   "metadata": {},
   "outputs": [],
   "source": [
    "# # Deserialization of Untrusted Data Vulnerability\n",
    "# search_terms = [\"Deserialization\", \"Untrusted\"]\n",
    "# pattern = '|'.join(search_terms)\n",
    "\n",
    "# len(train.vulnerability_name[train['vulnerability_name'].str.contains(pattern, case=False, na=False)])"
   ]
  },
  {
   "cell_type": "code",
   "execution_count": null,
   "id": "10da434b",
   "metadata": {},
   "outputs": [],
   "source": [
    "# # Type Confusion Vulnerability  \n",
    "# search_terms = [\"Type Confusion\"]\n",
    "# pattern = '|'.join(search_terms)\n",
    "\n",
    "# len(train.vulnerability_name[train['vulnerability_name'].str.contains(pattern, case=False, na=False)])"
   ]
  },
  {
   "cell_type": "code",
   "execution_count": null,
   "id": "0a99438d",
   "metadata": {},
   "outputs": [],
   "source": [
    "# # Path Traversal Vulnerability\n",
    "# search_terms = [\"Traversal\", \"path\"]\n",
    "# pattern = '|'.join(search_terms)\n",
    "\n",
    "# len(train.vulnerability_name[train['vulnerability_name'].str.contains(pattern, case=False, na=False)])"
   ]
  },
  {
   "cell_type": "code",
   "execution_count": null,
   "id": "4101468f",
   "metadata": {},
   "outputs": [],
   "source": [
    "# # Buffer Overflow Vulnerability\n",
    "# search_terms = [\"Buffer\", \"Overflow\", \"Heap\"]\n",
    "# pattern = '|'.join(search_terms)\n",
    "\n",
    "# len(train.vulnerability_name[train['vulnerability_name'].str.contains(pattern, case=False, na=False)])"
   ]
  },
  {
   "cell_type": "code",
   "execution_count": null,
   "id": "3b0f4191",
   "metadata": {},
   "outputs": [],
   "source": [
    "# # Denial of Service Vulnerability \n",
    "# search_terms = [\"Denial\", \"Service\"]\n",
    "# pattern = '|'.join(search_terms)\n",
    "\n",
    "# len(train.vulnerability_name[train['vulnerability_name'].str.contains(pattern, case=False, na=False)])"
   ]
  },
  {
   "cell_type": "code",
   "execution_count": null,
   "id": "d5128e5a",
   "metadata": {},
   "outputs": [],
   "source": [
    "# # Information Disclosure Vulnerability\n",
    "# search_terms = [\"Information\", \"Disclosure\"]\n",
    "# pattern = '|'.join(search_terms)\n",
    "\n",
    "# len(train.vulnerability_name[train['vulnerability_name'].str.contains(pattern, case=False, na=False)])"
   ]
  },
  {
   "cell_type": "code",
   "execution_count": null,
   "id": "14de5790",
   "metadata": {},
   "outputs": [],
   "source": [
    "# # Out-of-Bounds Write Vulnerability\n",
    "# search_terms = [\"Out-of-Bounds\", \"Write\", \"Bounds\"]\n",
    "# pattern = '|'.join(search_terms)\n",
    "\n",
    "# len(train.vulnerability_name[train['vulnerability_name'].str.contains(pattern, case=False, na=False)])"
   ]
  },
  {
   "cell_type": "code",
   "execution_count": null,
   "id": "4dfca321",
   "metadata": {},
   "outputs": [],
   "source": [
    "# # Sandbox Bypass Vulnerability \n",
    "# search_terms = [\"Sandbox\", \"Bypass\"]\n",
    "# pattern = '|'.join(search_terms)\n",
    "\n",
    "# len(train.vulnerability_name[train['vulnerability_name'].str.contains(pattern, case=False, na=False)])"
   ]
  },
  {
   "cell_type": "code",
   "execution_count": null,
   "id": "393df88d",
   "metadata": {},
   "outputs": [],
   "source": [
    "# # Arbitrary File Upload Vulnerability\n",
    "# search_terms = [\"Unspecified\"]\n",
    "# pattern = '|'.join(search_terms)\n",
    "\n",
    "# train.vulnerability_name[train['vulnerability_name'].str.contains(pattern, case=False, na=False)]"
   ]
  },
  {
   "cell_type": "markdown",
   "id": "1674740e",
   "metadata": {},
   "source": [
    "#### I cam combine all of the obove conditions into one as I engineer a new feature for vulnerabilities"
   ]
  },
  {
   "cell_type": "code",
   "execution_count": 23,
   "id": "89a73a40",
   "metadata": {},
   "outputs": [],
   "source": [
    "# Create a function that handles feature engineering for vulnerability names\n",
    "def feature_eng_vul_names(data_frame):\n",
    "    # Define the conditions\n",
    "    conditions = [\n",
    "        data_frame['vulnerability_name'].str.contains(r'Privilege|Escalation', case=False, na=False),\n",
    "        data_frame['vulnerability_name'].str.contains(r'Memory|Corruption', case=False, na=False),\n",
    "        data_frame['vulnerability_name'].str.contains(r'File|Upload', case=False, na=False),\n",
    "        data_frame['vulnerability_name'].str.contains(r'Remote Code', case=False, na=False),\n",
    "        data_frame['vulnerability_name'].str.contains(r'Access|Improper|Control', case=False, na=False),\n",
    "        data_frame['vulnerability_name'].str.contains(r'Injection|Command|SQL', case=False, na=False),\n",
    "        data_frame['vulnerability_name'].str.contains(r'Use-After|Use-After-Free', case=False, na=False),\n",
    "        data_frame['vulnerability_name'].str.contains(r'Deserialization|Untrusted', case=False, na=False),\n",
    "        data_frame['vulnerability_name'].str.contains(r'Type Confusion', case=False, na=False),\n",
    "        data_frame['vulnerability_name'].str.contains(r'Traversal|path', case=False, na=False),\n",
    "        data_frame['vulnerability_name'].str.contains(r'Buffer|Overflow|Heap', case=False, na=False),\n",
    "        data_frame['vulnerability_name'].str.contains(r'Denial|Service', case=False, na=False),\n",
    "        data_frame['vulnerability_name'].str.contains(r'Information|Disclosure', case=False, na=False),\n",
    "        data_frame['vulnerability_name'].str.contains(r'Out-of-Bounds|Write|Bounds', case=False, na=False),\n",
    "        data_frame['vulnerability_name'].str.contains(r'Sandbox|Bypass', case=False, na=False),\n",
    "        data_frame['vulnerability_name'].str.contains(r'Unspecified', case=False, na=False),\n",
    "        data_frame['vulnerability_name'].str.contains(r'Spoofing', case=False, na=False),\n",
    "        data_frame['vulnerability_name'].str.contains(r'Input|Validation', case=False, na=False),\n",
    "        data_frame['vulnerability_name'].str.contains(r'Hard-Coded|Credentials', case=False, na=False),\n",
    "        data_frame['vulnerability_name'].str.contains(r'Forgery|SSRF|Request|Server', case=False, na=False),\n",
    "        data_frame['vulnerability_name'].str.contains(r'Scripting|XSS|Cross|Site', case=False, na=False),\n",
    "        data_frame['vulnerability_name'].str.contains(r'Arbitrary Code', case=False, na=False)\n",
    "    ]\n",
    "\n",
    "    # Define the corresponding values for the new feature\n",
    "    choices = [\n",
    "        \"Privilege Escalation Vulnerability\",\n",
    "        \"Memory Corruption Vulnerability\",\n",
    "        \"File Upload Vulnerability\",\n",
    "        \"Remote Code Execution Vulnerability\",\n",
    "        \"Improper Access Control Vulnerability\",\n",
    "        \"Command Injection Vulnerability\",\n",
    "        \"Use-After-Free Vulnerability\",\n",
    "        \"Deserialization of Untrusted Data Vulnerability\",\n",
    "        \"Type Confusion Vulnerability\",\n",
    "        \"Path Traversal Vulnerability\",\n",
    "        \"Buffer Overflow Vulnerability\",\n",
    "        \"Denial of Service Vulnerability\",\n",
    "        \"Information Disclosure Vulnerability\",\n",
    "        \"Out-of-Bounds Write Vulnerability\",\n",
    "        \"Sandbox Bypass Vulnerability\",\n",
    "        \"Arbitrary File Upload Vulnerability\",\n",
    "        \"Spoofing Vulnerabilities\",\n",
    "        \"Input Validation Vulnerabilities\",\n",
    "        \"Use of Hard-Coded Credentials Vulnerabilities\",\n",
    "        \"Server-Side Request Forgery (SSRF) Vulnerabilities\",\n",
    "        \"Cross-Site Scripting (XSS) Vulnerabilities\",\n",
    "        \"Arbitrary Code Execution Vulnerability\",\n",
    "    ]\n",
    "\n",
    "    # Use np.select to create the new feature\n",
    "    data_frame['vulnerability_type'] = np.select(conditions, choices, default=\"Other Vulnerability\")\n",
    "    return data_frame\n"
   ]
  },
  {
   "cell_type": "markdown",
   "id": "1b1034c4",
   "metadata": {},
   "source": [
    "#### The newly engineered feature values"
   ]
  },
  {
   "cell_type": "code",
   "execution_count": 24,
   "id": "e66fff41",
   "metadata": {},
   "outputs": [
    {
     "data": {
      "text/plain": [
       "vulnerability_type\n",
       "Privilege Escalation Vulnerability                    93\n",
       "Remote Code Execution Vulnerability                   90\n",
       "Command Injection Vulnerability                       59\n",
       "Improper Access Control Vulnerability                 46\n",
       "Sandbox Bypass Vulnerability                          43\n",
       "Memory Corruption Vulnerability                       39\n",
       "Buffer Overflow Vulnerability                         39\n",
       "Use-After-Free Vulnerability                          35\n",
       "Other Vulnerability                                   34\n",
       "Path Traversal Vulnerability                          24\n",
       "Information Disclosure Vulnerability                  23\n",
       "File Upload Vulnerability                             20\n",
       "Out-of-Bounds Write Vulnerability                     18\n",
       "Denial of Service Vulnerability                       18\n",
       "Deserialization of Untrusted Data Vulnerability       16\n",
       "Type Confusion Vulnerability                          15\n",
       "Arbitrary File Upload Vulnerability                   12\n",
       "Cross-Site Scripting (XSS) Vulnerabilities             8\n",
       "Server-Side Request Forgery (SSRF) Vulnerabilities     7\n",
       "Input Validation Vulnerabilities                       7\n",
       "Arbitrary Code Execution Vulnerability                 7\n",
       "Use of Hard-Coded Credentials Vulnerabilities          3\n",
       "Spoofing Vulnerabilities                               3\n",
       "Name: count, dtype: int64"
      ]
     },
     "execution_count": 24,
     "metadata": {},
     "output_type": "execute_result"
    }
   ],
   "source": [
    "feature_eng_vul_names(train).vulnerability_type.value_counts()"
   ]
  },
  {
   "cell_type": "markdown",
   "id": "4fba3743",
   "metadata": {},
   "source": [
    "* Apply data spliting here ater preping is done."
   ]
  },
  {
   "cell_type": "code",
   "execution_count": 25,
   "id": "558cc386",
   "metadata": {},
   "outputs": [
    {
     "data": {
      "text/html": [
       "<div>\n",
       "<style scoped>\n",
       "    .dataframe tbody tr th:only-of-type {\n",
       "        vertical-align: middle;\n",
       "    }\n",
       "\n",
       "    .dataframe tbody tr th {\n",
       "        vertical-align: top;\n",
       "    }\n",
       "\n",
       "    .dataframe thead th {\n",
       "        text-align: right;\n",
       "    }\n",
       "</style>\n",
       "<table border=\"1\" class=\"dataframe\">\n",
       "  <thead>\n",
       "    <tr style=\"text-align: right;\">\n",
       "      <th></th>\n",
       "      <th>vendor_project</th>\n",
       "      <th>product</th>\n",
       "      <th>vulnerability_name</th>\n",
       "      <th>short_description</th>\n",
       "      <th>required_action</th>\n",
       "      <th>due_date</th>\n",
       "      <th>known_ransomware_campaign_use</th>\n",
       "      <th>notes</th>\n",
       "      <th>vulnerability_type</th>\n",
       "    </tr>\n",
       "  </thead>\n",
       "  <tbody>\n",
       "    <tr>\n",
       "      <th>0</th>\n",
       "      <td>Accellion</td>\n",
       "      <td>FTA</td>\n",
       "      <td>Accellion FTA OS Command Injection Vulnerability</td>\n",
       "      <td>Accellion FTA contains an OS command injection...</td>\n",
       "      <td>Apply updates per vendor instructions.</td>\n",
       "      <td>2021-11-17</td>\n",
       "      <td>Known</td>\n",
       "      <td>NaN</td>\n",
       "      <td>Command Injection Vulnerability</td>\n",
       "    </tr>\n",
       "    <tr>\n",
       "      <th>1</th>\n",
       "      <td>Accellion</td>\n",
       "      <td>FTA</td>\n",
       "      <td>Accellion FTA OS Command Injection Vulnerability</td>\n",
       "      <td>Accellion FTA contains an OS command injection...</td>\n",
       "      <td>Apply updates per vendor instructions.</td>\n",
       "      <td>2021-11-17</td>\n",
       "      <td>Known</td>\n",
       "      <td>NaN</td>\n",
       "      <td>Command Injection Vulnerability</td>\n",
       "    </tr>\n",
       "    <tr>\n",
       "      <th>2</th>\n",
       "      <td>Accellion</td>\n",
       "      <td>FTA</td>\n",
       "      <td>Accellion FTA SQL Injection Vulnerability</td>\n",
       "      <td>Accellion FTA contains a SQL injection vulnera...</td>\n",
       "      <td>Apply updates per vendor instructions.</td>\n",
       "      <td>2021-11-17</td>\n",
       "      <td>Known</td>\n",
       "      <td>NaN</td>\n",
       "      <td>Command Injection Vulnerability</td>\n",
       "    </tr>\n",
       "    <tr>\n",
       "      <th>3</th>\n",
       "      <td>Accellion</td>\n",
       "      <td>FTA</td>\n",
       "      <td>Accellion FTA Server-Side Request Forgery (SSR...</td>\n",
       "      <td>Accellion FTA contains a server-side request f...</td>\n",
       "      <td>Apply updates per vendor instructions.</td>\n",
       "      <td>2021-11-17</td>\n",
       "      <td>Known</td>\n",
       "      <td>NaN</td>\n",
       "      <td>Server-Side Request Forgery (SSRF) Vulnerabili...</td>\n",
       "    </tr>\n",
       "    <tr>\n",
       "      <th>4</th>\n",
       "      <td>Adobe</td>\n",
       "      <td>Acrobat and Reader</td>\n",
       "      <td>Adobe Acrobat and Reader Heap-based Buffer Ove...</td>\n",
       "      <td>Acrobat Acrobat and Reader contain a heap-base...</td>\n",
       "      <td>Apply updates per vendor instructions.</td>\n",
       "      <td>2021-11-17</td>\n",
       "      <td>Unknown</td>\n",
       "      <td>NaN</td>\n",
       "      <td>Buffer Overflow Vulnerability</td>\n",
       "    </tr>\n",
       "    <tr>\n",
       "      <th>...</th>\n",
       "      <td>...</td>\n",
       "      <td>...</td>\n",
       "      <td>...</td>\n",
       "      <td>...</td>\n",
       "      <td>...</td>\n",
       "      <td>...</td>\n",
       "      <td>...</td>\n",
       "      <td>...</td>\n",
       "      <td>...</td>\n",
       "    </tr>\n",
       "    <tr>\n",
       "      <th>1135</th>\n",
       "      <td>Microsoft</td>\n",
       "      <td>Internet Explorer</td>\n",
       "      <td>Microsoft Internet Explorer Use-After-Free Vul...</td>\n",
       "      <td>Microsoft Internet Explorer contains a use-aft...</td>\n",
       "      <td>The impacted product is end-of-life and should...</td>\n",
       "      <td>2024-08-13</td>\n",
       "      <td>Unknown</td>\n",
       "      <td>https://learn.microsoft.com/en-us/lifecycle/pr...</td>\n",
       "      <td>Use-After-Free Vulnerability</td>\n",
       "    </tr>\n",
       "    <tr>\n",
       "      <th>1136</th>\n",
       "      <td>Acronis</td>\n",
       "      <td>Cyber Infrastructure (ACI)</td>\n",
       "      <td>Acronis Cyber Infrastructure (ACI) Insecure De...</td>\n",
       "      <td>Acronis Cyber Infrastructure (ACI) allows an u...</td>\n",
       "      <td>Apply mitigations per vendor instructions or d...</td>\n",
       "      <td>2024-08-19</td>\n",
       "      <td>Unknown</td>\n",
       "      <td>https://security-advisory.acronis.com/advisori...</td>\n",
       "      <td>Other Vulnerability</td>\n",
       "    </tr>\n",
       "    <tr>\n",
       "      <th>1137</th>\n",
       "      <td>ServiceNow</td>\n",
       "      <td>Utah, Vancouver, and Washington DC Now</td>\n",
       "      <td>ServiceNow Incomplete List of Disallowed Input...</td>\n",
       "      <td>ServiceNow Washington DC, Vancouver, and earli...</td>\n",
       "      <td>Apply mitigations per vendor instructions or d...</td>\n",
       "      <td>2024-08-19</td>\n",
       "      <td>Unknown</td>\n",
       "      <td>https://support.servicenow.com/kb?id=kb_articl...</td>\n",
       "      <td>Denial of Service Vulnerability</td>\n",
       "    </tr>\n",
       "    <tr>\n",
       "      <th>1138</th>\n",
       "      <td>ServiceNow</td>\n",
       "      <td>Utah, Vancouver, and Washington DC Now</td>\n",
       "      <td>ServiceNow Improper Input Validation Vulnerabi...</td>\n",
       "      <td>ServiceNow Utah, Vancouver, and Washington DC ...</td>\n",
       "      <td>Apply mitigations per vendor instructions or d...</td>\n",
       "      <td>2024-08-19</td>\n",
       "      <td>Unknown</td>\n",
       "      <td>https://support.servicenow.com/kb?id=kb_articl...</td>\n",
       "      <td>Improper Access Control Vulnerability</td>\n",
       "    </tr>\n",
       "    <tr>\n",
       "      <th>1139</th>\n",
       "      <td>VMware</td>\n",
       "      <td>ESXi</td>\n",
       "      <td>VMware ESXi Authentication Bypass Vulnerability</td>\n",
       "      <td>VMware ESXi contains an authentication bypass ...</td>\n",
       "      <td>Apply mitigations per vendor instructions or d...</td>\n",
       "      <td>2024-08-20</td>\n",
       "      <td>Known</td>\n",
       "      <td>https://support.broadcom.com/web/ecx/support-c...</td>\n",
       "      <td>Sandbox Bypass Vulnerability</td>\n",
       "    </tr>\n",
       "  </tbody>\n",
       "</table>\n",
       "<p>1099 rows × 9 columns</p>\n",
       "</div>"
      ],
      "text/plain": [
       "     vendor_project                                 product  \\\n",
       "0         Accellion                                     FTA   \n",
       "1         Accellion                                     FTA   \n",
       "2         Accellion                                     FTA   \n",
       "3         Accellion                                     FTA   \n",
       "4             Adobe                      Acrobat and Reader   \n",
       "...             ...                                     ...   \n",
       "1135      Microsoft                       Internet Explorer   \n",
       "1136        Acronis              Cyber Infrastructure (ACI)   \n",
       "1137     ServiceNow  Utah, Vancouver, and Washington DC Now   \n",
       "1138     ServiceNow  Utah, Vancouver, and Washington DC Now   \n",
       "1139         VMware                                    ESXi   \n",
       "\n",
       "                                     vulnerability_name  \\\n",
       "0      Accellion FTA OS Command Injection Vulnerability   \n",
       "1      Accellion FTA OS Command Injection Vulnerability   \n",
       "2             Accellion FTA SQL Injection Vulnerability   \n",
       "3     Accellion FTA Server-Side Request Forgery (SSR...   \n",
       "4     Adobe Acrobat and Reader Heap-based Buffer Ove...   \n",
       "...                                                 ...   \n",
       "1135  Microsoft Internet Explorer Use-After-Free Vul...   \n",
       "1136  Acronis Cyber Infrastructure (ACI) Insecure De...   \n",
       "1137  ServiceNow Incomplete List of Disallowed Input...   \n",
       "1138  ServiceNow Improper Input Validation Vulnerabi...   \n",
       "1139    VMware ESXi Authentication Bypass Vulnerability   \n",
       "\n",
       "                                      short_description  \\\n",
       "0     Accellion FTA contains an OS command injection...   \n",
       "1     Accellion FTA contains an OS command injection...   \n",
       "2     Accellion FTA contains a SQL injection vulnera...   \n",
       "3     Accellion FTA contains a server-side request f...   \n",
       "4     Acrobat Acrobat and Reader contain a heap-base...   \n",
       "...                                                 ...   \n",
       "1135  Microsoft Internet Explorer contains a use-aft...   \n",
       "1136  Acronis Cyber Infrastructure (ACI) allows an u...   \n",
       "1137  ServiceNow Washington DC, Vancouver, and earli...   \n",
       "1138  ServiceNow Utah, Vancouver, and Washington DC ...   \n",
       "1139  VMware ESXi contains an authentication bypass ...   \n",
       "\n",
       "                                        required_action    due_date  \\\n",
       "0                Apply updates per vendor instructions.  2021-11-17   \n",
       "1                Apply updates per vendor instructions.  2021-11-17   \n",
       "2                Apply updates per vendor instructions.  2021-11-17   \n",
       "3                Apply updates per vendor instructions.  2021-11-17   \n",
       "4                Apply updates per vendor instructions.  2021-11-17   \n",
       "...                                                 ...         ...   \n",
       "1135  The impacted product is end-of-life and should...  2024-08-13   \n",
       "1136  Apply mitigations per vendor instructions or d...  2024-08-19   \n",
       "1137  Apply mitigations per vendor instructions or d...  2024-08-19   \n",
       "1138  Apply mitigations per vendor instructions or d...  2024-08-19   \n",
       "1139  Apply mitigations per vendor instructions or d...  2024-08-20   \n",
       "\n",
       "     known_ransomware_campaign_use  \\\n",
       "0                            Known   \n",
       "1                            Known   \n",
       "2                            Known   \n",
       "3                            Known   \n",
       "4                          Unknown   \n",
       "...                            ...   \n",
       "1135                       Unknown   \n",
       "1136                       Unknown   \n",
       "1137                       Unknown   \n",
       "1138                       Unknown   \n",
       "1139                         Known   \n",
       "\n",
       "                                                  notes  \\\n",
       "0                                                   NaN   \n",
       "1                                                   NaN   \n",
       "2                                                   NaN   \n",
       "3                                                   NaN   \n",
       "4                                                   NaN   \n",
       "...                                                 ...   \n",
       "1135  https://learn.microsoft.com/en-us/lifecycle/pr...   \n",
       "1136  https://security-advisory.acronis.com/advisori...   \n",
       "1137  https://support.servicenow.com/kb?id=kb_articl...   \n",
       "1138  https://support.servicenow.com/kb?id=kb_articl...   \n",
       "1139  https://support.broadcom.com/web/ecx/support-c...   \n",
       "\n",
       "                                     vulnerability_type  \n",
       "0                       Command Injection Vulnerability  \n",
       "1                       Command Injection Vulnerability  \n",
       "2                       Command Injection Vulnerability  \n",
       "3     Server-Side Request Forgery (SSRF) Vulnerabili...  \n",
       "4                         Buffer Overflow Vulnerability  \n",
       "...                                                 ...  \n",
       "1135                       Use-After-Free Vulnerability  \n",
       "1136                                Other Vulnerability  \n",
       "1137                    Denial of Service Vulnerability  \n",
       "1138              Improper Access Control Vulnerability  \n",
       "1139                       Sandbox Bypass Vulnerability  \n",
       "\n",
       "[1099 rows x 9 columns]"
      ]
     },
     "execution_count": 25,
     "metadata": {},
     "output_type": "execute_result"
    }
   ],
   "source": [
    "feature_eng_vul_names(df)"
   ]
  },
  {
   "cell_type": "code",
   "execution_count": 26,
   "id": "886bbc98",
   "metadata": {},
   "outputs": [
    {
     "data": {
      "text/plain": [
       "((659, 9), (220, 9), (220, 9))"
      ]
     },
     "execution_count": 26,
     "metadata": {},
     "output_type": "execute_result"
    }
   ],
   "source": [
    "# Split the data into 3 sets\n",
    "train, validate, test = wrangle_.split_data_(df=df, \n",
    "                     test_size=0.2, \n",
    "                     validate_size= 0.2, \n",
    "                     stratify_col=\"known_ransomware_campaign_use\", \n",
    "                     random_state=10)\n",
    "train.shape, validate.shape, test.shape"
   ]
  },
  {
   "cell_type": "code",
   "execution_count": null,
   "id": "b3581585",
   "metadata": {},
   "outputs": [],
   "source": []
  }
 ],
 "metadata": {
  "kernelspec": {
   "display_name": "Python 3 (ipykernel)",
   "language": "python",
   "name": "python3"
  },
  "language_info": {
   "codemirror_mode": {
    "name": "ipython",
    "version": 3
   },
   "file_extension": ".py",
   "mimetype": "text/x-python",
   "name": "python",
   "nbconvert_exporter": "python",
   "pygments_lexer": "ipython3",
   "version": "3.11.7"
  }
 },
 "nbformat": 4,
 "nbformat_minor": 5
}
